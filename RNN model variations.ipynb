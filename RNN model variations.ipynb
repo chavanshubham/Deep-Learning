{
 "cells": [
  {
   "cell_type": "code",
   "execution_count": 2,
   "metadata": {
    "_uuid": "da0236e4b36ce514c1fec3fd72f236d1fa259131",
    "collapsed": true,
    "id": "MFMrsUp_s5wy",
    "jupyter": {
     "outputs_hidden": true
    }
   },
   "outputs": [],
   "source": [
    "# Importing the libraries\n",
    "import numpy as np\n",
    "import matplotlib.pyplot as plt\n",
    "plt.style.use('fivethirtyeight')\n",
    "import pandas as pd\n",
    "from sklearn.preprocessing import MinMaxScaler\n",
    "from keras.models import Sequential\n",
    "from keras.layers import Dense, LSTM, Dropout, GRU, Bidirectional\n",
    "from tensorflow.keras.optimizers import SGD\n",
    "import math\n",
    "from sklearn.metrics import mean_squared_error"
   ]
  },
  {
   "cell_type": "code",
   "execution_count": 3,
   "metadata": {
    "_uuid": "b288a8e2caf6196daec9cd2bc4ca78fe50345845",
    "id": "J_IZwvcZs5w0"
   },
   "outputs": [],
   "source": [
    "# Some functions to help out with\n",
    "def plot_predictions(test,predicted):\n",
    "    plt.plot(test, color='red',label='Real IBM Stock Price')\n",
    "    plt.plot(predicted, color='blue',label='Predicted IBM Stock Price')\n",
    "    plt.title('IBM Stock Price Prediction')\n",
    "    plt.xlabel('Time')\n",
    "    plt.ylabel('IBM Stock Price')\n",
    "    plt.legend()\n",
    "    plt.show()\n",
    "\n",
    "def return_rmse(test,predicted):\n",
    "    rmse = math.sqrt(mean_squared_error(test, predicted))\n",
    "    print(\"The root mean squared error is {}.\".format(rmse))"
   ]
  },
  {
   "cell_type": "code",
   "execution_count": 4,
   "metadata": {
    "_uuid": "4cf10cf27420eb383b93b15c0895139ea96c0ed3",
    "colab": {
     "base_uri": "https://localhost:8080/",
     "height": 238
    },
    "collapsed": true,
    "id": "B9ikNgENs5w1",
    "jupyter": {
     "outputs_hidden": true
    },
    "outputId": "4f484f83-71f1-4326-ece2-d222c4d75ede"
   },
   "outputs": [
    {
     "data": {
      "text/html": [
       "\n",
       "  <div id=\"df-58505f6b-bcb0-4a00-bf8e-b297fd6c23a3\">\n",
       "    <div class=\"colab-df-container\">\n",
       "      <div>\n",
       "<style scoped>\n",
       "    .dataframe tbody tr th:only-of-type {\n",
       "        vertical-align: middle;\n",
       "    }\n",
       "\n",
       "    .dataframe tbody tr th {\n",
       "        vertical-align: top;\n",
       "    }\n",
       "\n",
       "    .dataframe thead th {\n",
       "        text-align: right;\n",
       "    }\n",
       "</style>\n",
       "<table border=\"1\" class=\"dataframe\">\n",
       "  <thead>\n",
       "    <tr style=\"text-align: right;\">\n",
       "      <th></th>\n",
       "      <th>Open</th>\n",
       "      <th>High</th>\n",
       "      <th>Low</th>\n",
       "      <th>Close</th>\n",
       "      <th>Volume</th>\n",
       "      <th>Name</th>\n",
       "    </tr>\n",
       "    <tr>\n",
       "      <th>Date</th>\n",
       "      <th></th>\n",
       "      <th></th>\n",
       "      <th></th>\n",
       "      <th></th>\n",
       "      <th></th>\n",
       "      <th></th>\n",
       "    </tr>\n",
       "  </thead>\n",
       "  <tbody>\n",
       "    <tr>\n",
       "      <th>2006-01-03</th>\n",
       "      <td>39.69</td>\n",
       "      <td>41.22</td>\n",
       "      <td>38.79</td>\n",
       "      <td>40.91</td>\n",
       "      <td>24232729</td>\n",
       "      <td>AABA</td>\n",
       "    </tr>\n",
       "    <tr>\n",
       "      <th>2006-01-04</th>\n",
       "      <td>41.22</td>\n",
       "      <td>41.90</td>\n",
       "      <td>40.77</td>\n",
       "      <td>40.97</td>\n",
       "      <td>20553479</td>\n",
       "      <td>AABA</td>\n",
       "    </tr>\n",
       "    <tr>\n",
       "      <th>2006-01-05</th>\n",
       "      <td>40.93</td>\n",
       "      <td>41.73</td>\n",
       "      <td>40.85</td>\n",
       "      <td>41.53</td>\n",
       "      <td>12829610</td>\n",
       "      <td>AABA</td>\n",
       "    </tr>\n",
       "    <tr>\n",
       "      <th>2006-01-06</th>\n",
       "      <td>42.88</td>\n",
       "      <td>43.57</td>\n",
       "      <td>42.80</td>\n",
       "      <td>43.21</td>\n",
       "      <td>29422828</td>\n",
       "      <td>AABA</td>\n",
       "    </tr>\n",
       "    <tr>\n",
       "      <th>2006-01-09</th>\n",
       "      <td>43.10</td>\n",
       "      <td>43.66</td>\n",
       "      <td>42.82</td>\n",
       "      <td>43.42</td>\n",
       "      <td>16268338</td>\n",
       "      <td>AABA</td>\n",
       "    </tr>\n",
       "  </tbody>\n",
       "</table>\n",
       "</div>\n",
       "      <button class=\"colab-df-convert\" onclick=\"convertToInteractive('df-58505f6b-bcb0-4a00-bf8e-b297fd6c23a3')\"\n",
       "              title=\"Convert this dataframe to an interactive table.\"\n",
       "              style=\"display:none;\">\n",
       "        \n",
       "  <svg xmlns=\"http://www.w3.org/2000/svg\" height=\"24px\"viewBox=\"0 0 24 24\"\n",
       "       width=\"24px\">\n",
       "    <path d=\"M0 0h24v24H0V0z\" fill=\"none\"/>\n",
       "    <path d=\"M18.56 5.44l.94 2.06.94-2.06 2.06-.94-2.06-.94-.94-2.06-.94 2.06-2.06.94zm-11 1L8.5 8.5l.94-2.06 2.06-.94-2.06-.94L8.5 2.5l-.94 2.06-2.06.94zm10 10l.94 2.06.94-2.06 2.06-.94-2.06-.94-.94-2.06-.94 2.06-2.06.94z\"/><path d=\"M17.41 7.96l-1.37-1.37c-.4-.4-.92-.59-1.43-.59-.52 0-1.04.2-1.43.59L10.3 9.45l-7.72 7.72c-.78.78-.78 2.05 0 2.83L4 21.41c.39.39.9.59 1.41.59.51 0 1.02-.2 1.41-.59l7.78-7.78 2.81-2.81c.8-.78.8-2.07 0-2.86zM5.41 20L4 18.59l7.72-7.72 1.47 1.35L5.41 20z\"/>\n",
       "  </svg>\n",
       "      </button>\n",
       "      \n",
       "  <style>\n",
       "    .colab-df-container {\n",
       "      display:flex;\n",
       "      flex-wrap:wrap;\n",
       "      gap: 12px;\n",
       "    }\n",
       "\n",
       "    .colab-df-convert {\n",
       "      background-color: #E8F0FE;\n",
       "      border: none;\n",
       "      border-radius: 50%;\n",
       "      cursor: pointer;\n",
       "      display: none;\n",
       "      fill: #1967D2;\n",
       "      height: 32px;\n",
       "      padding: 0 0 0 0;\n",
       "      width: 32px;\n",
       "    }\n",
       "\n",
       "    .colab-df-convert:hover {\n",
       "      background-color: #E2EBFA;\n",
       "      box-shadow: 0px 1px 2px rgba(60, 64, 67, 0.3), 0px 1px 3px 1px rgba(60, 64, 67, 0.15);\n",
       "      fill: #174EA6;\n",
       "    }\n",
       "\n",
       "    [theme=dark] .colab-df-convert {\n",
       "      background-color: #3B4455;\n",
       "      fill: #D2E3FC;\n",
       "    }\n",
       "\n",
       "    [theme=dark] .colab-df-convert:hover {\n",
       "      background-color: #434B5C;\n",
       "      box-shadow: 0px 1px 3px 1px rgba(0, 0, 0, 0.15);\n",
       "      filter: drop-shadow(0px 1px 2px rgba(0, 0, 0, 0.3));\n",
       "      fill: #FFFFFF;\n",
       "    }\n",
       "  </style>\n",
       "\n",
       "      <script>\n",
       "        const buttonEl =\n",
       "          document.querySelector('#df-58505f6b-bcb0-4a00-bf8e-b297fd6c23a3 button.colab-df-convert');\n",
       "        buttonEl.style.display =\n",
       "          google.colab.kernel.accessAllowed ? 'block' : 'none';\n",
       "\n",
       "        async function convertToInteractive(key) {\n",
       "          const element = document.querySelector('#df-58505f6b-bcb0-4a00-bf8e-b297fd6c23a3');\n",
       "          const dataTable =\n",
       "            await google.colab.kernel.invokeFunction('convertToInteractive',\n",
       "                                                     [key], {});\n",
       "          if (!dataTable) return;\n",
       "\n",
       "          const docLinkHtml = 'Like what you see? Visit the ' +\n",
       "            '<a target=\"_blank\" href=https://colab.research.google.com/notebooks/data_table.ipynb>data table notebook</a>'\n",
       "            + ' to learn more about interactive tables.';\n",
       "          element.innerHTML = '';\n",
       "          dataTable['output_type'] = 'display_data';\n",
       "          await google.colab.output.renderOutput(dataTable, element);\n",
       "          const docLink = document.createElement('div');\n",
       "          docLink.innerHTML = docLinkHtml;\n",
       "          element.appendChild(docLink);\n",
       "        }\n",
       "      </script>\n",
       "    </div>\n",
       "  </div>\n",
       "  "
      ],
      "text/plain": [
       "             Open   High    Low  Close    Volume  Name\n",
       "Date                                                  \n",
       "2006-01-03  39.69  41.22  38.79  40.91  24232729  AABA\n",
       "2006-01-04  41.22  41.90  40.77  40.97  20553479  AABA\n",
       "2006-01-05  40.93  41.73  40.85  41.53  12829610  AABA\n",
       "2006-01-06  42.88  43.57  42.80  43.21  29422828  AABA\n",
       "2006-01-09  43.10  43.66  42.82  43.42  16268338  AABA"
      ]
     },
     "execution_count": 4,
     "metadata": {},
     "output_type": "execute_result"
    }
   ],
   "source": [
    "# First, we get the data\n",
    "dataset = pd.read_csv('/content/AABA_2006-01-01_to_2018-01-01.csv', index_col='Date', parse_dates=['Date'])\n",
    "dataset.head()"
   ]
  },
  {
   "cell_type": "code",
   "execution_count": 5,
   "metadata": {
    "_uuid": "fb4c9db6d8a5bcf20ffad41747cfa5b6215ba220",
    "collapsed": true,
    "id": "jwg8Myigs5w1",
    "jupyter": {
     "outputs_hidden": true
    }
   },
   "outputs": [],
   "source": [
    "# Checking for missing values\n",
    "training_set = dataset[:'2016'].iloc[:,1:2].values\n",
    "test_set = dataset['2017':].iloc[:,1:2].values"
   ]
  },
  {
   "cell_type": "code",
   "execution_count": 6,
   "metadata": {
    "_uuid": "bf5a9463d58e73852d2b70be9611e8cf1f4166fd",
    "colab": {
     "base_uri": "https://localhost:8080/",
     "height": 303
    },
    "collapsed": true,
    "id": "w4K30DBNs5w1",
    "jupyter": {
     "outputs_hidden": true
    },
    "outputId": "28113462-f885-4ddc-d820-92c3d0c41fd9"
   },
   "outputs": [
    {
     "data": {
      "image/png": "[encoded data removed]",
      "text/plain": [
       "<Figure size 1152x288 with 1 Axes>"
      ]
     },
     "metadata": {},
     "output_type": "display_data"
    }
   ],
   "source": [
    "# We have chosen 'High' attribute for prices. Let's see what it looks like\n",
    "dataset[\"High\"][:'2016'].plot(figsize=(16,4),legend=True)\n",
    "dataset[\"High\"]['2017':].plot(figsize=(16,4),legend=True)\n",
    "plt.legend(['Training set (Before 2017)','Test set (2017 and beyond)'])\n",
    "plt.title('IBM stock price')\n",
    "plt.show()"
   ]
  },
  {
   "cell_type": "code",
   "execution_count": 7,
   "metadata": {
    "_uuid": "bcc9c36165fc07d258bd5ea87874d2da17fa4a4d",
    "collapsed": true,
    "id": "w0hJ-52ns5w2",
    "jupyter": {
     "outputs_hidden": true
    }
   },
   "outputs": [],
   "source": [
    "# Scaling the training set\n",
    "sc = MinMaxScaler(feature_range=(0,1))\n",
    "training_set_scaled = sc.fit_transform(training_set)"
   ]
  },
  {
   "cell_type": "code",
   "execution_count": 9,
   "metadata": {
    "_uuid": "fccfb866a2b4c702e0b2742f7c0289512d713d1b",
    "collapsed": true,
    "id": "-aM3zD6As5w-",
    "jupyter": {
     "outputs_hidden": true
    }
   },
   "outputs": [],
   "source": [
    "# Since LSTMs store long term memory state, we create a data structure with 60 timesteps and 1 output\n",
    "# So for each element of training set, we have 60 previous training set elements \n",
    "X_train = []\n",
    "y_train = []\n",
    "for i in range(60,2768):\n",
    "    X_train.append(training_set_scaled[i-60:i,0])\n",
    "    y_train.append(training_set_scaled[i,0])\n",
    "X_train, y_train = np.array(X_train), np.array(y_train)"
   ]
  },
  {
   "cell_type": "code",
   "execution_count": 10,
   "metadata": {
    "_uuid": "637f699d3c4bde4b783de56ed4dd70a1bf59760d",
    "collapsed": true,
    "id": "bRoHS9THs5w-",
    "jupyter": {
     "outputs_hidden": true
    }
   },
   "outputs": [],
   "source": [
    "# Reshaping X_train for efficient modelling\n",
    "X_train = np.reshape(X_train, (X_train.shape[0],X_train.shape[1],1))"
   ]
  },
  {
   "cell_type": "markdown",
   "metadata": {
    "id": "6XXMMzU0DJJT"
   },
   "source": [
    "### 1. LSTM"
   ]
  },
  {
   "cell_type": "code",
   "execution_count": 20,
   "metadata": {
    "_uuid": "df20eb7e8062dae0a3aff2182aa440faddd0017d",
    "colab": {
     "base_uri": "https://localhost:8080/"
    },
    "collapsed": true,
    "id": "9-dzJzEGs5w_",
    "jupyter": {
     "outputs_hidden": true
    },
    "outputId": "93412ed4-7d3e-4fc8-9c91-915600399010"
   },
   "outputs": [
    {
     "name": "stdout",
     "output_type": "stream",
     "text": [
      "Model: \"sequential_5\"\n",
      "_________________________________________________________________\n",
      " Layer (type)                Output Shape              Param #   \n",
      "=================================================================\n",
      " lstm_27 (LSTM)              (None, 60, 50)            10400     \n",
      "                                                                 \n",
      " dropout_19 (Dropout)        (None, 60, 50)            0         \n",
      "                                                                 \n",
      " lstm_28 (LSTM)              (None, 60, 50)            20200     \n",
      "                                                                 \n",
      " dropout_20 (Dropout)        (None, 60, 50)            0         \n",
      "                                                                 \n",
      " lstm_29 (LSTM)              (None, 60, 50)            20200     \n",
      "                                                                 \n",
      " dropout_21 (Dropout)        (None, 60, 50)            0         \n",
      "                                                                 \n",
      " lstm_30 (LSTM)              (None, 50)                20200     \n",
      "                                                                 \n",
      " dropout_22 (Dropout)        (None, 50)                0         \n",
      "                                                                 \n",
      " dense_4 (Dense)             (None, 1)                 51        \n",
      "                                                                 \n",
      "=================================================================\n",
      "Total params: 71,051\n",
      "Trainable params: 71,051\n",
      "Non-trainable params: 0\n",
      "_________________________________________________________________\n",
      "Epoch 1/20\n",
      "85/85 [==============================] - 22s 161ms/step - loss: 0.0187\n",
      "Epoch 2/20\n",
      "85/85 [==============================] - 11s 132ms/step - loss: 0.0082\n",
      "Epoch 3/20\n",
      "85/85 [==============================] - 11s 133ms/step - loss: 0.0064\n",
      "Epoch 4/20\n",
      "85/85 [==============================] - 11s 134ms/step - loss: 0.0050\n",
      "Epoch 5/20\n",
      "85/85 [==============================] - 11s 125ms/step - loss: 0.0047\n",
      "Epoch 6/20\n",
      "85/85 [==============================] - 11s 126ms/step - loss: 0.0042\n",
      "Epoch 7/20\n",
      "85/85 [==============================] - 11s 125ms/step - loss: 0.0035\n",
      "Epoch 8/20\n",
      "85/85 [==============================] - 11s 125ms/step - loss: 0.0032\n",
      "Epoch 9/20\n",
      "85/85 [==============================] - 11s 128ms/step - loss: 0.0030\n",
      "Epoch 10/20\n",
      "85/85 [==============================] - 11s 128ms/step - loss: 0.0030\n",
      "Epoch 11/20\n",
      "85/85 [==============================] - 11s 127ms/step - loss: 0.0028\n",
      "Epoch 12/20\n",
      "85/85 [==============================] - 11s 126ms/step - loss: 0.0025\n",
      "Epoch 13/20\n",
      "85/85 [==============================] - 11s 126ms/step - loss: 0.0024\n",
      "Epoch 14/20\n",
      "85/85 [==============================] - 11s 126ms/step - loss: 0.0022\n",
      "Epoch 15/20\n",
      "85/85 [==============================] - 11s 129ms/step - loss: 0.0023\n",
      "Epoch 16/20\n",
      "85/85 [==============================] - 11s 126ms/step - loss: 0.0021\n",
      "Epoch 17/20\n",
      "85/85 [==============================] - 11s 126ms/step - loss: 0.0021\n",
      "Epoch 18/20\n",
      "85/85 [==============================] - 11s 126ms/step - loss: 0.0020\n",
      "Epoch 19/20\n",
      "85/85 [==============================] - 11s 125ms/step - loss: 0.0019\n",
      "Epoch 20/20\n",
      "85/85 [==============================] - 11s 128ms/step - loss: 0.0018\n"
     ]
    },
    {
     "data": {
      "text/plain": [
       "<keras.callbacks.History at 0x7f0da683fa10>"
      ]
     },
     "execution_count": 20,
     "metadata": {},
     "output_type": "execute_result"
    }
   ],
   "source": [
    "# The LSTM architecture\n",
    "regressor_ = Sequential()\n",
    "# First LSTM layer with Dropout regularisation\n",
    "regressor_.add(LSTM(units=50, return_sequences=True, input_shape=(X_train.shape[1],1)))\n",
    "regressor_.add(Dropout(0.2))\n",
    "# Second LSTM layer\n",
    "regressor_.add(LSTM(units=50, return_sequences=True))\n",
    "regressor_.add(Dropout(0.2))\n",
    "# Third LSTM layer\n",
    "regressor_.add(LSTM(units=50, return_sequences=True))\n",
    "regressor_.add(Dropout(0.2))\n",
    "# Fourth LSTM layer\n",
    "regressor_.add(LSTM(units=50))\n",
    "regressor_.add(Dropout(0.2))\n",
    "# The output layer\n",
    "regressor_.add(Dense(units=1))\n",
    "\n",
    "# Compiling the RNN\n",
    "regressor_.compile(optimizer='rmsprop',loss='mean_squared_error')\n",
    "\n",
    "regressor_.summary()\n",
    "\n",
    "# Fitting to the training set\n",
    "regressor_.fit(X_train,y_train,epochs=20,batch_size=32)"
   ]
  },
  {
   "cell_type": "code",
   "execution_count": 21,
   "metadata": {
    "_uuid": "326fa85615622feb484cc4c848edeec6f7133913",
    "collapsed": true,
    "id": "Hvtbpf5ss5w_",
    "jupyter": {
     "outputs_hidden": true
    }
   },
   "outputs": [],
   "source": [
    "# Now to get the test set ready in a similar way as the training set.\n",
    "# The following has been done so forst 60 entires of test set have 60 previous values which is impossible to get unless we take the whole \n",
    "# 'High' attribute data for processing\n",
    "dataset_total = pd.concat((dataset[\"High\"][:'2016'],dataset[\"High\"]['2017':]),axis=0)\n",
    "inputs = dataset_total[len(dataset_total)-len(test_set) - 60:].values\n",
    "inputs = inputs.reshape(-1,1)\n",
    "inputs  = sc.transform(inputs)"
   ]
  },
  {
   "cell_type": "code",
   "execution_count": 22,
   "metadata": {
    "_uuid": "435b8024814939ac4fbd372baa0cd8cfc78f80bc",
    "collapsed": true,
    "id": "iSFKlz0os5xA",
    "jupyter": {
     "outputs_hidden": true
    }
   },
   "outputs": [],
   "source": [
    "# Preparing X_test and predicting the prices\n",
    "X_test = []\n",
    "for i in range(60,311):\n",
    "    X_test.append(inputs[i-60:i,0])\n",
    "X_test = np.array(X_test)\n",
    "X_test = np.reshape(X_test, (X_test.shape[0],X_test.shape[1],1))\n",
    "predicted_stock_price = regressor_.predict(X_test)\n",
    "predicted_stock_price = sc.inverse_transform(predicted_stock_price)"
   ]
  },
  {
   "cell_type": "code",
   "execution_count": 23,
   "metadata": {
    "_uuid": "b774a8e79e53eac89694cafef6b11aa99226b95f",
    "colab": {
     "base_uri": "https://localhost:8080/",
     "height": 325
    },
    "collapsed": true,
    "id": "ZmT8UbcBs5xC",
    "jupyter": {
     "outputs_hidden": true
    },
    "outputId": "13e5e5bd-e1cc-4556-b11b-a2b30db404b1"
   },
   "outputs": [
    {
     "data": {
      "image/png": "[encoded data removed]",
      "text/plain": [
       "<Figure size 432x288 with 1 Axes>"
      ]
     },
     "metadata": {},
     "output_type": "display_data"
    }
   ],
   "source": [
    "# Visualizing the results for LSTM\n",
    "plot_predictions(test_set,predicted_stock_price)"
   ]
  },
  {
   "cell_type": "code",
   "execution_count": 24,
   "metadata": {
    "_uuid": "f6f6db0b6e1f17ac63c06ce49856873d98ba5f00",
    "colab": {
     "base_uri": "https://localhost:8080/"
    },
    "collapsed": true,
    "id": "RD-z5VhFs5xC",
    "jupyter": {
     "outputs_hidden": true
    },
    "outputId": "19fdaa40-ca72-46d4-fe51-1fdb7c2cbfc9"
   },
   "outputs": [
    {
     "name": "stdout",
     "output_type": "stream",
     "text": [
      "The root mean squared error is 4.2681771165561875.\n"
     ]
    }
   ],
   "source": [
    "# Evaluating our model\n",
    "return_rmse(test_set,predicted_stock_price)"
   ]
  },
  {
   "cell_type": "markdown",
   "metadata": {
    "id": "gSqIabIBDFDS"
   },
   "source": [
    "### 2. Stacked LSTM"
   ]
  },
  {
   "cell_type": "code",
   "execution_count": 25,
   "metadata": {
    "_uuid": "df20eb7e8062dae0a3aff2182aa440faddd0017d",
    "colab": {
     "base_uri": "https://localhost:8080/"
    },
    "collapsed": true,
    "id": "TbrEQMCz5xNk",
    "jupyter": {
     "outputs_hidden": true
    },
    "outputId": "2f077fe8-2c9c-4281-9d2b-423756c62cfa"
   },
   "outputs": [
    {
     "name": "stdout",
     "output_type": "stream",
     "text": [
      "Model: \"sequential_6\"\n",
      "_________________________________________________________________\n",
      " Layer (type)                Output Shape              Param #   \n",
      "=================================================================\n",
      " lstm_31 (LSTM)              (None, 60, 50)            10400     \n",
      "                                                                 \n",
      " lstm_32 (LSTM)              (None, 60, 50)            20200     \n",
      "                                                                 \n",
      " dropout_23 (Dropout)        (None, 60, 50)            0         \n",
      "                                                                 \n",
      " lstm_33 (LSTM)              (None, 60, 50)            20200     \n",
      "                                                                 \n",
      " lstm_34 (LSTM)              (None, 60, 50)            20200     \n",
      "                                                                 \n",
      " dropout_24 (Dropout)        (None, 60, 50)            0         \n",
      "                                                                 \n",
      " lstm_35 (LSTM)              (None, 60, 50)            20200     \n",
      "                                                                 \n",
      " lstm_36 (LSTM)              (None, 60, 50)            20200     \n",
      "                                                                 \n",
      " dropout_25 (Dropout)        (None, 60, 50)            0         \n",
      "                                                                 \n",
      " lstm_37 (LSTM)              (None, 50)                20200     \n",
      "                                                                 \n",
      " dropout_26 (Dropout)        (None, 50)                0         \n",
      "                                                                 \n",
      " dense_5 (Dense)             (None, 1)                 51        \n",
      "                                                                 \n",
      "=================================================================\n",
      "Total params: 131,651\n",
      "Trainable params: 131,651\n",
      "Non-trainable params: 0\n",
      "_________________________________________________________________\n",
      "Epoch 1/20\n",
      "85/85 [==============================] - 33s 214ms/step - loss: 0.0330\n",
      "Epoch 2/20\n",
      "85/85 [==============================] - 18s 213ms/step - loss: 0.0127\n",
      "Epoch 3/20\n",
      "85/85 [==============================] - 18s 216ms/step - loss: 0.0089\n",
      "Epoch 4/20\n",
      "85/85 [==============================] - 18s 213ms/step - loss: 0.0069\n",
      "Epoch 5/20\n",
      "85/85 [==============================] - 18s 213ms/step - loss: 0.0059\n",
      "Epoch 6/20\n",
      "85/85 [==============================] - 18s 214ms/step - loss: 0.0052\n",
      "Epoch 7/20\n",
      "85/85 [==============================] - 18s 215ms/step - loss: 0.0049\n",
      "Epoch 8/20\n",
      "85/85 [==============================] - 18s 214ms/step - loss: 0.0044\n",
      "Epoch 9/20\n",
      "85/85 [==============================] - 19s 219ms/step - loss: 0.0043\n",
      "Epoch 10/20\n",
      "85/85 [==============================] - 18s 216ms/step - loss: 0.0038\n",
      "Epoch 11/20\n",
      "85/85 [==============================] - 18s 212ms/step - loss: 0.0033\n",
      "Epoch 12/20\n",
      "85/85 [==============================] - 18s 213ms/step - loss: 0.0032\n",
      "Epoch 13/20\n",
      "85/85 [==============================] - 18s 216ms/step - loss: 0.0033\n",
      "Epoch 14/20\n",
      "85/85 [==============================] - 18s 214ms/step - loss: 0.0027\n",
      "Epoch 15/20\n",
      "85/85 [==============================] - 18s 214ms/step - loss: 0.0026\n",
      "Epoch 16/20\n",
      "85/85 [==============================] - 18s 215ms/step - loss: 0.0026\n",
      "Epoch 17/20\n",
      "85/85 [==============================] - 18s 215ms/step - loss: 0.0026\n",
      "Epoch 18/20\n",
      "85/85 [==============================] - 18s 217ms/step - loss: 0.0024\n",
      "Epoch 19/20\n",
      "85/85 [==============================] - 18s 216ms/step - loss: 0.0022\n",
      "Epoch 20/20\n",
      "85/85 [==============================] - 19s 218ms/step - loss: 0.0021\n"
     ]
    },
    {
     "data": {
      "text/plain": [
       "<keras.callbacks.History at 0x7f0da92083d0>"
      ]
     },
     "execution_count": 25,
     "metadata": {},
     "output_type": "execute_result"
    }
   ],
   "source": [
    "# The LSTM architecture\n",
    "regressor = Sequential()\n",
    "# First stacked LSTM layer with Dropout regularisation\n",
    "regressor.add(LSTM(units=50, return_sequences=True, input_shape=(X_train.shape[1],1)))\n",
    "regressor.add(LSTM(units=50, return_sequences=True))\n",
    "regressor.add(Dropout(0.2))\n",
    "# Second stacked LSTM layer\n",
    "regressor.add(LSTM(units=50, return_sequences=True))\n",
    "regressor.add(LSTM(units=50, return_sequences=True))\n",
    "regressor.add(Dropout(0.2))\n",
    "# Third stacked LSTM layer\n",
    "regressor.add(LSTM(units=50, return_sequences=True))\n",
    "regressor.add(LSTM(units=50, return_sequences=True))\n",
    "regressor.add(Dropout(0.2))\n",
    "# Fourth LSTM layer\n",
    "regressor.add(LSTM(units=50))\n",
    "regressor.add(Dropout(0.2))\n",
    "# The output layer\n",
    "regressor.add(Dense(units=1))\n",
    "\n",
    "# Compiling the RNN\n",
    "regressor.compile(optimizer='rmsprop',loss='mean_squared_error')\n",
    "\n",
    "regressor.summary()\n",
    "\n",
    "# Fitting to the training set\n",
    "regressor.fit(X_train,y_train,epochs=20,batch_size=32)"
   ]
  },
  {
   "cell_type": "code",
   "execution_count": 26,
   "metadata": {
    "_uuid": "326fa85615622feb484cc4c848edeec6f7133913",
    "collapsed": true,
    "id": "cSLtHUvo5xNl",
    "jupyter": {
     "outputs_hidden": true
    }
   },
   "outputs": [],
   "source": [
    "# Now to get the test set ready in a similar way as the training set.\n",
    "# The following has been done so forst 60 entires of test set have 60 previous values which is impossible to get unless we take the whole \n",
    "# 'High' attribute data for processing\n",
    "dataset_total = pd.concat((dataset[\"High\"][:'2016'],dataset[\"High\"]['2017':]),axis=0)\n",
    "inputs = dataset_total[len(dataset_total)-len(test_set) - 60:].values\n",
    "inputs = inputs.reshape(-1,1)\n",
    "inputs  = sc.transform(inputs)"
   ]
  },
  {
   "cell_type": "code",
   "execution_count": 27,
   "metadata": {
    "_uuid": "435b8024814939ac4fbd372baa0cd8cfc78f80bc",
    "collapsed": true,
    "id": "7zs92U6b5xNm",
    "jupyter": {
     "outputs_hidden": true
    }
   },
   "outputs": [],
   "source": [
    "# Preparing X_test and predicting the prices\n",
    "X_test = []\n",
    "for i in range(60,311):\n",
    "    X_test.append(inputs[i-60:i,0])\n",
    "X_test = np.array(X_test)\n",
    "X_test = np.reshape(X_test, (X_test.shape[0],X_test.shape[1],1))\n",
    "predicted_stock_price = regressor.predict(X_test)\n",
    "predicted_stock_price = sc.inverse_transform(predicted_stock_price)"
   ]
  },
  {
   "cell_type": "code",
   "execution_count": 28,
   "metadata": {
    "_uuid": "b774a8e79e53eac89694cafef6b11aa99226b95f",
    "colab": {
     "base_uri": "https://localhost:8080/",
     "height": 325
    },
    "collapsed": true,
    "id": "8vFVHqmy5xNm",
    "jupyter": {
     "outputs_hidden": true
    },
    "outputId": "e7b9792e-ff01-47bd-e6a0-63f3171c9ef9"
   },
   "outputs": [
    {
     "data": {
      "image/png": "[encoded data removed]",
      "text/plain": [
       "<Figure size 432x288 with 1 Axes>"
      ]
     },
     "metadata": {},
     "output_type": "display_data"
    }
   ],
   "source": [
    "# Visualizing the results for LSTM\n",
    "plot_predictions(test_set,predicted_stock_price)"
   ]
  },
  {
   "cell_type": "code",
   "execution_count": 29,
   "metadata": {
    "_uuid": "f6f6db0b6e1f17ac63c06ce49856873d98ba5f00",
    "colab": {
     "base_uri": "https://localhost:8080/"
    },
    "collapsed": true,
    "id": "cHhk5lHX5xNm",
    "jupyter": {
     "outputs_hidden": true
    },
    "outputId": "c429f283-a7f1-41ed-bc20-e5d039fd8880"
   },
   "outputs": [
    {
     "name": "stdout",
     "output_type": "stream",
     "text": [
      "The root mean squared error is 10.2226371736472.\n"
     ]
    }
   ],
   "source": [
    "# Evaluating our model\n",
    "return_rmse(test_set,predicted_stock_price)"
   ]
  },
  {
   "cell_type": "markdown",
   "metadata": {
    "id": "H48rylDi612G"
   },
   "source": [
    "### 3. Bidirectional LSTM"
   ]
  },
  {
   "cell_type": "code",
   "execution_count": 30,
   "metadata": {
    "id": "1FNEYbae61Xn"
   },
   "outputs": [],
   "source": [
    "from tensorflow.keras.layers import Bidirectional"
   ]
  },
  {
   "cell_type": "code",
   "execution_count": 37,
   "metadata": {
    "_uuid": "df20eb7e8062dae0a3aff2182aa440faddd0017d",
    "colab": {
     "base_uri": "https://localhost:8080/"
    },
    "collapsed": true,
    "id": "OiK7SsME7v3i",
    "jupyter": {
     "outputs_hidden": true
    },
    "outputId": "204a0de7-bcf4-4400-da7e-8e3834452b9e"
   },
   "outputs": [
    {
     "name": "stdout",
     "output_type": "stream",
     "text": [
      "Model: \"sequential_13\"\n",
      "_________________________________________________________________\n",
      " Layer (type)                Output Shape              Param #   \n",
      "=================================================================\n",
      " bidirectional_13 (Bidirecti  (None, 60, 100)          20800     \n",
      " onal)                                                           \n",
      "                                                                 \n",
      " dropout_51 (Dropout)        (None, 60, 100)           0         \n",
      "                                                                 \n",
      " bidirectional_14 (Bidirecti  (None, 60, 100)          60400     \n",
      " onal)                                                           \n",
      "                                                                 \n",
      " dropout_52 (Dropout)        (None, 60, 100)           0         \n",
      "                                                                 \n",
      " bidirectional_15 (Bidirecti  (None, 60, 100)          60400     \n",
      " onal)                                                           \n",
      "                                                                 \n",
      " dropout_53 (Dropout)        (None, 60, 100)           0         \n",
      "                                                                 \n",
      " lstm_60 (LSTM)              (None, 50)                30200     \n",
      "                                                                 \n",
      " dropout_54 (Dropout)        (None, 50)                0         \n",
      "                                                                 \n",
      " dense_12 (Dense)            (None, 1)                 51        \n",
      "                                                                 \n",
      "=================================================================\n",
      "Total params: 171,851\n",
      "Trainable params: 171,851\n",
      "Non-trainable params: 0\n",
      "_________________________________________________________________\n",
      "Epoch 1/20\n",
      "85/85 [==============================] - 31s 204ms/step - loss: 0.0154\n",
      "Epoch 2/20\n",
      "85/85 [==============================] - 17s 204ms/step - loss: 0.0069\n",
      "Epoch 3/20\n",
      "85/85 [==============================] - 17s 204ms/step - loss: 0.0055\n",
      "Epoch 4/20\n",
      "85/85 [==============================] - 17s 204ms/step - loss: 0.0047\n",
      "Epoch 5/20\n",
      "85/85 [==============================] - 17s 204ms/step - loss: 0.0037\n",
      "Epoch 6/20\n",
      "85/85 [==============================] - 17s 206ms/step - loss: 0.0033\n",
      "Epoch 7/20\n",
      "85/85 [==============================] - 17s 205ms/step - loss: 0.0031\n",
      "Epoch 8/20\n",
      "85/85 [==============================] - 17s 204ms/step - loss: 0.0029\n",
      "Epoch 9/20\n",
      "85/85 [==============================] - 18s 206ms/step - loss: 0.0025\n",
      "Epoch 10/20\n",
      "85/85 [==============================] - 17s 205ms/step - loss: 0.0024\n",
      "Epoch 11/20\n",
      "85/85 [==============================] - 20s 232ms/step - loss: 0.0022\n",
      "Epoch 12/20\n",
      "85/85 [==============================] - 17s 205ms/step - loss: 0.0020\n",
      "Epoch 13/20\n",
      "85/85 [==============================] - 18s 207ms/step - loss: 0.0021\n",
      "Epoch 14/20\n",
      "85/85 [==============================] - 17s 205ms/step - loss: 0.0019\n",
      "Epoch 15/20\n",
      "85/85 [==============================] - 18s 206ms/step - loss: 0.0019\n",
      "Epoch 16/20\n",
      "85/85 [==============================] - 18s 211ms/step - loss: 0.0017\n",
      "Epoch 17/20\n",
      "85/85 [==============================] - 20s 240ms/step - loss: 0.0016\n",
      "Epoch 18/20\n",
      "85/85 [==============================] - 17s 205ms/step - loss: 0.0016\n",
      "Epoch 19/20\n",
      "85/85 [==============================] - 18s 207ms/step - loss: 0.0016\n",
      "Epoch 20/20\n",
      "85/85 [==============================] - 17s 205ms/step - loss: 0.0016\n"
     ]
    },
    {
     "data": {
      "text/plain": [
       "<keras.callbacks.History at 0x7f0da0abe590>"
      ]
     },
     "execution_count": 37,
     "metadata": {},
     "output_type": "execute_result"
    }
   ],
   "source": [
    "# The LSTM architecture\n",
    "regressor_ = Sequential()\n",
    "# First Bidirectional LSTM layer with Dropout regularisation\n",
    "regressor_.add(Bidirectional(LSTM(units=50, return_sequences=True), input_shape=(X_train.shape[1],1)))\n",
    "regressor_.add(Dropout(0.2))\n",
    "# Second Bidirectional LSTM layer\n",
    "regressor_.add(Bidirectional(LSTM(units=50, return_sequences=True)))\n",
    "regressor_.add(Dropout(0.2))\n",
    "# Third Bidirectional LSTM layer\n",
    "regressor_.add(Bidirectional(LSTM(units=50, return_sequences=True)))\n",
    "regressor_.add(Dropout(0.2))\n",
    "# Fourth LSTM layer\n",
    "regressor_.add(LSTM(units=50))\n",
    "regressor_.add(Dropout(0.2))\n",
    "# The output layer\n",
    "regressor_.add(Dense(units=1))\n",
    "\n",
    "# Compiling the RNN\n",
    "regressor_.compile(optimizer='rmsprop',loss='mean_squared_error')\n",
    "\n",
    "regressor_.build(input_shape=(X_train.shape[1],1))\n",
    "regressor_.summary()\n",
    "\n",
    "# Fitting to the training set\n",
    "regressor_.fit(X_train,y_train,epochs=20,batch_size=32)"
   ]
  },
  {
   "cell_type": "code",
   "execution_count": 38,
   "metadata": {
    "_uuid": "326fa85615622feb484cc4c848edeec6f7133913",
    "collapsed": true,
    "id": "K2DQnqul7v3s",
    "jupyter": {
     "outputs_hidden": true
    }
   },
   "outputs": [],
   "source": [
    "# Now to get the test set ready in a similar way as the training set.\n",
    "# The following has been done so forst 60 entires of test set have 60 previous values which is impossible to get unless we take the whole \n",
    "# 'High' attribute data for processing\n",
    "dataset_total = pd.concat((dataset[\"High\"][:'2016'],dataset[\"High\"]['2017':]),axis=0)\n",
    "inputs = dataset_total[len(dataset_total)-len(test_set) - 60:].values\n",
    "inputs = inputs.reshape(-1,1)\n",
    "inputs  = sc.transform(inputs)"
   ]
  },
  {
   "cell_type": "code",
   "execution_count": 39,
   "metadata": {
    "_uuid": "435b8024814939ac4fbd372baa0cd8cfc78f80bc",
    "collapsed": true,
    "id": "w-He6w5z7v3s",
    "jupyter": {
     "outputs_hidden": true
    }
   },
   "outputs": [],
   "source": [
    "# Preparing X_test and predicting the prices\n",
    "X_test = []\n",
    "for i in range(60,311):\n",
    "    X_test.append(inputs[i-60:i,0])\n",
    "X_test = np.array(X_test)\n",
    "X_test = np.reshape(X_test, (X_test.shape[0],X_test.shape[1],1))\n",
    "predicted_stock_price = regressor_.predict(X_test)\n",
    "predicted_stock_price = sc.inverse_transform(predicted_stock_price)"
   ]
  },
  {
   "cell_type": "code",
   "execution_count": 40,
   "metadata": {
    "_uuid": "b774a8e79e53eac89694cafef6b11aa99226b95f",
    "colab": {
     "base_uri": "https://localhost:8080/",
     "height": 325
    },
    "collapsed": true,
    "id": "EaGrlsKF7v3t",
    "jupyter": {
     "outputs_hidden": true
    },
    "outputId": "0701a3a0-567e-48b8-c4fa-3bf25cc64f15"
   },
   "outputs": [
    {
     "data": {
      "image/png": "[encoded data removed]",
      "text/plain": [
       "<Figure size 432x288 with 1 Axes>"
      ]
     },
     "metadata": {},
     "output_type": "display_data"
    }
   ],
   "source": [
    "# Visualizing the results for LSTM\n",
    "plot_predictions(test_set,predicted_stock_price)"
   ]
  },
  {
   "cell_type": "code",
   "execution_count": 41,
   "metadata": {
    "_uuid": "f6f6db0b6e1f17ac63c06ce49856873d98ba5f00",
    "colab": {
     "base_uri": "https://localhost:8080/"
    },
    "collapsed": true,
    "id": "Vv-gVvcd7v3t",
    "jupyter": {
     "outputs_hidden": true
    },
    "outputId": "e4a0e1b7-5d96-438c-d758-90e0b1e755d4"
   },
   "outputs": [
    {
     "name": "stdout",
     "output_type": "stream",
     "text": [
      "The root mean squared error is 7.2183958394273535.\n"
     ]
    }
   ],
   "source": [
    "# Evaluating our model\n",
    "return_rmse(test_set,predicted_stock_price)"
   ]
  },
  {
   "cell_type": "markdown",
   "metadata": {
    "id": "22j_gVwGEIuE"
   },
   "source": [
    "The LSTM showed an RMSE of around 4.5.\n",
    "The Stacked LSTM showed an RMSE of around 10.\n",
    "The Bidirectional LSTM showed an RMSE of 7.2.\n",
    "\n",
    "It is usually expected that the stacked lstm will give a better accuracy than the normal lstm. However, this is not the case in this scenario. This needs to be further evaluated. The Bidirectional LSTM shows a better result than the stacked LSTM but still not as good as the basic LSTM. Is this the result of using dropout layers? Should that be tuned to get better understanding of the model and get better results? Atleast with the stacked LSTM and with the Bidirectional version this needs to be evaluated further and is my next direction of study.\n",
    "\n",
    "GRU is also the next stage of study for me. However, I believe that it would have been too much of a leap in this case and I decided to study that going forward. \n",
    "\n",
    "LSTM's and in general RNN's and its various types have been very important learnings from this particular class and by extension this class activity."
   ]
  },
  {
   "cell_type": "code",
   "execution_count": null,
   "metadata": {
    "id": "u7nyFdc6FGnG"
   },
   "outputs": [],
   "source": []
  }
 ],
 "metadata": {
  "colab": {
   "name": "class_activity_LSTM.ipynb",
   "provenance": []
  },
  "kernelspec": {
   "display_name": "Python 3",
   "language": "python",
   "name": "python3"
  },
  "language_info": {
   "codemirror_mode": {
    "name": "ipython",
    "version": 3
   },
   "file_extension": ".py",
   "mimetype": "text/x-python",
   "name": "python",
   "nbconvert_exporter": "python",
   "pygments_lexer": "ipython3",
   "version": "3.8.6"
  }
 },
 "nbformat": 4,
 "nbformat_minor": 4
}
