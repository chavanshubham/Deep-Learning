{
 "cells": [
  {
   "cell_type": "code",
   "execution_count": 2,
   "metadata": {
    "id": "5vGEKJ7FIA9t"
   },
   "outputs": [],
   "source": [
    "import tensorflow as tf\n",
    "import pandas as pd"
   ]
  },
  {
   "cell_type": "code",
   "execution_count": 3,
   "metadata": {
    "colab": {
     "base_uri": "https://localhost:8080/"
    },
    "id": "gqICv_P0Hh1f",
    "outputId": "c7c2716c-e45e-4c80-e3de-dae5287411e9"
   },
   "outputs": [
    {
     "data": {
      "text/plain": [
       "(<tf.Tensor: shape=(4, 1), dtype=int32, numpy=\n",
       " array([[0],\n",
       "        [1],\n",
       "        [2],\n",
       "        [3]], dtype=int32)>,\n",
       " <tf.Tensor: shape=(1, 3), dtype=int32, numpy=array([[0, 1, 2]], dtype=int32)>)"
      ]
     },
     "execution_count": 3,
     "metadata": {},
     "output_type": "execute_result"
    }
   ],
   "source": [
    "#Q1\n",
    "\"Broadcasting Mechanism\"\n",
    "a = tf.reshape(tf.range(4), (4, 1))\n",
    "b = tf.reshape(tf.range(3), (1, 3))\n",
    "a, b"
   ]
  },
  {
   "cell_type": "code",
   "execution_count": 4,
   "metadata": {
    "colab": {
     "base_uri": "https://localhost:8080/"
    },
    "id": "rJG9Rk02HpQY",
    "outputId": "7b3f83c3-05f6-4fa2-c559-71543c76e96c"
   },
   "outputs": [
    {
     "data": {
      "text/plain": [
       "<tf.Tensor: shape=(4, 3), dtype=int32, numpy=\n",
       "array([[0, 1, 2],\n",
       "       [1, 2, 3],\n",
       "       [2, 3, 4],\n",
       "       [3, 4, 5]], dtype=int32)>"
      ]
     },
     "execution_count": 4,
     "metadata": {},
     "output_type": "execute_result"
    }
   ],
   "source": [
    "a+b"
   ]
  },
  {
   "cell_type": "code",
   "execution_count": null,
   "metadata": {
    "id": "YJgu9RGNHtqD"
   },
   "outputs": [],
   "source": [
    "import os\n",
    "\n",
    "os.makedirs(os.path.join('..', 'data'), exist_ok=True)\n",
    "data_file = os.path.join('..', 'data', 'house_tiny.csv')\n",
    "with open(data_file, 'w') as f:\n",
    "    f.write('NumRooms,Floor,Price,Clean,Status\\n')  # Column names\n",
    "    f.write('101,1,127500,NA,1\\n')  # Each row represents a data example\n",
    "    f.write('201,2,106000,1,0\\n')\n",
    "    f.write('301,3,178100,NA,1\\n')\n",
    "    f.write('NA,4,NA,1,0\\n')\n",
    "    f.write('501,5,155000,1,0\\n')\n",
    "    f.write('601,6,167000,0,1\\n')\n",
    "    f.write('701,7,185000,1,0\\n')\n",
    "    f.write('801,8,231000,1,1\\n')\n",
    "    f.write('NA,9,345000,NA,1\\n')\n",
    "    f.write('1001,10,456000,NA,NA\\n')\n"
   ]
  },
  {
   "cell_type": "code",
   "execution_count": null,
   "metadata": {
    "id": "M6GgnR6wHvi5"
   },
   "outputs": [],
   "source": [
    "import pandas as pd\n",
    "data = pd.read_csv(data_file)\n",
    "data"
   ]
  },
  {
   "cell_type": "code",
   "execution_count": null,
   "metadata": {
    "id": "vE8hWNfuHxar"
   },
   "outputs": [],
   "source": [
    "last_column = data.pop('Price')\n",
    "data['Price'] = last_column\n",
    "data\n"
   ]
  },
  {
   "cell_type": "code",
   "execution_count": null,
   "metadata": {
    "id": "-9dWa_AZH2k6"
   },
   "outputs": [],
   "source": [
    "#dropping this column as it has the most missing values\n",
    "data.drop(['Clean'], axis=1, inplace=True)\n",
    "data "
   ]
  },
  {
   "cell_type": "code",
   "execution_count": null,
   "metadata": {
    "id": "5m0IrnvcH4M7"
   },
   "outputs": [],
   "source": [
    "inputs, outputs = data.iloc[:, 0:3], data.iloc[:, 3]\n",
    "inputs = inputs.fillna(inputs.mean())\n",
    "print(inputs)"
   ]
  },
  {
   "cell_type": "code",
   "execution_count": null,
   "metadata": {
    "id": "1Veh_49cH6Dt"
   },
   "outputs": [],
   "source": [
    "inputs = pd.get_dummies(inputs, dummy_na=True)\n",
    "#inputs = np.asarray(inputs)\n",
    "print(inputs)"
   ]
  },
  {
   "cell_type": "code",
   "execution_count": null,
   "metadata": {
    "id": "ndpHdW55H8tY"
   },
   "outputs": [],
   "source": [
    "X, y = tf.constant(inputs.values), tf.constant(outputs.values)\n",
    "X, y"
   ]
  }
 ],
 "metadata": {
  "colab": {
   "name": "Untitled4.ipynb",
   "provenance": []
  },
  "kernelspec": {
   "display_name": "Python 3",
   "language": "python",
   "name": "python3"
  },
  "language_info": {
   "codemirror_mode": {
    "name": "ipython",
    "version": 3
   },
   "file_extension": ".py",
   "mimetype": "text/x-python",
   "name": "python",
   "nbconvert_exporter": "python",
   "pygments_lexer": "ipython3",
   "version": "3.8.6"
  }
 },
 "nbformat": 4,
 "nbformat_minor": 4
}
