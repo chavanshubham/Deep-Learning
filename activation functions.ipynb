{
 "cells": [
  {
   "cell_type": "markdown",
   "metadata": {
    "id": "UD41NWzOKY13"
   },
   "source": [
    "![image.png](data:image/png;base64,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)"
   ]
  },
  {
   "cell_type": "markdown",
   "metadata": {
    "id": "m9jL0ZINMveS"
   },
   "source": [
    "**Why activation functions?**\n",
    "* Two types of computations in nueral networks:\n",
    " * (i) Linear summation of inputs$(x)$ and bias$(b)$ \n",
    "   * $sum=(w1*x1+w2*x2)+b$\n",
    " * (ii) Activation computation to decide whether a neuron should be activated or not.\n",
    "   * $weighted\\ sum + bias$ \n",
    "* Purpose of the activation function: Introduce non-linearity into the output of a neuron\n",
    "* Without an activation function the NN model will be a linear regression model. \n",
    "* The non-linear transforamtion of inputs is achieved using the activation function and is capable to learn and perform more complex tasks."
   ]
  },
  {
   "cell_type": "markdown",
   "metadata": {
    "id": "Eh6NyxkX4Tqg"
   },
   "source": [
    "* In the context of an optimization algorithm, the function used to evaluate a candidate solution (i.e. a set of weights) is referred to as the objective function.\n",
    "\n",
    "* We may seek to maximize or minimize the objective function, meaning that we are searching for a candidate solution that has the highest or lowest score respectively.\n",
    "\n",
    "* Typically, with neural networks, we seek to minimize the error. As such, the objective function is often referred to as a cost function or a loss function and the value calculated by the loss function is referred to as simply “loss.”\n",
    "\n",
    "**Why Loss Function**\n",
    "\n",
    "* A deep learning neural network learns to map a set of inputs to a set of outputs from training data.\n",
    "\n",
    "* We cannot calculate the perfect weights for a neural network; there are too many unknowns. Instead, the problem of learning is cast as a search or optimization problem and an algorithm is used to navigate the space of possible sets of weights the model may use in order to make good or good enough predictions.\n",
    "\n",
    "* Typically, a neural network model is trained using the stochastic gradient descent optimization algorithm and weights are updated using the backpropagation of error algorithm.\n",
    "\n",
    "* The “gradient” in gradient descent refers to an error gradient. The model with a given set of weights is used to make predictions and the error for those predictions is calculated.\n",
    "\n",
    "* The gradient descent algorithm seeks to change the weights so that the next evaluation reduces the error, meaning the optimization algorithm is navigating down the gradient (or slope) of error.\n",
    "\n",
    "* https://machinelearningmastery.com/loss-and-loss-functions-for-training-deep-learning-neural-networks/"
   ]
  },
  {
   "cell_type": "markdown",
   "metadata": {
    "id": "3S_GSRk2w1aC"
   },
   "source": [
    "## Part 1: Activation and Loss Functions\n",
    "Create the following activation functions and their derivatives:\n",
    "1. relu(z)\n",
    "2. sigmoid(z)\n",
    "3. tanh(z)\n",
    "\n",
    "Create the following loss functions\n",
    "1. Quadratic loss (mean squared error)\n",
    "2. Cross entropy loss"
   ]
  },
  {
   "cell_type": "code",
   "execution_count": 1,
   "metadata": {
    "id": "y6W7UIKmyFUB"
   },
   "outputs": [],
   "source": [
    "#import needed libraries\n",
    "import tensorflow as tf\n",
    "import numpy as np\n",
    "import matplotlib.pyplot as plt\n"
   ]
  },
  {
   "cell_type": "markdown",
   "metadata": {
    "id": "iKnUp4KvHpoP"
   },
   "source": [
    "#### Question 1:"
   ]
  },
  {
   "cell_type": "code",
   "execution_count": 2,
   "metadata": {
    "colab": {
     "base_uri": "https://localhost:8080/"
    },
    "id": "hbwqHE_fg5Bs",
    "outputId": "40624fa7-4fa8-40d9-bd0f-6b804fbeb25f"
   },
   "outputs": [
    {
     "data": {
      "text/plain": [
       "<tf.Tensor: shape=(120,), dtype=float32, numpy=\n",
       "array([-6.0000000e+00, -5.9000001e+00, -5.8000002e+00, -5.7000003e+00,\n",
       "       -5.6000004e+00, -5.5000005e+00, -5.4000006e+00, -5.3000007e+00,\n",
       "       -5.2000008e+00, -5.1000009e+00, -5.0000010e+00, -4.9000010e+00,\n",
       "       -4.8000011e+00, -4.7000012e+00, -4.6000013e+00, -4.5000014e+00,\n",
       "       -4.4000015e+00, -4.3000016e+00, -4.2000017e+00, -4.1000018e+00,\n",
       "       -4.0000019e+00, -3.9000020e+00, -3.8000021e+00, -3.7000022e+00,\n",
       "       -3.6000023e+00, -3.5000024e+00, -3.4000025e+00, -3.3000026e+00,\n",
       "       -3.2000027e+00, -3.1000028e+00, -3.0000029e+00, -2.9000030e+00,\n",
       "       -2.8000031e+00, -2.7000031e+00, -2.6000032e+00, -2.5000033e+00,\n",
       "       -2.4000034e+00, -2.3000035e+00, -2.2000036e+00, -2.1000037e+00,\n",
       "       -2.0000038e+00, -1.9000038e+00, -1.8000038e+00, -1.7000037e+00,\n",
       "       -1.6000037e+00, -1.5000037e+00, -1.4000037e+00, -1.3000036e+00,\n",
       "       -1.2000036e+00, -1.1000036e+00, -1.0000036e+00, -9.0000355e-01,\n",
       "       -8.0000353e-01, -7.0000350e-01, -6.0000348e-01, -5.0000346e-01,\n",
       "       -4.0000346e-01, -3.0000347e-01, -2.0000347e-01, -1.0000347e-01,\n",
       "       -3.4719706e-06,  9.9996530e-02,  1.9999653e-01,  2.9999653e-01,\n",
       "        3.9999652e-01,  4.9999651e-01,  5.9999651e-01,  6.9999653e-01,\n",
       "        7.9999655e-01,  8.9999658e-01,  9.9999660e-01,  1.0999966e+00,\n",
       "        1.1999966e+00,  1.2999966e+00,  1.3999966e+00,  1.4999967e+00,\n",
       "        1.5999967e+00,  1.6999967e+00,  1.7999967e+00,  1.8999968e+00,\n",
       "        1.9999968e+00,  2.0999968e+00,  2.1999967e+00,  2.2999966e+00,\n",
       "        2.3999965e+00,  2.4999964e+00,  2.5999963e+00,  2.6999962e+00,\n",
       "        2.7999961e+00,  2.8999960e+00,  2.9999959e+00,  3.0999959e+00,\n",
       "        3.1999958e+00,  3.2999957e+00,  3.3999956e+00,  3.4999955e+00,\n",
       "        3.5999954e+00,  3.6999953e+00,  3.7999952e+00,  3.8999951e+00,\n",
       "        3.9999950e+00,  4.0999951e+00,  4.1999950e+00,  4.2999949e+00,\n",
       "        4.3999949e+00,  4.4999948e+00,  4.5999947e+00,  4.6999946e+00,\n",
       "        4.7999945e+00,  4.8999944e+00,  4.9999943e+00,  5.0999942e+00,\n",
       "        5.1999941e+00,  5.2999940e+00,  5.3999939e+00,  5.4999938e+00,\n",
       "        5.5999937e+00,  5.6999936e+00,  5.7999935e+00,  5.8999934e+00],\n",
       "      dtype=float32)>"
      ]
     },
     "execution_count": 2,
     "metadata": {},
     "output_type": "execute_result"
    }
   ],
   "source": [
    "'''\n",
    "1. Create a tensor z with values with start = -0.6, limit = 0.6 , and delta = 0.1\n",
    "Reference: https://www.tensorflow.org/api_docs/python/tf/range\n",
    "'''\n",
    "## code starts here ##\n",
    "\n",
    "start = -6.0\n",
    "limit = 6.0\n",
    "delta = 0.1\n",
    "z = tf.range(start, limit, delta)\n",
    "z\n",
    "\n",
    "## code ends here ##"
   ]
  },
  {
   "cell_type": "markdown",
   "metadata": {
    "id": "j64kuiMk4x9k"
   },
   "source": [
    "### 1. Sigmoid and its Derivative\n",
    "* The sigmoid function transforms its inputs, for which values lie in the domain $\\mathbb{R}$, to outputs that lie on the interval (0, 1). \n",
    "* For that reason, the sigmoid is often called a squashing function: it squashes any input in the range (-inf, inf) to some value in the range (0, 1):\n",
    "$\\operatorname{sigmoid}(x) = \\frac{1}{1 + \\exp(-x)}$.\n"
   ]
  },
  {
   "cell_type": "markdown",
   "metadata": {
    "id": "pL9KNhpF-4EY"
   },
   "source": [
    "* For gradient based learning, the sigmoid function was a natural choice because it is a smooth, differentiable approximation to a thresholding unit. \n",
    "* Sigmoids are still widely used as activation functions on the output units, when we want to interpret the outputs as probabilities for binary classification problems (you can think of the sigmoid as a special case of the softmax). \n",
    "* However, the sigmoid has mostly been replaced by the simpler and more easily trainable ReLU for most use in hidden layers. The recurrent neural networks architectures leverage sigmoid units to control the flow of information across time."
   ]
  },
  {
   "cell_type": "markdown",
   "metadata": {
    "id": "AJC1IzQWIGF2"
   },
   "source": [
    "#### Question 2:"
   ]
  },
  {
   "cell_type": "code",
   "execution_count": 4,
   "metadata": {
    "id": "ALwmjsCYzRyP"
   },
   "outputs": [],
   "source": [
    "import math\n",
    "\n",
    "def sigmoid(z):\n",
    "    \"\"\"\n",
    "    Compute the sigmoid of z\n",
    "\n",
    "    Arguments:\n",
    "    z -- A scalar or numpy array of any size.\n",
    "\n",
    "    Return:\n",
    "    s -- sigmoid(z)\n",
    "    \"\"\"\n",
    "\n",
    "    ### START CODE HERE ### (≈ 1 line of code)\n",
    "\n",
    "    s = (1/(1 + np.exp(-z)))\n",
    "    \n",
    "    return s\n",
    "\n",
    "    ### END CODE HERE ###\n",
    "    \n",
    "    "
   ]
  },
  {
   "cell_type": "markdown",
   "metadata": {
    "id": "doimbDzXIM8-"
   },
   "source": [
    "#### Question 3:"
   ]
  },
  {
   "cell_type": "code",
   "execution_count": 5,
   "metadata": {
    "colab": {
     "base_uri": "https://localhost:8080/",
     "height": 1000
    },
    "id": "DDH35I3x5P07",
    "outputId": "5489cd75-1eae-4cf0-86c6-4370c894bdfb"
   },
   "outputs": [
    {
     "name": "stdout",
     "output_type": "stream",
     "text": [
      "tf.Tensor(\n",
      "[-6.0000000e+00 -5.9000001e+00 -5.8000002e+00 -5.7000003e+00\n",
      " -5.6000004e+00 -5.5000005e+00 -5.4000006e+00 -5.3000007e+00\n",
      " -5.2000008e+00 -5.1000009e+00 -5.0000010e+00 -4.9000010e+00\n",
      " -4.8000011e+00 -4.7000012e+00 -4.6000013e+00 -4.5000014e+00\n",
      " -4.4000015e+00 -4.3000016e+00 -4.2000017e+00 -4.1000018e+00\n",
      " -4.0000019e+00 -3.9000020e+00 -3.8000021e+00 -3.7000022e+00\n",
      " -3.6000023e+00 -3.5000024e+00 -3.4000025e+00 -3.3000026e+00\n",
      " -3.2000027e+00 -3.1000028e+00 -3.0000029e+00 -2.9000030e+00\n",
      " -2.8000031e+00 -2.7000031e+00 -2.6000032e+00 -2.5000033e+00\n",
      " -2.4000034e+00 -2.3000035e+00 -2.2000036e+00 -2.1000037e+00\n",
      " -2.0000038e+00 -1.9000038e+00 -1.8000038e+00 -1.7000037e+00\n",
      " -1.6000037e+00 -1.5000037e+00 -1.4000037e+00 -1.3000036e+00\n",
      " -1.2000036e+00 -1.1000036e+00 -1.0000036e+00 -9.0000355e-01\n",
      " -8.0000353e-01 -7.0000350e-01 -6.0000348e-01 -5.0000346e-01\n",
      " -4.0000346e-01 -3.0000347e-01 -2.0000347e-01 -1.0000347e-01\n",
      " -3.4719706e-06  9.9996530e-02  1.9999653e-01  2.9999653e-01\n",
      "  3.9999652e-01  4.9999651e-01  5.9999651e-01  6.9999653e-01\n",
      "  7.9999655e-01  8.9999658e-01  9.9999660e-01  1.0999966e+00\n",
      "  1.1999966e+00  1.2999966e+00  1.3999966e+00  1.4999967e+00\n",
      "  1.5999967e+00  1.6999967e+00  1.7999967e+00  1.8999968e+00\n",
      "  1.9999968e+00  2.0999968e+00  2.1999967e+00  2.2999966e+00\n",
      "  2.3999965e+00  2.4999964e+00  2.5999963e+00  2.6999962e+00\n",
      "  2.7999961e+00  2.8999960e+00  2.9999959e+00  3.0999959e+00\n",
      "  3.1999958e+00  3.2999957e+00  3.3999956e+00  3.4999955e+00\n",
      "  3.5999954e+00  3.6999953e+00  3.7999952e+00  3.8999951e+00\n",
      "  3.9999950e+00  4.0999951e+00  4.1999950e+00  4.2999949e+00\n",
      "  4.3999949e+00  4.4999948e+00  4.5999947e+00  4.6999946e+00\n",
      "  4.7999945e+00  4.8999944e+00  4.9999943e+00  5.0999942e+00\n",
      "  5.1999941e+00  5.2999940e+00  5.3999939e+00  5.4999938e+00\n",
      "  5.5999937e+00  5.6999936e+00  5.7999935e+00  5.8999934e+00], shape=(120,), dtype=float32) [0.00247262 0.00273196 0.00301842 0.00333481 0.00368424 0.00407014\n",
      " 0.00449627 0.0049668  0.0054863  0.0060598  0.00669284 0.00739153\n",
      " 0.00816256 0.00901329 0.00995179 0.01098693 0.01212842 0.0133869\n",
      " 0.01477401 0.01630247 0.01798618 0.01984027 0.02188123 0.02412697\n",
      " 0.02659694 0.02931216 0.03229538 0.0355711  0.03916562 0.04310714\n",
      " 0.04742574 0.05215342 0.05732401 0.06297317 0.06913821 0.07585794\n",
      " 0.08317243 0.09112266 0.09975016 0.10909645 0.11920252 0.13010804\n",
      " 0.14185062 0.15446477 0.1679811  0.18242498 0.19781552 0.2141644\n",
      " 0.23147455 0.2497392  0.26894072 0.28904977 0.31002474 0.33181146\n",
      " 0.3543429  0.37753987 0.40131152 0.42555663 0.45016515 0.47501993\n",
      " 0.49999917 0.52497834 0.5498331  0.57444173 0.5986868  0.6224585\n",
      " 0.6456555  0.668187   0.6899737  0.7109488  0.7310579  0.75025946\n",
      " 0.76852417 0.78583443 0.8021834  0.81757396 0.83201796 0.8455343\n",
      " 0.8581486  0.8698911  0.8807968  0.8909029  0.90024924 0.9088768\n",
      " 0.916827   0.9241416  0.93086135 0.9370264  0.9426756  0.94784623\n",
      " 0.95257396 0.95689255 0.9608341  0.96442866 0.9677045  0.9706877\n",
      " 0.9734029  0.9758729  0.9781186  0.98015964 0.98201376 0.9836975\n",
      " 0.98522586 0.986613   0.9878715  0.98901296 0.99004817 0.99098665\n",
      " 0.99183744 0.99260837 0.9933072  0.9939401  0.99451363 0.99503314\n",
      " 0.9955037  0.9959298  0.9963158  0.9966652  0.99698156 0.9972681 ]\n"
     ]
    },
    {
     "data": {
      "image/png": "[encoded data removed]",
      "text/plain": [
       "<Figure size 432x288 with 1 Axes>"
      ]
     },
     "metadata": {
      "needs_background": "light"
     },
     "output_type": "display_data"
    }
   ],
   "source": [
    "'''\n",
    "1. Call sigmoid() function to compute s for z\n",
    "2. print the values of z and s\n",
    "3. plot the function and observe the shape.\n",
    "'''\n",
    "## code starts here ##\n",
    "\n",
    "s = sigmoid(z)\n",
    "print(z, s)\n",
    "plt.plot(z, s)\n",
    "plt.xlabel(\"Z\")\n",
    "plt.ylabel(\"sigm (Z)\")\n",
    "  \n",
    "plt.show()\n",
    "\n",
    "## code ends here ##"
   ]
  },
  {
   "cell_type": "markdown",
   "metadata": {
    "id": "3bVEmokg_UmE"
   },
   "source": [
    "**Observation:**\n",
    "* Funcion has values between 0 and 1.\n",
    "* When the input is close to 0, the sigmoid function approaches a linear transformation.\n",
    "* Output is not zero-centered.\n",
    "* At top and bottom level of sigmoid functions the curve changes slowly,so if you calculate slope(gradients) it is zero. So, when the x value is small or big the slope is zero, which implies there is no learning.\n",
    "\n",
    "* **When Should Sigmoid be used?**\n",
    " * (i) When the output value is between 0 to 1, use sigmoid at output layer neuron only\n",
    " * (ii) In binary classification problems"
   ]
  },
  {
   "cell_type": "markdown",
   "metadata": {
    "id": "d4qF6ohm_n7M"
   },
   "source": [
    "* The derivative of the sigmoid function is given by the following equation:\n",
    "$\\frac{d}{dx} \\operatorname{sigmoid}(x) = \\frac{\\exp(-x)}{(1 + \\exp(-x))^2} = \\operatorname{sigmoid}(x)\\left(1-\\operatorname{sigmoid}(x)\\right).$\n",
    "* The derivative of the sigmoid function is plotted below. Note that when the input is 0, the derivative of the sigmoid function reaches a maximum of 0.25. As the input diverges from 0 in either direction, the derivative approaches 0."
   ]
  },
  {
   "cell_type": "markdown",
   "metadata": {
    "id": "jU6W5r8zIiGW"
   },
   "source": [
    "#### Question 4:"
   ]
  },
  {
   "cell_type": "code",
   "execution_count": 7,
   "metadata": {
    "id": "McRNUXBh5PyC"
   },
   "outputs": [],
   "source": [
    "def dSigmoid(z):\n",
    "  '''\n",
    "  Compute the derivative ds of z \n",
    "  Arguments: \n",
    "  z-- A scalar or numpy array of any size.\n",
    "  Return: \n",
    "  ds -- dSigmoid(z)\n",
    "  '''\n",
    "  ## code starts here ##\n",
    "  \n",
    "  # ds = sigmoid(z)(1 - sigmoid(z))\n",
    "  ds = []\n",
    "  for i in z:\n",
    "    ds.append(sigmoid(i)*(1 - sigmoid(i)))\n",
    "  return ds\n",
    "\n",
    "\n",
    "  ## code ends here ##\n"
   ]
  },
  {
   "cell_type": "markdown",
   "metadata": {
    "id": "EO6epBYLIre2"
   },
   "source": [
    "#### Question 5:"
   ]
  },
  {
   "cell_type": "code",
   "execution_count": 8,
   "metadata": {
    "colab": {
     "base_uri": "https://localhost:8080/",
     "height": 1000
    },
    "id": "2rZqY5vp5Pu6",
    "outputId": "e04a6a2e-e77e-4d1a-e697-f8997b1bdd11"
   },
   "outputs": [
    {
     "name": "stdout",
     "output_type": "stream",
     "text": [
      "tf.Tensor(\n",
      "[-6.0000000e+00 -5.9000001e+00 -5.8000002e+00 -5.7000003e+00\n",
      " -5.6000004e+00 -5.5000005e+00 -5.4000006e+00 -5.3000007e+00\n",
      " -5.2000008e+00 -5.1000009e+00 -5.0000010e+00 -4.9000010e+00\n",
      " -4.8000011e+00 -4.7000012e+00 -4.6000013e+00 -4.5000014e+00\n",
      " -4.4000015e+00 -4.3000016e+00 -4.2000017e+00 -4.1000018e+00\n",
      " -4.0000019e+00 -3.9000020e+00 -3.8000021e+00 -3.7000022e+00\n",
      " -3.6000023e+00 -3.5000024e+00 -3.4000025e+00 -3.3000026e+00\n",
      " -3.2000027e+00 -3.1000028e+00 -3.0000029e+00 -2.9000030e+00\n",
      " -2.8000031e+00 -2.7000031e+00 -2.6000032e+00 -2.5000033e+00\n",
      " -2.4000034e+00 -2.3000035e+00 -2.2000036e+00 -2.1000037e+00\n",
      " -2.0000038e+00 -1.9000038e+00 -1.8000038e+00 -1.7000037e+00\n",
      " -1.6000037e+00 -1.5000037e+00 -1.4000037e+00 -1.3000036e+00\n",
      " -1.2000036e+00 -1.1000036e+00 -1.0000036e+00 -9.0000355e-01\n",
      " -8.0000353e-01 -7.0000350e-01 -6.0000348e-01 -5.0000346e-01\n",
      " -4.0000346e-01 -3.0000347e-01 -2.0000347e-01 -1.0000347e-01\n",
      " -3.4719706e-06  9.9996530e-02  1.9999653e-01  2.9999653e-01\n",
      "  3.9999652e-01  4.9999651e-01  5.9999651e-01  6.9999653e-01\n",
      "  7.9999655e-01  8.9999658e-01  9.9999660e-01  1.0999966e+00\n",
      "  1.1999966e+00  1.2999966e+00  1.3999966e+00  1.4999967e+00\n",
      "  1.5999967e+00  1.6999967e+00  1.7999967e+00  1.8999968e+00\n",
      "  1.9999968e+00  2.0999968e+00  2.1999967e+00  2.2999966e+00\n",
      "  2.3999965e+00  2.4999964e+00  2.5999963e+00  2.6999962e+00\n",
      "  2.7999961e+00  2.8999960e+00  2.9999959e+00  3.0999959e+00\n",
      "  3.1999958e+00  3.2999957e+00  3.3999956e+00  3.4999955e+00\n",
      "  3.5999954e+00  3.6999953e+00  3.7999952e+00  3.8999951e+00\n",
      "  3.9999950e+00  4.0999951e+00  4.1999950e+00  4.2999949e+00\n",
      "  4.3999949e+00  4.4999948e+00  4.5999947e+00  4.6999946e+00\n",
      "  4.7999945e+00  4.8999944e+00  4.9999943e+00  5.0999942e+00\n",
      "  5.1999941e+00  5.2999940e+00  5.3999939e+00  5.4999938e+00\n",
      "  5.5999937e+00  5.6999936e+00  5.7999935e+00  5.8999934e+00], shape=(120,), dtype=float32) [0.00247262 0.00273196 0.00301842 0.00333481 0.00368424 0.00407014\n",
      " 0.00449627 0.0049668  0.0054863  0.0060598  0.00669284 0.00739153\n",
      " 0.00816256 0.00901329 0.00995179 0.01098693 0.01212842 0.0133869\n",
      " 0.01477401 0.01630247 0.01798618 0.01984027 0.02188123 0.02412697\n",
      " 0.02659694 0.02931216 0.03229538 0.0355711  0.03916562 0.04310714\n",
      " 0.04742574 0.05215342 0.05732401 0.06297317 0.06913821 0.07585794\n",
      " 0.08317243 0.09112266 0.09975016 0.10909645 0.11920252 0.13010804\n",
      " 0.14185062 0.15446477 0.1679811  0.18242498 0.19781552 0.2141644\n",
      " 0.23147455 0.2497392  0.26894072 0.28904977 0.31002474 0.33181146\n",
      " 0.3543429  0.37753987 0.40131152 0.42555663 0.45016515 0.47501993\n",
      " 0.49999917 0.52497834 0.5498331  0.57444173 0.5986868  0.6224585\n",
      " 0.6456555  0.668187   0.6899737  0.7109488  0.7310579  0.75025946\n",
      " 0.76852417 0.78583443 0.8021834  0.81757396 0.83201796 0.8455343\n",
      " 0.8581486  0.8698911  0.8807968  0.8909029  0.90024924 0.9088768\n",
      " 0.916827   0.9241416  0.93086135 0.9370264  0.9426756  0.94784623\n",
      " 0.95257396 0.95689255 0.9608341  0.96442866 0.9677045  0.9706877\n",
      " 0.9734029  0.9758729  0.9781186  0.98015964 0.98201376 0.9836975\n",
      " 0.98522586 0.986613   0.9878715  0.98901296 0.99004817 0.99098665\n",
      " 0.99183744 0.99260837 0.9933072  0.9939401  0.99451363 0.99503314\n",
      " 0.9955037  0.9959298  0.9963158  0.9966652  0.99698156 0.9972681 ] [0.0024665094222802676, 0.0027244970960916704, 0.0030093046527421767, 0.003323685691671583, 0.0036706648442868767, 0.00405357005838956, 0.004476053904354421, 0.00494212924381982, 0.005456195627978934, 0.006023075158944104, 0.00664804978894945, 0.007336899069978701, 0.008095934307301036, 0.008932048015569134, 0.009852750339170987, 0.01086621480060558, 0.011981318810430193, 0.01320768744707421, 0.01455573508769184, 0.01603669978822793, 0.017662673428592394, 0.01944663284355122, 0.021402437793299263, 0.02354485997213297, 0.025889538756608075, 0.02845295920315004, 0.03125239338334309, 0.0343057973494773, 0.03763167778796174, 0.04124891743261303, 0.04517654316929918, 0.04943343570043854, 0.05403797029364479, 0.059007552404012675, 0.06435812072761708, 0.07010352003380196, 0.07625478014076949, 0.08281932313249757, 0.08980006739436937, 0.09719441889838427, 0.1049932797959329, 0.11317994218298406, 0.1217290191893085, 0.13060540668726683, 0.13976345111416907, 0.14914610129450337, 0.15868454476062588, 0.16829801045024434, 0.177894088625461, 0.18736954142734843, 0.19661160926916654, 0.20549999779537653, 0.213909402390876, 0.22171261754731908, 0.22878401086761563, 0.23500351428091698, 0.2402605812565039, 0.24445818759544438, 0.2475164883156659, 0.2493759966585513, 0.24999999999925304, 0.2493760838461365, 0.247516659473844, 0.2444584337874921, 0.24026090934270206, 0.23500391645342386, 0.22878446946359757, 0.22171312927152068, 0.21390997590570413, 0.20550060603406817, 0.19661223728052596, 0.18737020580987176, 0.17789476486927974, 0.16829869369994233, 0.15868522135487878, 0.14914677109485946, 0.1397641003917943, 0.13060603577795632, 0.12172962633085395, 0.11318053348613624, 0.10499383969713381, 0.09719494253369713, 0.08980056989853417, 0.08281979741750818, 0.0762552205289176, 0.07010393235469582, 0.06435850546987743, 0.05900791129876403, 0.05403829972469973, 0.049433745304817964, 0.04517682678920406, 0.04124917789459389, 0.03763191535966872, 0.03430601861092323, 0.03125259511992493, 0.028453143202092458, 0.02588970748924651, 0.023545014270767065, 0.021402578579139356, 0.01944676001132419, 0.017662791488959717, 0.016036803983012222, 0.01455582898085293, 0.013207773280467407, 0.011981395163441703, 0.010866284777942267, 0.009852814999670893, 0.008932106319056379, 0.008095987197825835, 0.007336947423689678, 0.006648094293858305, 0.00602311458394535, 0.005456230905774436, 0.004942162524723043, 0.004476083799718823, 0.0040535969659647965, 0.0036706890504517456, 0.003323707224751347, 0.0030093246679148097, 0.0027245149078059614]\n"
     ]
    },
    {
     "data": {
      "text/plain": [
       "Text(0, 0.5, 'dSigm(Z)')"
      ]
     },
     "execution_count": 8,
     "metadata": {},
     "output_type": "execute_result"
    },
    {
     "data": {
      "image/png": "[encoded data removed]",
      "text/plain": [
       "<Figure size 432x288 with 1 Axes>"
      ]
     },
     "metadata": {
      "needs_background": "light"
     },
     "output_type": "display_data"
    }
   ],
   "source": [
    "'''\n",
    "1. call dSigmoid() to compute the derivative ds of z.\n",
    "2. print the values of z, s, and ds\n",
    "3. plot the function and observe the shape.\n",
    "'''\n",
    "## code starts here ##\n",
    "\n",
    "ds = dSigmoid(z)\n",
    "s = sigmoid(z)\n",
    "\n",
    "print(z, s, ds)\n",
    "plt.plot(z, ds)\n",
    "plt.xlabel(\"Z\")\n",
    "plt.ylabel(\"dSigm(Z)\")\n",
    "\n",
    "\n",
    "## code ends here ##"
   ]
  },
  {
   "cell_type": "markdown",
   "metadata": {
    "id": "-FjhoafaIw82"
   },
   "source": [
    "#### Question 6:"
   ]
  },
  {
   "cell_type": "code",
   "execution_count": 9,
   "metadata": {
    "colab": {
     "base_uri": "https://localhost:8080/",
     "height": 282
    },
    "id": "4VPLqBTm5Pr9",
    "outputId": "1d8a296b-629a-437b-fc24-ec0c1fb1a4c6"
   },
   "outputs": [
    {
     "data": {
      "text/plain": [
       "<matplotlib.legend.Legend at 0x7f969f80c810>"
      ]
     },
     "execution_count": 9,
     "metadata": {},
     "output_type": "execute_result"
    },
    {
     "data": {
      "image/png": "[encoded data removed]",
      "text/plain": [
       "<Figure size 432x288 with 1 Axes>"
      ]
     },
     "metadata": {
      "needs_background": "light"
     },
     "output_type": "display_data"
    }
   ],
   "source": [
    "'''\n",
    "Plot both s and ds on the same graph\n",
    "'''\n",
    "\n",
    "## code starts here ##\n",
    "\n",
    "plt.plot(z, s)\n",
    "plt.plot(z, ds)\n",
    "\n",
    "plt.legend([\"Sigmoid(z)\", \"dSigmoid(z)\"])\n",
    "\n",
    "## code ends here ##\n",
    "\n"
   ]
  },
  {
   "cell_type": "markdown",
   "metadata": {
    "id": "lcOv5yG6P5Ek"
   },
   "source": [
    "**Observation:**\n",
    "\n",
    "* Note how when the inputs of the sigmoid function becomes larger or smaller (when |x| becomes bigger, the derivative becomes close to zero.\n",
    "* Sigmoid function squishes a large input space into a small input space between 0 and 1. Therefore, a large change in the input of the sigmoid function will cause a small change in the output. Hence, the derivative becomes small.\n",
    "\n",
    "$Vanishing\\ Gradient\\ Problem$\n",
    "* As more layers using certain activation functions are added to neural networks, the gradients of the loss function approaches zero, making the network hard to train.\n",
    "* $Gradients$ of neural networks are found using backpropagation. That is backpropagation finds the derivatives of the network by moving layer by layer from the final layer to the initial one. By the chain rule, the derivatives of each layer are multiplied down the network (from the final layer to the initial) to compute the derivatives of the initial layers.\n",
    "* However, when n hidden layers use an activation like the sigmoid function, n small derivatives are multiplied together. Thus, the gradient decreases exponentially as we propagate down to the initial layers.\n",
    "* A small gradient means that the weights and biases of the initial layers will not be updated effectively with each training session.\n",
    "* Since these initial layers are often crucial to recognizing the core elements of the input data, it can lead to overall inaccuracy of the whole network.\n",
    "\n",
    "**Solution**\n",
    "* Use other activation functions, such as ReLU, which doesn’t cause a small derivative.\n",
    "* Residual networks are another solution, as they provide residual connections straight to earlier layers. \n",
    "\n"
   ]
  },
  {
   "cell_type": "markdown",
   "metadata": {
    "id": "z7XH0H5CV174"
   },
   "source": [
    "As seen in the following image, the residual connection directly adds the value at the beginning of the block, x, to the end of the block $(F(x)+x)$. This residual connection doesn’t go through activation functions that “squashes” the derivatives, resulting in a higher overall derivative of the block."
   ]
  },
  {
   "cell_type": "markdown",
   "metadata": {
    "id": "ofTZMUDNS9Kp"
   },
   "source": [
    "![image.png](data:image/png;base64,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)"
   ]
  },
  {
   "cell_type": "markdown",
   "metadata": {
    "id": "5iqDpvAwbugn"
   },
   "source": []
  },
  {
   "cell_type": "markdown",
   "metadata": {
    "id": "cTRD3j4n3ibB"
   },
   "source": [
    "### 2. ReLU and its derivative\n",
    "* ReLU provides a very simple nonlinear transformation. Given an element z, the function is defined as the maximum of that element and 0: $ReLU(x)=max(x,0)$.\n",
    "* The ReLU function retains only positive elements and discards all negative elements by setting the corresponding activations to 0.\n"
   ]
  },
  {
   "cell_type": "markdown",
   "metadata": {
    "id": "cvE9lJuPV52K"
   },
   "source": [
    "* To gain more insights, we can plot the relu function and it's derivative. The activation function is piecewise linear."
   ]
  },
  {
   "cell_type": "markdown",
   "metadata": {
    "id": "8IihZNS8I31e"
   },
   "source": [
    "#### Question 7:"
   ]
  },
  {
   "cell_type": "code",
   "execution_count": 10,
   "metadata": {
    "id": "s_FiAP4Fw1Kd"
   },
   "outputs": [],
   "source": [
    "def relu(z):\n",
    "  '''\n",
    "  Compute the rectified linear unit (ReLU) for z \n",
    "  Arguments: \n",
    "  z-- A scalar or numpy array of any size.\n",
    "  Return: \n",
    "  r -- relu(z)\n",
    "  '''\n",
    "  ## code starts here ##\n",
    "\n",
    "  r = []\n",
    "  for i in z:\n",
    "    r.append(max(0, i))    \n",
    "  \n",
    "  return r\n",
    "\n",
    "\n",
    "\n",
    "  ## code ends here ##"
   ]
  },
  {
   "cell_type": "markdown",
   "metadata": {
    "id": "P9fuqsdII9d2"
   },
   "source": [
    "#### Question 8:"
   ]
  },
  {
   "cell_type": "code",
   "execution_count": 11,
   "metadata": {
    "colab": {
     "base_uri": "https://localhost:8080/",
     "height": 855
    },
    "id": "Bz9ml7bj2OuW",
    "outputId": "bbabe6ae-b759-40fa-fc70-ed49d05f1522"
   },
   "outputs": [
    {
     "name": "stdout",
     "output_type": "stream",
     "text": [
      "tf.Tensor(\n",
      "[-6.0000000e+00 -5.9000001e+00 -5.8000002e+00 -5.7000003e+00\n",
      " -5.6000004e+00 -5.5000005e+00 -5.4000006e+00 -5.3000007e+00\n",
      " -5.2000008e+00 -5.1000009e+00 -5.0000010e+00 -4.9000010e+00\n",
      " -4.8000011e+00 -4.7000012e+00 -4.6000013e+00 -4.5000014e+00\n",
      " -4.4000015e+00 -4.3000016e+00 -4.2000017e+00 -4.1000018e+00\n",
      " -4.0000019e+00 -3.9000020e+00 -3.8000021e+00 -3.7000022e+00\n",
      " -3.6000023e+00 -3.5000024e+00 -3.4000025e+00 -3.3000026e+00\n",
      " -3.2000027e+00 -3.1000028e+00 -3.0000029e+00 -2.9000030e+00\n",
      " -2.8000031e+00 -2.7000031e+00 -2.6000032e+00 -2.5000033e+00\n",
      " -2.4000034e+00 -2.3000035e+00 -2.2000036e+00 -2.1000037e+00\n",
      " -2.0000038e+00 -1.9000038e+00 -1.8000038e+00 -1.7000037e+00\n",
      " -1.6000037e+00 -1.5000037e+00 -1.4000037e+00 -1.3000036e+00\n",
      " -1.2000036e+00 -1.1000036e+00 -1.0000036e+00 -9.0000355e-01\n",
      " -8.0000353e-01 -7.0000350e-01 -6.0000348e-01 -5.0000346e-01\n",
      " -4.0000346e-01 -3.0000347e-01 -2.0000347e-01 -1.0000347e-01\n",
      " -3.4719706e-06  9.9996530e-02  1.9999653e-01  2.9999653e-01\n",
      "  3.9999652e-01  4.9999651e-01  5.9999651e-01  6.9999653e-01\n",
      "  7.9999655e-01  8.9999658e-01  9.9999660e-01  1.0999966e+00\n",
      "  1.1999966e+00  1.2999966e+00  1.3999966e+00  1.4999967e+00\n",
      "  1.5999967e+00  1.6999967e+00  1.7999967e+00  1.8999968e+00\n",
      "  1.9999968e+00  2.0999968e+00  2.1999967e+00  2.2999966e+00\n",
      "  2.3999965e+00  2.4999964e+00  2.5999963e+00  2.6999962e+00\n",
      "  2.7999961e+00  2.8999960e+00  2.9999959e+00  3.0999959e+00\n",
      "  3.1999958e+00  3.2999957e+00  3.3999956e+00  3.4999955e+00\n",
      "  3.5999954e+00  3.6999953e+00  3.7999952e+00  3.8999951e+00\n",
      "  3.9999950e+00  4.0999951e+00  4.1999950e+00  4.2999949e+00\n",
      "  4.3999949e+00  4.4999948e+00  4.5999947e+00  4.6999946e+00\n",
      "  4.7999945e+00  4.8999944e+00  4.9999943e+00  5.0999942e+00\n",
      "  5.1999941e+00  5.2999940e+00  5.3999939e+00  5.4999938e+00\n",
      "  5.5999937e+00  5.6999936e+00  5.7999935e+00  5.8999934e+00], shape=(120,), dtype=float32) [0, 0, 0, 0, 0, 0, 0, 0, 0, 0, 0, 0, 0, 0, 0, 0, 0, 0, 0, 0, 0, 0, 0, 0, 0, 0, 0, 0, 0, 0, 0, 0, 0, 0, 0, 0, 0, 0, 0, 0, 0, 0, 0, 0, 0, 0, 0, 0, 0, 0, 0, 0, 0, 0, 0, 0, 0, 0, 0, 0, 0, <tf.Tensor: shape=(), dtype=float32, numpy=0.09999653>, <tf.Tensor: shape=(), dtype=float32, numpy=0.19999653>, <tf.Tensor: shape=(), dtype=float32, numpy=0.29999653>, <tf.Tensor: shape=(), dtype=float32, numpy=0.39999652>, <tf.Tensor: shape=(), dtype=float32, numpy=0.4999965>, <tf.Tensor: shape=(), dtype=float32, numpy=0.5999965>, <tf.Tensor: shape=(), dtype=float32, numpy=0.69999653>, <tf.Tensor: shape=(), dtype=float32, numpy=0.79999655>, <tf.Tensor: shape=(), dtype=float32, numpy=0.8999966>, <tf.Tensor: shape=(), dtype=float32, numpy=0.9999966>, <tf.Tensor: shape=(), dtype=float32, numpy=1.0999966>, <tf.Tensor: shape=(), dtype=float32, numpy=1.1999966>, <tf.Tensor: shape=(), dtype=float32, numpy=1.2999966>, <tf.Tensor: shape=(), dtype=float32, numpy=1.3999966>, <tf.Tensor: shape=(), dtype=float32, numpy=1.4999967>, <tf.Tensor: shape=(), dtype=float32, numpy=1.5999967>, <tf.Tensor: shape=(), dtype=float32, numpy=1.6999967>, <tf.Tensor: shape=(), dtype=float32, numpy=1.7999967>, <tf.Tensor: shape=(), dtype=float32, numpy=1.8999968>, <tf.Tensor: shape=(), dtype=float32, numpy=1.9999968>, <tf.Tensor: shape=(), dtype=float32, numpy=2.0999968>, <tf.Tensor: shape=(), dtype=float32, numpy=2.1999967>, <tf.Tensor: shape=(), dtype=float32, numpy=2.2999966>, <tf.Tensor: shape=(), dtype=float32, numpy=2.3999965>, <tf.Tensor: shape=(), dtype=float32, numpy=2.4999964>, <tf.Tensor: shape=(), dtype=float32, numpy=2.5999963>, <tf.Tensor: shape=(), dtype=float32, numpy=2.6999962>, <tf.Tensor: shape=(), dtype=float32, numpy=2.7999961>, <tf.Tensor: shape=(), dtype=float32, numpy=2.899996>, <tf.Tensor: shape=(), dtype=float32, numpy=2.999996>, <tf.Tensor: shape=(), dtype=float32, numpy=3.0999959>, <tf.Tensor: shape=(), dtype=float32, numpy=3.1999958>, <tf.Tensor: shape=(), dtype=float32, numpy=3.2999957>, <tf.Tensor: shape=(), dtype=float32, numpy=3.3999956>, <tf.Tensor: shape=(), dtype=float32, numpy=3.4999955>, <tf.Tensor: shape=(), dtype=float32, numpy=3.5999954>, <tf.Tensor: shape=(), dtype=float32, numpy=3.6999953>, <tf.Tensor: shape=(), dtype=float32, numpy=3.7999952>, <tf.Tensor: shape=(), dtype=float32, numpy=3.899995>, <tf.Tensor: shape=(), dtype=float32, numpy=3.999995>, <tf.Tensor: shape=(), dtype=float32, numpy=4.099995>, <tf.Tensor: shape=(), dtype=float32, numpy=4.199995>, <tf.Tensor: shape=(), dtype=float32, numpy=4.299995>, <tf.Tensor: shape=(), dtype=float32, numpy=4.399995>, <tf.Tensor: shape=(), dtype=float32, numpy=4.4999948>, <tf.Tensor: shape=(), dtype=float32, numpy=4.5999947>, <tf.Tensor: shape=(), dtype=float32, numpy=4.6999946>, <tf.Tensor: shape=(), dtype=float32, numpy=4.7999945>, <tf.Tensor: shape=(), dtype=float32, numpy=4.8999944>, <tf.Tensor: shape=(), dtype=float32, numpy=4.9999943>, <tf.Tensor: shape=(), dtype=float32, numpy=5.099994>, <tf.Tensor: shape=(), dtype=float32, numpy=5.199994>, <tf.Tensor: shape=(), dtype=float32, numpy=5.299994>, <tf.Tensor: shape=(), dtype=float32, numpy=5.399994>, <tf.Tensor: shape=(), dtype=float32, numpy=5.499994>, <tf.Tensor: shape=(), dtype=float32, numpy=5.5999937>, <tf.Tensor: shape=(), dtype=float32, numpy=5.6999936>, <tf.Tensor: shape=(), dtype=float32, numpy=5.7999935>, <tf.Tensor: shape=(), dtype=float32, numpy=5.8999934>]\n"
     ]
    },
    {
     "data": {
      "text/plain": [
       "Text(0, 0.5, 'relu (Z)')"
      ]
     },
     "execution_count": 11,
     "metadata": {},
     "output_type": "execute_result"
    },
    {
     "data": {
      "image/png": "[encoded data removed]",
      "text/plain": [
       "<Figure size 432x288 with 1 Axes>"
      ]
     },
     "metadata": {
      "needs_background": "light"
     },
     "output_type": "display_data"
    }
   ],
   "source": [
    "'''\n",
    "1. Call relu() function to compute r of z\n",
    "2. print the values of z and r\n",
    "3. plot the function and observe the shape.\n",
    "'''\n",
    "\n",
    "## code starts here ##\n",
    "\n",
    "r = relu(z)\n",
    "\n",
    "print(z, r)\n",
    "\n",
    "plt.plot(z, r)\n",
    "plt.xlabel(\"Z\")\n",
    "plt.ylabel(\"relu (Z)\")\n",
    "\n",
    "\n",
    "\n",
    "## code ends here ##"
   ]
  },
  {
   "cell_type": "markdown",
   "metadata": {
    "id": "DwzCIjrx5f5k"
   },
   "source": [
    "**Observation:** \n",
    "* When the input is negative, the derivative of the ReLU function is 0, and when the input is positive, the derivative of the ReLU function is 1. \n",
    "* Range of values [0, inf)  \n",
    "* Note that the ReLU function is not differentiable when the input takes value precisely equal to 0. \n",
    "* In these cases, we default to the left-hand-side derivative and say that the derivative is 0 when the input is 0. We can get away with this because the input may never actually be zero. \n",
    "* Nature :- non-linear, which means we can easily backpropagate the errors and have multiple layers of neurons being activated by the ReLU function.\n",
    "* Uses :- ReLu is less computationally expensive than tanh and sigmoid because it involves simpler mathematical operations. At a time only a few neurons are activated making the network sparse (drop out) making it efficient and easy for computation.\n",
    "\n",
    "* We plot the derivative of the ReLU function."
   ]
  },
  {
   "cell_type": "markdown",
   "metadata": {
    "id": "aNsTxO6-JDDG"
   },
   "source": [
    "#### Question 9:"
   ]
  },
  {
   "cell_type": "code",
   "execution_count": 12,
   "metadata": {
    "id": "BIkaxF7J6_Mu"
   },
   "outputs": [],
   "source": [
    "def dRelu(z):\n",
    "  '''\n",
    "  Compute the derivative dr of z \n",
    "  Arguments: \n",
    "  z-- A scalar or numpy array of any size.\n",
    "  Return: \n",
    "  dr -- dRelu(z)\n",
    "  '''\n",
    "  ## code starts here ##\n",
    "\n",
    "  dr = []\n",
    "  for i in z:\n",
    "    if i > 0:\n",
    "      dr.append(1)\n",
    "    else:\n",
    "      dr.append(0)\n",
    "\n",
    "  return dr\n",
    "\n",
    "\n",
    "  ## code ends here ##\n"
   ]
  },
  {
   "cell_type": "markdown",
   "metadata": {
    "id": "oVLpPWGDJHSO"
   },
   "source": [
    "#### Question 10: "
   ]
  },
  {
   "cell_type": "code",
   "execution_count": 13,
   "metadata": {
    "colab": {
     "base_uri": "https://localhost:8080/",
     "height": 855
    },
    "id": "U-WHraZU5P28",
    "outputId": "68881788-cda3-42e3-de70-5a90818748ab"
   },
   "outputs": [
    {
     "name": "stdout",
     "output_type": "stream",
     "text": [
      "tf.Tensor(\n",
      "[-6.0000000e+00 -5.9000001e+00 -5.8000002e+00 -5.7000003e+00\n",
      " -5.6000004e+00 -5.5000005e+00 -5.4000006e+00 -5.3000007e+00\n",
      " -5.2000008e+00 -5.1000009e+00 -5.0000010e+00 -4.9000010e+00\n",
      " -4.8000011e+00 -4.7000012e+00 -4.6000013e+00 -4.5000014e+00\n",
      " -4.4000015e+00 -4.3000016e+00 -4.2000017e+00 -4.1000018e+00\n",
      " -4.0000019e+00 -3.9000020e+00 -3.8000021e+00 -3.7000022e+00\n",
      " -3.6000023e+00 -3.5000024e+00 -3.4000025e+00 -3.3000026e+00\n",
      " -3.2000027e+00 -3.1000028e+00 -3.0000029e+00 -2.9000030e+00\n",
      " -2.8000031e+00 -2.7000031e+00 -2.6000032e+00 -2.5000033e+00\n",
      " -2.4000034e+00 -2.3000035e+00 -2.2000036e+00 -2.1000037e+00\n",
      " -2.0000038e+00 -1.9000038e+00 -1.8000038e+00 -1.7000037e+00\n",
      " -1.6000037e+00 -1.5000037e+00 -1.4000037e+00 -1.3000036e+00\n",
      " -1.2000036e+00 -1.1000036e+00 -1.0000036e+00 -9.0000355e-01\n",
      " -8.0000353e-01 -7.0000350e-01 -6.0000348e-01 -5.0000346e-01\n",
      " -4.0000346e-01 -3.0000347e-01 -2.0000347e-01 -1.0000347e-01\n",
      " -3.4719706e-06  9.9996530e-02  1.9999653e-01  2.9999653e-01\n",
      "  3.9999652e-01  4.9999651e-01  5.9999651e-01  6.9999653e-01\n",
      "  7.9999655e-01  8.9999658e-01  9.9999660e-01  1.0999966e+00\n",
      "  1.1999966e+00  1.2999966e+00  1.3999966e+00  1.4999967e+00\n",
      "  1.5999967e+00  1.6999967e+00  1.7999967e+00  1.8999968e+00\n",
      "  1.9999968e+00  2.0999968e+00  2.1999967e+00  2.2999966e+00\n",
      "  2.3999965e+00  2.4999964e+00  2.5999963e+00  2.6999962e+00\n",
      "  2.7999961e+00  2.8999960e+00  2.9999959e+00  3.0999959e+00\n",
      "  3.1999958e+00  3.2999957e+00  3.3999956e+00  3.4999955e+00\n",
      "  3.5999954e+00  3.6999953e+00  3.7999952e+00  3.8999951e+00\n",
      "  3.9999950e+00  4.0999951e+00  4.1999950e+00  4.2999949e+00\n",
      "  4.3999949e+00  4.4999948e+00  4.5999947e+00  4.6999946e+00\n",
      "  4.7999945e+00  4.8999944e+00  4.9999943e+00  5.0999942e+00\n",
      "  5.1999941e+00  5.2999940e+00  5.3999939e+00  5.4999938e+00\n",
      "  5.5999937e+00  5.6999936e+00  5.7999935e+00  5.8999934e+00], shape=(120,), dtype=float32) [0, 0, 0, 0, 0, 0, 0, 0, 0, 0, 0, 0, 0, 0, 0, 0, 0, 0, 0, 0, 0, 0, 0, 0, 0, 0, 0, 0, 0, 0, 0, 0, 0, 0, 0, 0, 0, 0, 0, 0, 0, 0, 0, 0, 0, 0, 0, 0, 0, 0, 0, 0, 0, 0, 0, 0, 0, 0, 0, 0, 0, <tf.Tensor: shape=(), dtype=float32, numpy=0.09999653>, <tf.Tensor: shape=(), dtype=float32, numpy=0.19999653>, <tf.Tensor: shape=(), dtype=float32, numpy=0.29999653>, <tf.Tensor: shape=(), dtype=float32, numpy=0.39999652>, <tf.Tensor: shape=(), dtype=float32, numpy=0.4999965>, <tf.Tensor: shape=(), dtype=float32, numpy=0.5999965>, <tf.Tensor: shape=(), dtype=float32, numpy=0.69999653>, <tf.Tensor: shape=(), dtype=float32, numpy=0.79999655>, <tf.Tensor: shape=(), dtype=float32, numpy=0.8999966>, <tf.Tensor: shape=(), dtype=float32, numpy=0.9999966>, <tf.Tensor: shape=(), dtype=float32, numpy=1.0999966>, <tf.Tensor: shape=(), dtype=float32, numpy=1.1999966>, <tf.Tensor: shape=(), dtype=float32, numpy=1.2999966>, <tf.Tensor: shape=(), dtype=float32, numpy=1.3999966>, <tf.Tensor: shape=(), dtype=float32, numpy=1.4999967>, <tf.Tensor: shape=(), dtype=float32, numpy=1.5999967>, <tf.Tensor: shape=(), dtype=float32, numpy=1.6999967>, <tf.Tensor: shape=(), dtype=float32, numpy=1.7999967>, <tf.Tensor: shape=(), dtype=float32, numpy=1.8999968>, <tf.Tensor: shape=(), dtype=float32, numpy=1.9999968>, <tf.Tensor: shape=(), dtype=float32, numpy=2.0999968>, <tf.Tensor: shape=(), dtype=float32, numpy=2.1999967>, <tf.Tensor: shape=(), dtype=float32, numpy=2.2999966>, <tf.Tensor: shape=(), dtype=float32, numpy=2.3999965>, <tf.Tensor: shape=(), dtype=float32, numpy=2.4999964>, <tf.Tensor: shape=(), dtype=float32, numpy=2.5999963>, <tf.Tensor: shape=(), dtype=float32, numpy=2.6999962>, <tf.Tensor: shape=(), dtype=float32, numpy=2.7999961>, <tf.Tensor: shape=(), dtype=float32, numpy=2.899996>, <tf.Tensor: shape=(), dtype=float32, numpy=2.999996>, <tf.Tensor: shape=(), dtype=float32, numpy=3.0999959>, <tf.Tensor: shape=(), dtype=float32, numpy=3.1999958>, <tf.Tensor: shape=(), dtype=float32, numpy=3.2999957>, <tf.Tensor: shape=(), dtype=float32, numpy=3.3999956>, <tf.Tensor: shape=(), dtype=float32, numpy=3.4999955>, <tf.Tensor: shape=(), dtype=float32, numpy=3.5999954>, <tf.Tensor: shape=(), dtype=float32, numpy=3.6999953>, <tf.Tensor: shape=(), dtype=float32, numpy=3.7999952>, <tf.Tensor: shape=(), dtype=float32, numpy=3.899995>, <tf.Tensor: shape=(), dtype=float32, numpy=3.999995>, <tf.Tensor: shape=(), dtype=float32, numpy=4.099995>, <tf.Tensor: shape=(), dtype=float32, numpy=4.199995>, <tf.Tensor: shape=(), dtype=float32, numpy=4.299995>, <tf.Tensor: shape=(), dtype=float32, numpy=4.399995>, <tf.Tensor: shape=(), dtype=float32, numpy=4.4999948>, <tf.Tensor: shape=(), dtype=float32, numpy=4.5999947>, <tf.Tensor: shape=(), dtype=float32, numpy=4.6999946>, <tf.Tensor: shape=(), dtype=float32, numpy=4.7999945>, <tf.Tensor: shape=(), dtype=float32, numpy=4.8999944>, <tf.Tensor: shape=(), dtype=float32, numpy=4.9999943>, <tf.Tensor: shape=(), dtype=float32, numpy=5.099994>, <tf.Tensor: shape=(), dtype=float32, numpy=5.199994>, <tf.Tensor: shape=(), dtype=float32, numpy=5.299994>, <tf.Tensor: shape=(), dtype=float32, numpy=5.399994>, <tf.Tensor: shape=(), dtype=float32, numpy=5.499994>, <tf.Tensor: shape=(), dtype=float32, numpy=5.5999937>, <tf.Tensor: shape=(), dtype=float32, numpy=5.6999936>, <tf.Tensor: shape=(), dtype=float32, numpy=5.7999935>, <tf.Tensor: shape=(), dtype=float32, numpy=5.8999934>] [0, 0, 0, 0, 0, 0, 0, 0, 0, 0, 0, 0, 0, 0, 0, 0, 0, 0, 0, 0, 0, 0, 0, 0, 0, 0, 0, 0, 0, 0, 0, 0, 0, 0, 0, 0, 0, 0, 0, 0, 0, 0, 0, 0, 0, 0, 0, 0, 0, 0, 0, 0, 0, 0, 0, 0, 0, 0, 0, 0, 0, 1, 1, 1, 1, 1, 1, 1, 1, 1, 1, 1, 1, 1, 1, 1, 1, 1, 1, 1, 1, 1, 1, 1, 1, 1, 1, 1, 1, 1, 1, 1, 1, 1, 1, 1, 1, 1, 1, 1, 1, 1, 1, 1, 1, 1, 1, 1, 1, 1, 1, 1, 1, 1, 1, 1, 1, 1, 1, 1]\n"
     ]
    },
    {
     "data": {
      "text/plain": [
       "Text(0, 0.5, 'dRelu (Z)')"
      ]
     },
     "execution_count": 13,
     "metadata": {},
     "output_type": "execute_result"
    },
    {
     "data": {
      "image/png": "[encoded data removed]",
      "text/plain": [
       "<Figure size 432x288 with 1 Axes>"
      ]
     },
     "metadata": {
      "needs_background": "light"
     },
     "output_type": "display_data"
    }
   ],
   "source": [
    "'''\n",
    "1. call dRelu() to compute the derivative dr of z.\n",
    "2. print the values of z, r, and dr\n",
    "3. plot the function and observe the shape.\n",
    "'''\n",
    "## code starts here ##\n",
    "\n",
    "dr = dRelu(z)\n",
    "\n",
    "print(z, r, dr)\n",
    "\n",
    "plt.plot(z, dr)\n",
    "plt.xlabel(\"Z\")\n",
    "plt.ylabel(\"dRelu (Z)\")\n",
    "\n",
    "## code ends here ##"
   ]
  },
  {
   "cell_type": "markdown",
   "metadata": {
    "id": "MUtTqVS580zA"
   },
   "source": [
    "**Observation:**\n",
    " * The reason for using ReLU is that its derivatives are particularly well behaved: either they vanish or they just let the argument through.   \n",
    " * This makes optimization better behaved and it mitigated the well-documented problem of vanishing gradients that plagued previous versions of neural networks."
   ]
  },
  {
   "cell_type": "markdown",
   "metadata": {
    "id": "ElyX-vaAJMJ2"
   },
   "source": [
    "#### Question 11: "
   ]
  },
  {
   "cell_type": "code",
   "execution_count": 14,
   "metadata": {
    "colab": {
     "base_uri": "https://localhost:8080/",
     "height": 282
    },
    "id": "e-2uANV_C6f9",
    "outputId": "d02dbb10-64e9-4c55-91ed-c1572c246ad1"
   },
   "outputs": [
    {
     "data": {
      "text/plain": [
       "<matplotlib.legend.Legend at 0x7f969f67f350>"
      ]
     },
     "execution_count": 14,
     "metadata": {},
     "output_type": "execute_result"
    },
    {
     "data": {
      "image/png": "[encoded data removed]",
      "text/plain": [
       "<Figure size 432x288 with 1 Axes>"
      ]
     },
     "metadata": {
      "needs_background": "light"
     },
     "output_type": "display_data"
    }
   ],
   "source": [
    "'''\n",
    "Plot both s and ds in the same graph\n",
    "'''\n",
    "\n",
    "## code starts here ##\n",
    "\n",
    "plt.plot(z, r)\n",
    "plt.plot(z, dr)\n",
    "\n",
    "plt.legend([\"relu (Z)\", \"dRelu (Z)\"])\n",
    "\n",
    "## code ends here ##"
   ]
  },
  {
   "cell_type": "markdown",
   "metadata": {
    "id": "69sfz3dZWtXP"
   },
   "source": [
    "**Limitations:**\n",
    "* ReLU can be used within Hidden layers of a Neural Network Model.\n",
    "* Some gradients can be fragile during training and can die. It can cause a weight update which will makes it never activate on any data point again - ReLu could result in Dead Neurons.\n",
    "\n",
    "* To fix this problem another modification was introduced called Leaky ReLu to fix the problem of dying neurons. It introduces a small slope to keep the updates alive. \n",
    "* Another variant made from both ReLu and Leaky ReLu called Maxout function."
   ]
  },
  {
   "cell_type": "markdown",
   "metadata": {
    "id": "l3XlxKrY8Xl_"
   },
   "source": [
    "BONUS: Implement parameterized ReLU and Leaky ReLU\n",
    "\n",
    "$\\operatorname{pReLU}(x) = \\max(0, x) + \\alpha \\min(0, x)$.\n",
    "\n",
    "* He, K., Zhang, X., Ren, S., & Sun, J. (2015). Delving deep into rectifiers: surpassing human-level performance on imagenet classification. Proceedings of the IEEE international conference on computer vision (pp. 1026–1034)."
   ]
  },
  {
   "cell_type": "markdown",
   "metadata": {
    "id": "uwGYGpXMD1Ww"
   },
   "source": [
    "### 3. Tanh and its Derivative\n",
    "* Like the sigmoid function, the tanh (hyperbolic tangent) function also squashes its inputs, transforming them into elements on the interval between -1 and 1:\n",
    "$\\operatorname{tanh}(x) = \\frac{1 - \\exp(-2x)}{1 + \\exp(-2x)}$.\n",
    "* Sigmoid function maps input values between 0 and 1\n",
    "* Tanh maps values between -1 and 1"
   ]
  },
  {
   "cell_type": "markdown",
   "metadata": {
    "id": "h69RxZtcJSyu"
   },
   "source": [
    "#### Question 12:"
   ]
  },
  {
   "cell_type": "code",
   "execution_count": 15,
   "metadata": {
    "id": "NdinJafn5Pmd"
   },
   "outputs": [],
   "source": [
    "def tanh(z):\n",
    "    \"\"\"\n",
    "    Compute the tanh of z\n",
    "\n",
    "    Arguments:\n",
    "    z -- A scalar or numpy array of any size.\n",
    "\n",
    "    Return:\n",
    "    t -- tanh(z)\n",
    "    \"\"\"\n",
    "\n",
    "    ### START CODE HERE ### (≈ 1 line of code)\n",
    "\n",
    "    t = ((1-np.exp(-2*z)) / (1+np.exp(-2*z)))\n",
    "    \n",
    "    return t\n",
    "\n",
    "\n",
    "    ### END CODE HERE ###"
   ]
  },
  {
   "cell_type": "markdown",
   "metadata": {
    "id": "QAktNfTOJZL-"
   },
   "source": [
    "#### Question 13:"
   ]
  },
  {
   "cell_type": "code",
   "execution_count": 16,
   "metadata": {
    "colab": {
     "base_uri": "https://localhost:8080/",
     "height": 1000
    },
    "id": "Yq1tzJIVH0eZ",
    "outputId": "a691e8f5-e61c-4ead-c9f6-b12c6c51ce25"
   },
   "outputs": [
    {
     "name": "stdout",
     "output_type": "stream",
     "text": [
      "tf.Tensor(\n",
      "[-6.0000000e+00 -5.9000001e+00 -5.8000002e+00 -5.7000003e+00\n",
      " -5.6000004e+00 -5.5000005e+00 -5.4000006e+00 -5.3000007e+00\n",
      " -5.2000008e+00 -5.1000009e+00 -5.0000010e+00 -4.9000010e+00\n",
      " -4.8000011e+00 -4.7000012e+00 -4.6000013e+00 -4.5000014e+00\n",
      " -4.4000015e+00 -4.3000016e+00 -4.2000017e+00 -4.1000018e+00\n",
      " -4.0000019e+00 -3.9000020e+00 -3.8000021e+00 -3.7000022e+00\n",
      " -3.6000023e+00 -3.5000024e+00 -3.4000025e+00 -3.3000026e+00\n",
      " -3.2000027e+00 -3.1000028e+00 -3.0000029e+00 -2.9000030e+00\n",
      " -2.8000031e+00 -2.7000031e+00 -2.6000032e+00 -2.5000033e+00\n",
      " -2.4000034e+00 -2.3000035e+00 -2.2000036e+00 -2.1000037e+00\n",
      " -2.0000038e+00 -1.9000038e+00 -1.8000038e+00 -1.7000037e+00\n",
      " -1.6000037e+00 -1.5000037e+00 -1.4000037e+00 -1.3000036e+00\n",
      " -1.2000036e+00 -1.1000036e+00 -1.0000036e+00 -9.0000355e-01\n",
      " -8.0000353e-01 -7.0000350e-01 -6.0000348e-01 -5.0000346e-01\n",
      " -4.0000346e-01 -3.0000347e-01 -2.0000347e-01 -1.0000347e-01\n",
      " -3.4719706e-06  9.9996530e-02  1.9999653e-01  2.9999653e-01\n",
      "  3.9999652e-01  4.9999651e-01  5.9999651e-01  6.9999653e-01\n",
      "  7.9999655e-01  8.9999658e-01  9.9999660e-01  1.0999966e+00\n",
      "  1.1999966e+00  1.2999966e+00  1.3999966e+00  1.4999967e+00\n",
      "  1.5999967e+00  1.6999967e+00  1.7999967e+00  1.8999968e+00\n",
      "  1.9999968e+00  2.0999968e+00  2.1999967e+00  2.2999966e+00\n",
      "  2.3999965e+00  2.4999964e+00  2.5999963e+00  2.6999962e+00\n",
      "  2.7999961e+00  2.8999960e+00  2.9999959e+00  3.0999959e+00\n",
      "  3.1999958e+00  3.2999957e+00  3.3999956e+00  3.4999955e+00\n",
      "  3.5999954e+00  3.6999953e+00  3.7999952e+00  3.8999951e+00\n",
      "  3.9999950e+00  4.0999951e+00  4.1999950e+00  4.2999949e+00\n",
      "  4.3999949e+00  4.4999948e+00  4.5999947e+00  4.6999946e+00\n",
      "  4.7999945e+00  4.8999944e+00  4.9999943e+00  5.0999942e+00\n",
      "  5.1999941e+00  5.2999940e+00  5.3999939e+00  5.4999938e+00\n",
      "  5.5999937e+00  5.6999936e+00  5.7999935e+00  5.8999934e+00], shape=(120,), dtype=float32) [-9.9998772e-01 -9.9998498e-01 -9.9998164e-01 -9.9997759e-01\n",
      " -9.9997264e-01 -9.9996662e-01 -9.9995923e-01 -9.9995017e-01\n",
      " -9.9993914e-01 -9.9992567e-01 -9.9990922e-01 -9.9988908e-01\n",
      " -9.9986458e-01 -9.9983454e-01 -9.9979794e-01 -9.9975324e-01\n",
      " -9.9969858e-01 -9.9963188e-01 -9.9955034e-01 -9.9945086e-01\n",
      " -9.9932933e-01 -9.9918085e-01 -9.9899960e-01 -9.9877822e-01\n",
      " -9.9850798e-01 -9.9817789e-01 -9.9777496e-01 -9.9728298e-01\n",
      " -9.9668241e-01 -9.9594939e-01 -9.9505478e-01 -9.9396318e-01\n",
      " -9.9263155e-01 -9.9100751e-01 -9.8902750e-01 -9.8661441e-01\n",
      " -9.8367494e-01 -9.8009652e-01 -9.7574329e-01 -9.7045213e-01\n",
      " -9.6402782e-01 -9.5623779e-01 -9.4680643e-01 -9.3540955e-01\n",
      " -9.2166913e-01 -9.0514892e-01 -8.8535243e-01 -8.6172414e-01\n",
      " -8.3365571e-01 -8.0050033e-01 -7.6159567e-01 -7.1629959e-01\n",
      " -6.6403872e-01 -6.0437000e-01 -5.3705204e-01 -4.6211988e-01\n",
      " -3.7995192e-01 -2.9131576e-01 -1.9737861e-01 -9.9671483e-02\n",
      " -3.4570573e-06  9.9664561e-02  1.9737199e-01  2.9130939e-01\n",
      "  3.7994596e-01  4.6211439e-01  5.3704703e-01  6.0436559e-01\n",
      "  6.6403484e-01  7.1629620e-01  7.6159275e-01  8.0049777e-01\n",
      "  8.3365351e-01  8.6172229e-01  8.8535094e-01  9.0514767e-01\n",
      "  9.2166811e-01  9.3540871e-01  9.4680560e-01  9.5623714e-01\n",
      "  9.6402735e-01  9.7045171e-01  9.7574300e-01  9.8009634e-01\n",
      "  9.8367471e-01  9.8661423e-01  9.8902732e-01  9.9100739e-01\n",
      "  9.9263149e-01  9.9396318e-01  9.9505478e-01  9.9594939e-01\n",
      "  9.9668235e-01  9.9728292e-01  9.9777496e-01  9.9817795e-01\n",
      "  9.9850792e-01  9.9877822e-01  9.9899960e-01  9.9918091e-01\n",
      "  9.9932933e-01  9.9945086e-01  9.9955040e-01  9.9963188e-01\n",
      "  9.9969864e-01  9.9975330e-01  9.9979788e-01  9.9983454e-01\n",
      "  9.9986458e-01  9.9988914e-01  9.9990916e-01  9.9992561e-01\n",
      "  9.9993914e-01  9.9995017e-01  9.9995923e-01  9.9996662e-01\n",
      "  9.9997264e-01  9.9997759e-01  9.9998164e-01  9.9998498e-01]\n"
     ]
    },
    {
     "data": {
      "image/png": "[encoded data removed]",
      "text/plain": [
       "<Figure size 432x288 with 1 Axes>"
      ]
     },
     "metadata": {
      "needs_background": "light"
     },
     "output_type": "display_data"
    }
   ],
   "source": [
    "'''\n",
    "1. Call tanh() function to compute t\n",
    "2. print the values of z and t\n",
    "3. plot the function and observe the shape.\n",
    "'''\n",
    "## code starts here ##\n",
    "\n",
    "t = tanh(z)\n",
    "\n",
    "print(z, t)\n",
    "\n",
    "plt.plot(z, t)\n",
    "plt.xlabel(\"Z\")\n",
    "plt.ylabel(\"tanh (Z)\")\n",
    "  \n",
    "plt.show()\n",
    "\n",
    "\n",
    "## code ends here ##"
   ]
  },
  {
   "cell_type": "markdown",
   "metadata": {
    "id": "G80EAGYx4x4l"
   },
   "source": [
    "**Observation:**\n",
    " * As the input nears 0, the tanh function approaches a linear transformation. \n",
    " * Although the shape of the function is similar to that of the sigmoid function, the tanh function exhibits point symmetry about the origin of the coordinate system."
   ]
  },
  {
   "cell_type": "markdown",
   "metadata": {
    "id": "Vx5dMgTQJd3m"
   },
   "source": [
    "#### Question 14:"
   ]
  },
  {
   "cell_type": "code",
   "execution_count": 17,
   "metadata": {
    "id": "XVVEv5TmISxO"
   },
   "outputs": [],
   "source": [
    "def dTanh(z):\n",
    "  '''\n",
    "  Compute the derivative dt of z \n",
    "  Arguments: \n",
    "  z-- A scalar or numpy array of any size.\n",
    "  Return: \n",
    "  dt -- dTanh(z)\n",
    "  '''\n",
    "  ## code starts here ##\n",
    "\n",
    "  dt = 1 - (tanh(z) * tanh(z))\n",
    "  \n",
    "  return dt\n",
    "\n",
    "  ## code ends here ##"
   ]
  },
  {
   "cell_type": "markdown",
   "metadata": {
    "id": "lB0gSQrhJg3d"
   },
   "source": [
    "#### Question 15: "
   ]
  },
  {
   "cell_type": "code",
   "execution_count": 18,
   "metadata": {
    "colab": {
     "base_uri": "https://localhost:8080/",
     "height": 1000
    },
    "id": "tTEqA-IoHrZR",
    "outputId": "f71eec2a-2ed9-43fb-8e59-189e4afcb213"
   },
   "outputs": [
    {
     "name": "stdout",
     "output_type": "stream",
     "text": [
      "tf.Tensor(\n",
      "[-6.0000000e+00 -5.9000001e+00 -5.8000002e+00 -5.7000003e+00\n",
      " -5.6000004e+00 -5.5000005e+00 -5.4000006e+00 -5.3000007e+00\n",
      " -5.2000008e+00 -5.1000009e+00 -5.0000010e+00 -4.9000010e+00\n",
      " -4.8000011e+00 -4.7000012e+00 -4.6000013e+00 -4.5000014e+00\n",
      " -4.4000015e+00 -4.3000016e+00 -4.2000017e+00 -4.1000018e+00\n",
      " -4.0000019e+00 -3.9000020e+00 -3.8000021e+00 -3.7000022e+00\n",
      " -3.6000023e+00 -3.5000024e+00 -3.4000025e+00 -3.3000026e+00\n",
      " -3.2000027e+00 -3.1000028e+00 -3.0000029e+00 -2.9000030e+00\n",
      " -2.8000031e+00 -2.7000031e+00 -2.6000032e+00 -2.5000033e+00\n",
      " -2.4000034e+00 -2.3000035e+00 -2.2000036e+00 -2.1000037e+00\n",
      " -2.0000038e+00 -1.9000038e+00 -1.8000038e+00 -1.7000037e+00\n",
      " -1.6000037e+00 -1.5000037e+00 -1.4000037e+00 -1.3000036e+00\n",
      " -1.2000036e+00 -1.1000036e+00 -1.0000036e+00 -9.0000355e-01\n",
      " -8.0000353e-01 -7.0000350e-01 -6.0000348e-01 -5.0000346e-01\n",
      " -4.0000346e-01 -3.0000347e-01 -2.0000347e-01 -1.0000347e-01\n",
      " -3.4719706e-06  9.9996530e-02  1.9999653e-01  2.9999653e-01\n",
      "  3.9999652e-01  4.9999651e-01  5.9999651e-01  6.9999653e-01\n",
      "  7.9999655e-01  8.9999658e-01  9.9999660e-01  1.0999966e+00\n",
      "  1.1999966e+00  1.2999966e+00  1.3999966e+00  1.4999967e+00\n",
      "  1.5999967e+00  1.6999967e+00  1.7999967e+00  1.8999968e+00\n",
      "  1.9999968e+00  2.0999968e+00  2.1999967e+00  2.2999966e+00\n",
      "  2.3999965e+00  2.4999964e+00  2.5999963e+00  2.6999962e+00\n",
      "  2.7999961e+00  2.8999960e+00  2.9999959e+00  3.0999959e+00\n",
      "  3.1999958e+00  3.2999957e+00  3.3999956e+00  3.4999955e+00\n",
      "  3.5999954e+00  3.6999953e+00  3.7999952e+00  3.8999951e+00\n",
      "  3.9999950e+00  4.0999951e+00  4.1999950e+00  4.2999949e+00\n",
      "  4.3999949e+00  4.4999948e+00  4.5999947e+00  4.6999946e+00\n",
      "  4.7999945e+00  4.8999944e+00  4.9999943e+00  5.0999942e+00\n",
      "  5.1999941e+00  5.2999940e+00  5.3999939e+00  5.4999938e+00\n",
      "  5.5999937e+00  5.6999936e+00  5.7999935e+00  5.8999934e+00], shape=(120,), dtype=float32) [-9.9998772e-01 -9.9998498e-01 -9.9998164e-01 -9.9997759e-01\n",
      " -9.9997264e-01 -9.9996662e-01 -9.9995923e-01 -9.9995017e-01\n",
      " -9.9993914e-01 -9.9992567e-01 -9.9990922e-01 -9.9988908e-01\n",
      " -9.9986458e-01 -9.9983454e-01 -9.9979794e-01 -9.9975324e-01\n",
      " -9.9969858e-01 -9.9963188e-01 -9.9955034e-01 -9.9945086e-01\n",
      " -9.9932933e-01 -9.9918085e-01 -9.9899960e-01 -9.9877822e-01\n",
      " -9.9850798e-01 -9.9817789e-01 -9.9777496e-01 -9.9728298e-01\n",
      " -9.9668241e-01 -9.9594939e-01 -9.9505478e-01 -9.9396318e-01\n",
      " -9.9263155e-01 -9.9100751e-01 -9.8902750e-01 -9.8661441e-01\n",
      " -9.8367494e-01 -9.8009652e-01 -9.7574329e-01 -9.7045213e-01\n",
      " -9.6402782e-01 -9.5623779e-01 -9.4680643e-01 -9.3540955e-01\n",
      " -9.2166913e-01 -9.0514892e-01 -8.8535243e-01 -8.6172414e-01\n",
      " -8.3365571e-01 -8.0050033e-01 -7.6159567e-01 -7.1629959e-01\n",
      " -6.6403872e-01 -6.0437000e-01 -5.3705204e-01 -4.6211988e-01\n",
      " -3.7995192e-01 -2.9131576e-01 -1.9737861e-01 -9.9671483e-02\n",
      " -3.4570573e-06  9.9664561e-02  1.9737199e-01  2.9130939e-01\n",
      "  3.7994596e-01  4.6211439e-01  5.3704703e-01  6.0436559e-01\n",
      "  6.6403484e-01  7.1629620e-01  7.6159275e-01  8.0049777e-01\n",
      "  8.3365351e-01  8.6172229e-01  8.8535094e-01  9.0514767e-01\n",
      "  9.2166811e-01  9.3540871e-01  9.4680560e-01  9.5623714e-01\n",
      "  9.6402735e-01  9.7045171e-01  9.7574300e-01  9.8009634e-01\n",
      "  9.8367471e-01  9.8661423e-01  9.8902732e-01  9.9100739e-01\n",
      "  9.9263149e-01  9.9396318e-01  9.9505478e-01  9.9594939e-01\n",
      "  9.9668235e-01  9.9728292e-01  9.9777496e-01  9.9817795e-01\n",
      "  9.9850792e-01  9.9877822e-01  9.9899960e-01  9.9918091e-01\n",
      "  9.9932933e-01  9.9945086e-01  9.9955040e-01  9.9963188e-01\n",
      "  9.9969864e-01  9.9975330e-01  9.9979788e-01  9.9983454e-01\n",
      "  9.9986458e-01  9.9988914e-01  9.9990916e-01  9.9992561e-01\n",
      "  9.9993914e-01  9.9995017e-01  9.9995923e-01  9.9996662e-01\n",
      "  9.9997264e-01  9.9997759e-01  9.9998164e-01  9.9998498e-01] [2.45571136e-05 3.00407410e-05 3.67164612e-05 4.48226929e-05\n",
      " 5.47170639e-05 6.67572021e-05 8.15391541e-05 9.96589661e-05\n",
      " 1.21712685e-04 1.48653984e-04 1.81555748e-04 2.21848488e-04\n",
      " 2.70843506e-04 3.30924988e-04 4.04059887e-04 4.93466854e-04\n",
      " 6.02722168e-04 7.36117363e-04 8.99136066e-04 1.09797716e-03\n",
      " 1.34086609e-03 1.63763762e-03 1.99979544e-03 2.44206190e-03\n",
      " 2.98184156e-03 3.64089012e-03 4.44513559e-03 5.42664528e-03\n",
      " 6.62416220e-03 8.08483362e-03 9.86599922e-03 1.20372176e-02\n",
      " 1.46825910e-02 1.79041028e-02 2.18245983e-02 2.65920162e-02\n",
      " 3.23836207e-02 3.94108295e-02 4.79249954e-02 5.82226515e-02\n",
      " 7.06503391e-02 8.56092572e-02 1.03557587e-01 1.25009000e-01\n",
      " 1.50526047e-01 1.80705428e-01 2.16151059e-01 2.57431507e-01\n",
      " 3.05018127e-01 3.59199226e-01 4.19972062e-01 4.86914873e-01\n",
      " 5.59052587e-01 6.34736896e-01 7.11575150e-01 7.86445200e-01\n",
      " 8.55636537e-01 9.15135145e-01 9.61041689e-01 9.90065575e-01\n",
      " 1.00000000e+00 9.90067005e-01 9.61044312e-01 9.15138841e-01\n",
      " 8.55641067e-01 7.86450267e-01 7.11580515e-01 6.34742260e-01\n",
      " 5.59057713e-01 4.86919761e-01 4.19976473e-01 3.59203339e-01\n",
      " 3.05021822e-01 2.57434666e-01 2.16153681e-01 1.80707693e-01\n",
      " 1.50527894e-01 1.25010550e-01 1.03559136e-01 8.56105089e-02\n",
      " 7.06512928e-02 5.82234859e-02 4.79255915e-02 3.94111872e-02\n",
      " 3.23840976e-02 2.65923738e-02 2.18249559e-02 1.79043412e-02\n",
      " 1.46827102e-02 1.20372176e-02 9.86599922e-03 8.08483362e-03\n",
      " 6.62428141e-03 5.42676449e-03 4.44513559e-03 3.64077091e-03\n",
      " 2.98196077e-03 2.44206190e-03 1.99979544e-03 1.63751841e-03\n",
      " 1.34086609e-03 1.09797716e-03 8.99016857e-04 7.36117363e-04\n",
      " 6.02602959e-04 4.93347645e-04 4.04179096e-04 3.30924988e-04\n",
      " 2.70843506e-04 2.21729279e-04 1.81674957e-04 1.48773193e-04\n",
      " 1.21712685e-04 9.96589661e-05 8.15391541e-05 6.67572021e-05\n",
      " 5.47170639e-05 4.48226929e-05 3.67164612e-05 3.00407410e-05]\n"
     ]
    },
    {
     "data": {
      "image/png": "[encoded data removed]",
      "text/plain": [
       "<Figure size 432x288 with 1 Axes>"
      ]
     },
     "metadata": {
      "needs_background": "light"
     },
     "output_type": "display_data"
    }
   ],
   "source": [
    "'''\n",
    "1. call dTanh() to compute the derivative dt of z.\n",
    "2. print the values of z, t, and dt\n",
    "3. plot the function and observe the shape.\n",
    "'''\n",
    "## code starts here ##\n",
    "\n",
    "dt = dTanh(z)\n",
    "\n",
    "print(z, t, dt)\n",
    "\n",
    "plt.plot(z, dt)\n",
    "plt.xlabel(\"Z\")\n",
    "plt.ylabel(\"dTanh (Z)\")\n",
    "  \n",
    "plt.show()\n",
    "\n",
    "## code ends here ##"
   ]
  },
  {
   "cell_type": "markdown",
   "metadata": {
    "id": "WQYx6ohhJljm"
   },
   "source": [
    "#### Question 16:"
   ]
  },
  {
   "cell_type": "code",
   "execution_count": 19,
   "metadata": {
    "colab": {
     "base_uri": "https://localhost:8080/",
     "height": 282
    },
    "id": "S4yGnaeQw1HR",
    "outputId": "2c5df793-0b0e-49e7-ca28-16a63f6b931c"
   },
   "outputs": [
    {
     "data": {
      "text/plain": [
       "<matplotlib.legend.Legend at 0x7f969f4ed790>"
      ]
     },
     "execution_count": 19,
     "metadata": {},
     "output_type": "execute_result"
    },
    {
     "data": {
      "image/png": "[encoded data removed]",
      "text/plain": [
       "<Figure size 432x288 with 1 Axes>"
      ]
     },
     "metadata": {
      "needs_background": "light"
     },
     "output_type": "display_data"
    }
   ],
   "source": [
    "'''\n",
    "Plot both t and dt in the same graph\n",
    "'''\n",
    "\n",
    "## code starts here ##\n",
    "\n",
    "plt.plot(z, t)\n",
    "plt.plot(z, dt)\n",
    "\n",
    "plt.legend([\"tanh (Z)\", \"dTanh (Z)\"])\n",
    "\n",
    "## code ends here ##"
   ]
  },
  {
   "cell_type": "markdown",
   "metadata": {
    "id": "0_cKXjLsJgJh"
   },
   "source": [
    "**Observation:**\n",
    " * As the input nears 0, the derivative of the tanh function approaches a maximum of 1. \n",
    " * As the input moves away from 0 in either direction, the derivative of the tanh function (same as sigmoid) approaches 0.\n",
    " * As output is zero centered in range in between -1 to 1, optimization is easier and in practice it is always preferred over Sigmoid function.* When to use?\n",
    "* Tanh is used in hidden layers of a neural network as it’s values lies between-1 to 1. The mean for the hidden layer comes out be 0 or very close to it, hence helps in centering the data by bringing mean close to 0. This makes learning for the next layer much easier."
   ]
  },
  {
   "cell_type": "markdown",
   "metadata": {
    "id": "CSZwoJKgf9Gh"
   },
   "source": [
    "#### Question 17:\n",
    "Show that the tanh function is related to the sigmoid function by\n",
    "$tanh(x)=2sigmoid(2x)−1$.\n"
   ]
  },
  {
   "cell_type": "markdown",
   "metadata": {
    "id": "bSNGh966MXUf"
   },
   "source": [
    "## Your Answer goes here ##"
   ]
  },
  {
   "cell_type": "code",
   "execution_count": 29,
   "metadata": {
    "colab": {
     "base_uri": "https://localhost:8080/"
    },
    "id": "cIcJ5GdtMdK1",
    "outputId": "eb86e317-6293-4b72-b557-195cf8ea6a08"
   },
   "outputs": [
    {
     "data": {
      "text/plain": [
       "array([ True,  True,  True,  True,  True,  True,  True,  True,  True,\n",
       "        True,  True,  True,  True,  True,  True,  True,  True,  True,\n",
       "        True,  True,  True,  True,  True,  True,  True,  True,  True,\n",
       "        True,  True,  True,  True,  True,  True,  True,  True,  True,\n",
       "        True,  True,  True,  True,  True,  True,  True,  True,  True,\n",
       "        True,  True,  True,  True,  True,  True, False, False,  True,\n",
       "        True,  True, False, False, False, False, False, False, False,\n",
       "       False, False, False,  True, False, False,  True,  True,  True,\n",
       "       False, False,  True,  True, False,  True,  True, False, False,\n",
       "        True, False,  True, False, False, False, False, False, False,\n",
       "       False,  True, False, False,  True, False, False, False,  True,\n",
       "        True,  True, False, False, False,  True, False, False,  True,\n",
       "        True,  True,  True,  True, False,  True,  True,  True, False,\n",
       "        True,  True,  True])"
      ]
     },
     "execution_count": 29,
     "metadata": {},
     "output_type": "execute_result"
    }
   ],
   "source": [
    "###\n",
    "\n",
    "lhs = tanh(z)\n",
    "rhs = (2 * sigmoid(2 * z)) - 1\n",
    "\n",
    "np.array_equal(lhs, rhs)\n",
    "lhs == rhs"
   ]
  },
  {
   "cell_type": "markdown",
   "metadata": {
    "id": "8YgFBt5vCsVv"
   },
   "source": [
    "Some of the elements return a false when compared, this is unexpected but might be due to a few slight differences when calculating these elements based on the function."
   ]
  },
  {
   "cell_type": "markdown",
   "metadata": {
    "id": "wb_adR7tXGpE"
   },
   "source": [
    "**Loss Functions**\n",
    "* Loss functions are used to evaluate how well specific algorithm models the given data. \n",
    "* If predictions deviates too much from actual results, loss function would cough up a very large number. \n",
    "Gradually, with the help of some optimization function, loss function learns to reduce the error in prediction. In this article we will go through several loss functions and their applications in the domain of machine/deep learning.\n",
    "\n"
   ]
  },
  {
   "cell_type": "markdown",
   "metadata": {
    "id": "nFjhgsccKS-9"
   },
   "source": [
    "#### Question 18:"
   ]
  },
  {
   "cell_type": "markdown",
   "metadata": {
    "id": "EiRrzONR9cVA"
   },
   "source": [
    "### 1. Quadratic loss function"
   ]
  },
  {
   "cell_type": "code",
   "execution_count": 30,
   "metadata": {
    "id": "59YFqJ61f5nY"
   },
   "outputs": [],
   "source": [
    "def mean_squared_error(y, y_hat):\n",
    "  '''\n",
    "  Compute the MSE of output y and predicted output y_hat \n",
    "  Arguments: \n",
    "  y, y_hat-- A scalar or numpy array of any size.\n",
    "\n",
    "  Return: \n",
    "  msq -- mean_square_error(y, y_hat)\n",
    "  '''\n",
    "  \n",
    "  ## code starts here ##\n",
    "\n",
    "  msq = np.square(np.subtract(y, y_hat)).mean()\n",
    "  return msq\n",
    " \n",
    "  ## code ends here ##"
   ]
  },
  {
   "cell_type": "code",
   "execution_count": 31,
   "metadata": {
    "colab": {
     "base_uri": "https://localhost:8080/"
    },
    "id": "r38uAc3QYx-P",
    "outputId": "c05232ad-e129-4d44-887b-0ad29719d80a"
   },
   "outputs": [
    {
     "name": "stdout",
     "output_type": "stream",
     "text": [
      "0.04666666666666667\n"
     ]
    }
   ],
   "source": [
    "# Verify your answer:\n",
    "y = np.array([1.1,2,1.7])\n",
    "y_hat = np.array([1,1.7,1.5])\n",
    "result = mean_squared_error(y,y_hat)\n",
    "print(result)"
   ]
  },
  {
   "cell_type": "markdown",
   "metadata": {
    "id": "qMvZ-S7XZ0F0"
   },
   "source": [
    "### 2. Cross-Entropy Loss Function "
   ]
  },
  {
   "cell_type": "markdown",
   "metadata": {
    "id": "IxLZ2KmPar28"
   },
   "source": [
    "* Cross entropy loss function is an optimization function to classify the data by predicting the probability (value between 0 and 1) of whether the data belong to one class or another class. \n",
    "\n",
    "* In case, the predicted probability of class is way different than the actual class label (0 or 1), the value of cross-entropy loss is high. \n",
    "\n",
    "* In case, the predicted probability of the class is near to the class label (0 or 1), the cross-entropy loss will be less. Cross-entropy loss is commonly used as the loss function for the models which has softmax output. Recall that softmax function is generalization of logistic regression to multiple dimensions and is used in multinomial logistic regression.\n",
    "\n",
    "* Cross entropy loss or log loss function is used as a cost function for logistic regression models or models with softmax output (multinomial logistic regression or neural network) in order to estimate the parameters of the logistic regression model. \n",
    "\n",
    "* In binary classification, where the number of classes M equals 2, cross-entropy can be calculated as:\n",
    "$-{(y\\log(p) + (1 - y)\\log(1 - p))}$\n",
    "\n",
    "* If $M>2$ (i.e. multiclass classification), compute a separate loss for each class label per observation and sum the result.\n",
    "$-\\sum_{c=1}^My_{o,c}\\log(p_{o,c})$\n",
    " * M - number of classes (dog, cat, fish)\n",
    " * log - the natural log\n",
    " * y - binary indicator (0 or 1) if class label c is the correct classification for observation o\n",
    " * p - predicted probability observation o is of class c"
   ]
  },
  {
   "cell_type": "markdown",
   "metadata": {
    "id": "CL0PvRD9KkD9"
   },
   "source": [
    "#### Question 19:"
   ]
  },
  {
   "cell_type": "code",
   "execution_count": 34,
   "metadata": {
    "id": "B_vAPu1RZkjb"
   },
   "outputs": [],
   "source": [
    "def cross_entropy(y, y_hat):\n",
    "  '''\n",
    "  Compute the cross enropy of output y and predicted output y_hat \n",
    "  Arguments: \n",
    "  y, y_hat-- A scalar or numpy array of any size.\n",
    "\n",
    "  Return: \n",
    "  loss -- cross_entropy(y, y_hat)\n",
    "  '''\n",
    "\n",
    "  ## code starts here ##\n",
    "\n",
    "  if y == 1:\n",
    "    return -np.log(y_hat)\n",
    "  else:\n",
    "    return -np.log(1 - y_hat)\n",
    " \n",
    "\n",
    "  ## code ends here ##"
   ]
  },
  {
   "cell_type": "markdown",
   "metadata": {
    "id": "6By3UQ_GKpl-"
   },
   "source": [
    "#### Question 20:"
   ]
  },
  {
   "cell_type": "code",
   "execution_count": 49,
   "metadata": {
    "colab": {
     "base_uri": "https://localhost:8080/",
     "height": 296
    },
    "id": "4tszK4PAbasF",
    "outputId": "a358f449-5a37-4268-8bbd-e345d9e73cbf"
   },
   "outputs": [
    {
     "data": {
      "text/plain": [
       "Text(0.5, 0, 'Predicted Probability')"
      ]
     },
     "execution_count": 49,
     "metadata": {},
     "output_type": "execute_result"
    },
    {
     "data": {
      "image/png": "[encoded data removed]",
      "text/plain": [
       "<Figure size 432x288 with 1 Axes>"
      ]
     },
     "metadata": {
      "needs_background": "light"
     },
     "output_type": "display_data"
    }
   ],
   "source": [
    "'''\n",
    "1. Compute y_hat by applying sigmoid function on z\n",
    "2. Find loss by applying cross-entropy when y =0\n",
    "3. Find loss by applying cross-entropy when y =1\n",
    "4. Plot the cross entropy loss in steps 2 and 3.\n",
    "'''\n",
    "\n",
    "z = tf.Variable(tf.range(-6.0, 6.0, 0.1))\n",
    "\n",
    "## Your code here ##\n",
    "  \n",
    "  # Compute y_hat using sigmoid\n",
    "\n",
    "y_hat = sigmoid(z)\n",
    "\n",
    "  # Find cost when y = 1, y = 0\n",
    "\n",
    "loss_0 = cross_entropy(0, y_hat)\n",
    "loss_1 = cross_entropy(1, y_hat)\n",
    "\n",
    "  # Plot the cross entropy loss\n",
    "\n",
    "plt.plot(y_hat, loss_0)\n",
    "plt.plot(y_hat, loss_1)\n",
    "\n",
    "plt.legend([\"log loss if y = 0\", \"log loss if y = 1\"])\n",
    "plt.ylabel(\"Log Loss\")\n",
    "plt.xlabel(\"Predicted Probability\")\n",
    "\n",
    "## Code ends here ##"
   ]
  },
  {
   "cell_type": "markdown",
   "metadata": {
    "id": "fUi4YychZnxX"
   },
   "source": [
    "**Observation:**\n",
    "* For y = 1, if predicted probability is near 1, loss function, log loss(W), is close to 0 otherwise it is close to infinity.\n",
    "* For y = 0, if predicted probability is near 0, loss function out, log loss(W), is close to 0 otherwise it is close to infinity.\n",
    "\n",
    "* Cross entropy loss function is used as an optimization function to estimate parameters for logistic regression models or models which has softmax output.\n",
    "* Cross entropy loss function is also termed as log loss function when considering logistic regression. This is because the negative of log likelihood function is minimized.\n",
    "* Cross entropy loss is high when the predicted probability is way different than the actual class label (0 or 1).\n",
    "* Cross entropy loss is less when the predicted probability is closer or nearer to the actual class label (0 or 1).\n"
   ]
  },
  {
   "cell_type": "markdown",
   "metadata": {
    "id": "HnphUzW-LKI-"
   },
   "source": [
    "#### Question 21: "
   ]
  },
  {
   "cell_type": "code",
   "execution_count": 48,
   "metadata": {
    "colab": {
     "base_uri": "https://localhost:8080/",
     "height": 331
    },
    "id": "-Wa_TqCdAvzd",
    "outputId": "3286f65b-4210-45a4-ecb6-2425a53e470a"
   },
   "outputs": [
    {
     "name": "stderr",
     "output_type": "stream",
     "text": [
      "/usr/local/lib/python3.7/dist-packages/ipykernel_launcher.py:14: RuntimeWarning: invalid value encountered in log\n",
      "  \n"
     ]
    },
    {
     "data": {
      "text/plain": [
       "Text(0.5, 0, 'Predicted Probability')"
      ]
     },
     "execution_count": 48,
     "metadata": {},
     "output_type": "execute_result"
    },
    {
     "data": {
      "image/png": "[encoded data removed]",
      "text/plain": [
       "<Figure size 432x288 with 1 Axes>"
      ]
     },
     "metadata": {
      "needs_background": "light"
     },
     "output_type": "display_data"
    }
   ],
   "source": [
    "'''\n",
    "1. Compute y_hat by applying tanh function on z\n",
    "2. Find loss by applying cross-entropy when y =0\n",
    "3. Find loss by applying cross-entropy when y =1\n",
    "4. Plot the cross entropy loss in steps 2 and 3.\n",
    "'''\n",
    "\n",
    "z = tf.Variable(tf.range(-6.0, 6.0, 0.1))\n",
    "\n",
    "## Your code here ##\n",
    "  \n",
    "  # Compute y_hat using tanh\n",
    "\n",
    "y_hat = tanh(z)\n",
    "\n",
    "  # Find cost when y = 1, y = 0\n",
    "\n",
    "loss_0 = cross_entropy(0, y_hat)\n",
    "loss_1 = cross_entropy(1, y_hat)\n",
    "\n",
    "  # Plot the cross entropy loss\n",
    "\n",
    "plt.plot(y_hat, loss_0)\n",
    "plt.plot(y_hat, loss_1)\n",
    "\n",
    "plt.legend([\"log loss if y = 0\", \"log loss if y = 1\"])\n",
    "plt.ylabel(\"Log Loss\")\n",
    "plt.xlabel(\"Predicted Probability\")\n",
    "\n",
    "## Code ends here ##"
   ]
  },
  {
   "cell_type": "markdown",
   "metadata": {
    "id": "4XQP_NVALoFP"
   },
   "source": [
    "#### Question 22: Bonus Point (5 points possible)"
   ]
  },
  {
   "cell_type": "markdown",
   "metadata": {
    "id": "ttJj8vLfA_r3"
   },
   "source": [
    "**Your Observation: **\n",
    "While cross entropy works well with 'sigmoid', it did not work with 'tanh'\n",
    "* Question: Why? How will you fix it.\n"
   ]
  },
  {
   "cell_type": "markdown",
   "metadata": {
    "id": "MYjTGoiKEf2k"
   },
   "source": [
    "Cross-entropy loss, or log loss, measures the performance of a classification model whose output is a probability value between 0 and 1. Cross-entropy loss increases as the predicted probability diverges from the actual label. So predicting a probability of .012 when the actual observation label is 1 would be bad and result in a high loss value. A perfect model would have a log loss of 0.\n",
    "\n",
    "Cross entropy function can be used as the cost function, if the activation function is logistic function: i.e.: 11+𝑒−𝑥 such as the sigmoid function.\n",
    "\n",
    "Yes we can use cross entropy with tanh as long as we use some normalizor (e.g. softmax) to ensure that the final output values are in between 0 and 1 and add up to 1."
   ]
  },
  {
   "cell_type": "code",
   "execution_count": null,
   "metadata": {
    "id": "iO6iWM7dA_cK"
   },
   "outputs": [],
   "source": [
    "## Your code here ##\n",
    "  \n",
    "  \n",
    "\n",
    "\n",
    "## Code ends here ##"
   ]
  },
  {
   "cell_type": "markdown",
   "metadata": {
    "id": "v7UbMb0dMMC2"
   },
   "source": [
    "### End ###"
   ]
  }
 ],
 "metadata": {
  "colab": {
   "collapsed_sections": [
    "CSZwoJKgf9Gh",
    "nFjhgsccKS-9",
    "CL0PvRD9KkD9",
    "6By3UQ_GKpl-",
    "HnphUzW-LKI-",
    "4XQP_NVALoFP"
   ],
   "name": "ShubhamChavan_CIS_614_Homework_3.ipynb",
   "provenance": []
  },
  "kernelspec": {
   "display_name": "Python 3",
   "language": "python",
   "name": "python3"
  },
  "language_info": {
   "codemirror_mode": {
    "name": "ipython",
    "version": 3
   },
   "file_extension": ".py",
   "mimetype": "text/x-python",
   "name": "python",
   "nbconvert_exporter": "python",
   "pygments_lexer": "ipython3",
   "version": "3.8.6"
  }
 },
 "nbformat": 4,
 "nbformat_minor": 4
}
