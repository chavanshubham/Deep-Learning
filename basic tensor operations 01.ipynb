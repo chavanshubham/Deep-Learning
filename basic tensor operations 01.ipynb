{
 "cells": [
  {
   "cell_type": "code",
   "execution_count": 1,
   "metadata": {
    "id": "zUTgqPbFhmze"
   },
   "outputs": [],
   "source": [
    "import tensorflow as tf\n",
    "import numpy as np"
   ]
  },
  {
   "cell_type": "code",
   "execution_count": 17,
   "metadata": {
    "id": "v-z8IcM4hq_k"
   },
   "outputs": [],
   "source": [
    "x = tf.range(12)\n",
    "x1 = tf.reshape(x, (3, 4))\n",
    "x2 = tf.reshape(x, (6, 2))\n",
    "x3 = tf.reshape(x, (4, 3))\n",
    "y = tf.range(24)\n",
    "x4 = tf.reshape(y, (2, 3, 4))"
   ]
  },
  {
   "cell_type": "code",
   "execution_count": 18,
   "metadata": {
    "colab": {
     "base_uri": "https://localhost:8080/"
    },
    "id": "fpV8hL3L3UzN",
    "outputId": "9f213d88-fcd5-40a0-e80d-7748e0e5f2ee"
   },
   "outputs": [
    {
     "data": {
      "text/plain": [
       "<tf.Tensor: shape=(12,), dtype=int32, numpy=array([ 0,  1,  2,  3,  4,  5,  6,  7,  8,  9, 10, 11], dtype=int32)>"
      ]
     },
     "execution_count": 18,
     "metadata": {},
     "output_type": "execute_result"
    }
   ],
   "source": [
    "x"
   ]
  },
  {
   "cell_type": "code",
   "execution_count": 19,
   "metadata": {
    "colab": {
     "base_uri": "https://localhost:8080/"
    },
    "id": "aColQx4W3W6u",
    "outputId": "dd6c171e-c138-42f5-dd7f-2c38c1f0cf44"
   },
   "outputs": [
    {
     "data": {
      "text/plain": [
       "<tf.Tensor: shape=(3, 4), dtype=int32, numpy=\n",
       "array([[ 0,  1,  2,  3],\n",
       "       [ 4,  5,  6,  7],\n",
       "       [ 8,  9, 10, 11]], dtype=int32)>"
      ]
     },
     "execution_count": 19,
     "metadata": {},
     "output_type": "execute_result"
    }
   ],
   "source": [
    "x1"
   ]
  },
  {
   "cell_type": "code",
   "execution_count": 20,
   "metadata": {
    "colab": {
     "base_uri": "https://localhost:8080/"
    },
    "id": "J2BPeHrX3X8O",
    "outputId": "f2929f62-7369-4241-e71f-6938d2ff6f8b"
   },
   "outputs": [
    {
     "data": {
      "text/plain": [
       "<tf.Tensor: shape=(6, 2), dtype=int32, numpy=\n",
       "array([[ 0,  1],\n",
       "       [ 2,  3],\n",
       "       [ 4,  5],\n",
       "       [ 6,  7],\n",
       "       [ 8,  9],\n",
       "       [10, 11]], dtype=int32)>"
      ]
     },
     "execution_count": 20,
     "metadata": {},
     "output_type": "execute_result"
    }
   ],
   "source": [
    "x2"
   ]
  },
  {
   "cell_type": "code",
   "execution_count": 21,
   "metadata": {
    "colab": {
     "base_uri": "https://localhost:8080/"
    },
    "id": "K4XdpYiP3YZ2",
    "outputId": "9da8f619-b03e-4f16-de31-80b3485106a2"
   },
   "outputs": [
    {
     "data": {
      "text/plain": [
       "<tf.Tensor: shape=(4, 3), dtype=int32, numpy=\n",
       "array([[ 0,  1,  2],\n",
       "       [ 3,  4,  5],\n",
       "       [ 6,  7,  8],\n",
       "       [ 9, 10, 11]], dtype=int32)>"
      ]
     },
     "execution_count": 21,
     "metadata": {},
     "output_type": "execute_result"
    }
   ],
   "source": [
    "x3"
   ]
  },
  {
   "cell_type": "code",
   "execution_count": 22,
   "metadata": {
    "colab": {
     "base_uri": "https://localhost:8080/"
    },
    "id": "837rX35Y3zVD",
    "outputId": "e205e192-1085-4da1-be80-3b0f776b74e9"
   },
   "outputs": [
    {
     "data": {
      "text/plain": [
       "<tf.Tensor: shape=(2, 3, 4), dtype=int32, numpy=\n",
       "array([[[ 0,  1,  2,  3],\n",
       "        [ 4,  5,  6,  7],\n",
       "        [ 8,  9, 10, 11]],\n",
       "\n",
       "       [[12, 13, 14, 15],\n",
       "        [16, 17, 18, 19],\n",
       "        [20, 21, 22, 23]]], dtype=int32)>"
      ]
     },
     "execution_count": 22,
     "metadata": {},
     "output_type": "execute_result"
    }
   ],
   "source": [
    "x4"
   ]
  },
  {
   "cell_type": "code",
   "execution_count": 23,
   "metadata": {
    "colab": {
     "base_uri": "https://localhost:8080/"
    },
    "id": "-EeSQC8L3Y4O",
    "outputId": "11daf232-0d91-4320-97d5-0ee50f9420b6"
   },
   "outputs": [
    {
     "name": "stdout",
     "output_type": "stream",
     "text": [
      "Lengths, x: 12, x1: 3, x2: 6, x3: 4, x4: 2\n"
     ]
    }
   ],
   "source": [
    "print(\"Lengths, x: {}, x1: {}, x2: {}, x3: {}, x4: {}\".format(len(x), len(x1), len(x2), len(x3), len(x4)))"
   ]
  },
  {
   "cell_type": "code",
   "execution_count": 38,
   "metadata": {
    "colab": {
     "base_uri": "https://localhost:8080/"
    },
    "id": "vXtqXJw53p5m",
    "outputId": "0821bb8c-b0a6-4237-ccfb-47a8f7dcd98a"
   },
   "outputs": [
    {
     "name": "stdout",
     "output_type": "stream",
     "text": [
      "tf.Tensor([3 4], shape=(2,), dtype=int32)\n",
      "tf.Tensor([2 4], shape=(2,), dtype=int32)\n",
      "tf.Tensor([2 3], shape=(2,), dtype=int32)\n"
     ]
    }
   ],
   "source": [
    "print(tf.shape(np.sum(x4, 0)))\n",
    "print(tf.shape(np.sum(x4, 1)))\n",
    "print(tf.shape(np.sum(x4, 2)))"
   ]
  },
  {
   "cell_type": "code",
   "execution_count": 39,
   "metadata": {
    "colab": {
     "base_uri": "https://localhost:8080/"
    },
    "id": "FIq3ReMA6ZmU",
    "outputId": "fe00cfba-b6bc-4690-9dff-4071f5e9ea6d"
   },
   "outputs": [
    {
     "data": {
      "text/plain": [
       "65.75712889109438"
      ]
     },
     "execution_count": 39,
     "metadata": {},
     "output_type": "execute_result"
    }
   ],
   "source": [
    "np.linalg.norm(x4)"
   ]
  },
  {
   "cell_type": "code",
   "execution_count": 40,
   "metadata": {
    "id": "-vygpUOL9DrK"
   },
   "outputs": [],
   "source": [
    "g = tf.random.Generator.from_seed(1234)\n",
    "g1 = g.normal(shape=(2, 3, 3))\n",
    "g2 = g.normal(shape = (3, 4, 3, 2))"
   ]
  },
  {
   "cell_type": "code",
   "execution_count": 41,
   "metadata": {
    "colab": {
     "base_uri": "https://localhost:8080/"
    },
    "id": "EnASflmBAfdN",
    "outputId": "78b9907f-81ca-4d05-fced-791ad8a49d97"
   },
   "outputs": [
    {
     "data": {
      "text/plain": [
       "<tf.Tensor: shape=(2, 3, 3), dtype=float32, numpy=\n",
       "array([[[ 0.9356609 ,  1.0854305 , -0.93788373],\n",
       "        [-0.5061547 ,  1.3169702 ,  0.7137579 ],\n",
       "        [-0.4126717 , -0.40257987,  2.0713255 ]],\n",
       "\n",
       "       [[-0.35911667,  0.3861619 ,  1.9897066 ],\n",
       "        [-0.2823396 , -0.5135972 , -0.8962833 ],\n",
       "        [-0.0901652 , -0.73964226, -0.46269894]]], dtype=float32)>"
      ]
     },
     "execution_count": 41,
     "metadata": {},
     "output_type": "execute_result"
    }
   ],
   "source": [
    "g1"
   ]
  },
  {
   "cell_type": "code",
   "execution_count": 42,
   "metadata": {
    "colab": {
     "base_uri": "https://localhost:8080/"
    },
    "id": "iY6muQYjAgDW",
    "outputId": "2b19c3ff-3668-4a40-b250-cfb6f941ec92"
   },
   "outputs": [
    {
     "data": {
      "text/plain": [
       "<tf.Tensor: shape=(3, 4, 3, 2), dtype=float32, numpy=\n",
       "array([[[[ 0.6691036 ,  0.35458583],\n",
       "         [-0.08412673, -0.27878118],\n",
       "         [ 0.35518306,  0.45159343]],\n",
       "\n",
       "        [[ 0.18356216,  0.9144571 ],\n",
       "         [ 0.6256486 , -0.00717345],\n",
       "         [ 0.07791339, -0.20130906]],\n",
       "\n",
       "        [[ 0.69460756,  0.961497  ],\n",
       "         [-1.0040257 , -1.5463829 ],\n",
       "         [ 1.6493912 ,  0.38229913]],\n",
       "\n",
       "        [[ 1.4606284 , -0.32792607],\n",
       "         [-1.3684198 , -0.78216076],\n",
       "         [-0.905839  , -0.56385887]]],\n",
       "\n",
       "\n",
       "       [[[-1.5865449 , -0.5855774 ],\n",
       "         [ 0.77494633, -0.7208057 ],\n",
       "         [-1.5740228 , -0.8111003 ]],\n",
       "\n",
       "        [[ 0.8374056 , -0.6009648 ],\n",
       "         [-0.4404535 ,  2.9320223 ],\n",
       "         [ 0.04532953, -0.06675196]],\n",
       "\n",
       "        [[-0.26831955,  0.5518779 ],\n",
       "         [-0.37353563, -0.03234363],\n",
       "         [-1.435514  , -0.64928484]],\n",
       "\n",
       "        [[ 0.33595282,  0.7278141 ],\n",
       "         [ 0.21227004, -1.6652247 ],\n",
       "         [-0.5206754 , -0.6569389 ]]],\n",
       "\n",
       "\n",
       "       [[[-0.3234604 , -0.18375304],\n",
       "         [-1.7688432 , -1.6375109 ],\n",
       "         [ 1.1776061 ,  1.061974  ]],\n",
       "\n",
       "        [[ 0.8482706 , -0.33388928],\n",
       "         [ 1.1612601 , -2.711729  ],\n",
       "         [-0.0233771 ,  1.0232592 ]],\n",
       "\n",
       "        [[ 0.42875043, -0.4398673 ],\n",
       "         [-0.3532059 ,  0.03602219],\n",
       "         [-0.61566246,  0.20473856]],\n",
       "\n",
       "        [[ 0.27997887, -0.6127713 ],\n",
       "         [ 0.283072  , -2.2669868 ],\n",
       "         [ 0.36318803, -0.04650297]]]], dtype=float32)>"
      ]
     },
     "execution_count": 42,
     "metadata": {},
     "output_type": "execute_result"
    }
   ],
   "source": [
    "g2"
   ]
  },
  {
   "cell_type": "code",
   "execution_count": 43,
   "metadata": {
    "colab": {
     "base_uri": "https://localhost:8080/"
    },
    "id": "EVjZ92g4Agc8",
    "outputId": "dfdfc662-9b27-4a71-d8f2-13aed72da045"
   },
   "outputs": [
    {
     "data": {
      "text/plain": [
       "4.0260634"
      ]
     },
     "execution_count": 43,
     "metadata": {},
     "output_type": "execute_result"
    }
   ],
   "source": [
    "np.linalg.norm(g1)"
   ]
  },
  {
   "cell_type": "code",
   "execution_count": 44,
   "metadata": {
    "colab": {
     "base_uri": "https://localhost:8080/"
    },
    "id": "2hWYySM2AjtL",
    "outputId": "3decb8d2-e531-4483-ed21-4db907ef15c6"
   },
   "outputs": [
    {
     "data": {
      "text/plain": [
       "8.10842"
      ]
     },
     "execution_count": 44,
     "metadata": {},
     "output_type": "execute_result"
    }
   ],
   "source": [
    "np.linalg.norm(g2)"
   ]
  },
  {
   "cell_type": "code",
   "execution_count": null,
   "metadata": {
    "id": "fuKn66AUAm1b"
   },
   "outputs": [],
   "source": []
  }
 ],
 "metadata": {
  "colab": {
   "name": "discussion2.ipynb",
   "provenance": []
  },
  "kernelspec": {
   "display_name": "Python 3",
   "language": "python",
   "name": "python3"
  },
  "language_info": {
   "codemirror_mode": {
    "name": "ipython",
    "version": 3
   },
   "file_extension": ".py",
   "mimetype": "text/x-python",
   "name": "python",
   "nbconvert_exporter": "python",
   "pygments_lexer": "ipython3",
   "version": "3.8.6"
  }
 },
 "nbformat": 4,
 "nbformat_minor": 4
}
