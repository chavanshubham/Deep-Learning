{
 "cells": [
  {
   "cell_type": "markdown",
   "metadata": {
    "id": "kHDwaPIKJ85V"
   },
   "source": [
    "![image.png](data:image/png;base64,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)\n",
    "\n",
    "\n",
    "##CIS 614 Deep Learning##\n",
    "##Homework 1"
   ]
  },
  {
   "cell_type": "markdown",
   "metadata": {
    "id": "P7zZwkGxL2Qt"
   },
   "source": [
    "###Learning Objectives:\n",
    "* Develop basic skills needed for Deep Learning\n",
    "* Learn practical skills for storing, manipulating, and processing data.\n",
    "* Learn techniques for working with tabular data (Martix Operations)\n",
    "\n"
   ]
  },
  {
   "cell_type": "markdown",
   "metadata": {
    "id": "1YPi3z2ULtQl"
   },
   "source": [
    "###Some basics\n",
    "* Vectors can be interpreted geometrically as either points or directions in space.\n",
    "* Dot products define the notion of angle to arbitrarily high-dimensional spaces.\n",
    "* Hyperplanes are high-dimensional generalizations of lines and planes.  They can be used to define decision planes that are often used as the last step in a classification task.\n",
    "* Matrix multiplication can be geometrically interpreted as uniform distortions of the underlying coordinates. They represent a very restricted, but mathematically clean, way to transform vectors.\n",
    "* Linear dependence is a way to tell when a collection of vectors are in a lower dimensional space than we would expect (say you have $3$ vectors living in a $2$-dimensional space). The rank of a matrix is the size of the largest subset of its columns that are linearly independent.\n",
    "* When a matrix's inverse is defined, matrix inversion allows us to find another matrix that undoes the action of the first. Matrix inversion is useful in theory, but requires care in practice owing to numerical instability.\n",
    "* Determinants allow us to measure how much a matrix expands or contracts a space. A nonzero determinant implies an invertible (non-singular) matrix and a zero-valued determinant means that the matrix is non-invertible (singular).\n",
    "* Tensor contractions and Einstein summation provide for a neat and clean notation for expressing many of the computations that are seen in machine learning.\n",
    "\n",
    "###Reading: \n",
    "* Chapter 2:Preliminaries\n",
    "  * Sections 2.1, 2.2, and 2.3\n",
    "\n"
   ]
  },
  {
   "cell_type": "markdown",
   "metadata": {
    "id": "rf3ZEnwgN7Qj"
   },
   "source": [
    "###Requirements:\n",
    "1. Import the required libraries as required for solving the problems. \n",
    "2. Write functions containg python code for various operations that you perform to answer each of the following questions and then write function call statements after creating required parameters.\n",
    "3. The code should be clearly documented for for full credits. \n",
    "References for \n",
    " * https://www.python.org/dev/peps/pep-0008/ \n",
    " * https://docs.python-guide.org/writing/documentation/\n"
   ]
  },
  {
   "cell_type": "markdown",
   "metadata": {
    "id": "IaD2uXHsQh1a"
   },
   "source": [
    "##Exercise I\n",
    " 1. Random sampling the values for each element in a tensor say, $u$ from some probability distribution helps construct arrays to serve as parameters in a neural network. Initialize the values of the tensor(vector) $u$ with 12 values where the elements are randomly sampled from a standard Gaussian (normal) distribution with a mean of 0 and a standard deviation of 1. Display the length, and data type. Now change the tensor $u$ without altering either the number of elements or their values to a shapes (3, 4). Display the old and new memory locations of $u$. Are they the same? why or why not? Create another tensor $v$ of shape(1,12) holding constant values of your choice. Perform the following operations.\n",
    "\n",
    " (i) Display the sum of all the elements in $u$.\\\n",
    " (ii) Name the technique that supports elementwise operations when the shape differ.\\\n",
    " (iii) Add the tensors $u$, and $v$  \n",
    " (iv) Finally, include appropriate statements/commands to resolve the memory problem and demonstrate it.  \n"
   ]
  },
  {
   "cell_type": "code",
   "execution_count": 1,
   "metadata": {
    "id": "jsDXv3J1qnpA"
   },
   "outputs": [],
   "source": [
    "# importing libraries\n",
    "\n",
    "import tensorflow as tf\n",
    "import numpy as np\n",
    "%matplotlib inline\n",
    "from IPython import display"
   ]
  },
  {
   "cell_type": "markdown",
   "metadata": {
    "id": "c-F-Ym1dLJiL"
   },
   "source": [
    "## Exercise II\n",
    "\n",
    "1. What is the angle between\n",
    "$$\n",
    "\\vec v_1 = \\begin{bmatrix}\n",
    "1 \\\\ 0 \\\\ -1 \\\\ 2\n",
    "\\end{bmatrix}, \\qquad \\vec v_2 = \\begin{bmatrix}\n",
    "3 \\\\ 1 \\\\ 0 \\\\ 1\n",
    "\\end{bmatrix}?\n",
    "$$\n",
    "2. True or false: $\\begin{bmatrix}1 & 2\\\\0&1\\end{bmatrix}$ and $\\begin{bmatrix}1 & -2\\\\0&1\\end{bmatrix}$ are inverses of one another?\n",
    "3. Suppose that we draw a shape in the plane with area $100\\mathrm{m}^2$.  What is the area after transforming the figure by the matrix\n",
    "$$\n",
    "\\begin{bmatrix}\n",
    "2 & 3\\\\\n",
    "1 & 2\n",
    "\\end{bmatrix}.\n",
    "$$\n",
    "4. Which of the following sets of vectors are linearly independent?\n",
    " * $\\left\\{\\begin{pmatrix}1\\\\0\\\\-1\\end{pmatrix}, \\begin{pmatrix}2\\\\1\\\\-1\\end{pmatrix}, \\begin{pmatrix}3\\\\1\\\\1\\end{pmatrix}\\right\\}$\n",
    "5. The vectors $e_1 = \\begin{bmatrix}1\\\\0\\end{bmatrix}$ and $e_2 = \\begin{bmatrix}0\\\\1\\end{bmatrix}$ are orthogonal.  What is the condition on a matrix $A$ so that $Ae_1$ and $Ae_2$ are orthogonal?\n",
    "6. How can you write $\\mathrm{tr}(\\mathbf{A}^4)$ in Einstein notation for an arbitrary matrix $A$?"
   ]
  },
  {
   "cell_type": "code",
   "execution_count": 58,
   "metadata": {
    "id": "2b4a1soHoxRJ"
   },
   "outputs": [],
   "source": [
    "def exercise1():\n",
    "  # question1\n",
    "  # creating u vector\n",
    "  print(\"\\nQuestion 1\\n\")\n",
    "  u = tf.random.normal(shape = [12], mean=0.0, stddev=1.0, dtype=tf.dtypes.float32, seed=None, name=None)\n",
    "  print(\"Creating a random tensor u: \\n{}\".format(u))\n",
    "  # reshaping vector u\n",
    "  u = tf.reshape(u, [3, 4])\n",
    "  print(\"\\nReshaping u to 3*4: \\n{}\".format(u))\n",
    "  #printing size and type of vecotr u\n",
    "  print(\"\\nSize of u: {}\\nType of u: {}\".format(tf.size(u), type(u)))\n",
    "  #creating a constant vector v\n",
    "  v = tf.constant([[1, 2, 3, 4, 5, 6, 7, 8, 9, 10, 11, 12]], dtype = tf.float32)\n",
    "  print(\"Tensor v: {}\".format(v))\n",
    "  # sum of elements in vector u\n",
    "  sum = tf.math.reduce_sum(u)\n",
    "  print(\"Sum of elements of tensor u: {}\".format(sum.numpy()))\n",
    "  #question2: the broadcasting technique\n",
    "  print(\"\\nQuestion 2\\n\")\n",
    "  print(\"\"\"\n",
    "  The techinique is called as broadcasting.\n",
    "\n",
    "  What is broadcasting?\n",
    "  Broadcasting is the process of making arrays with different shapes have compatible shapes for arithmetic operations. The terminology is borrowed from Numpy broadcasting.\n",
    "\n",
    "  Broadcasting may be required for operations between multi-dimensional arrays of different ranks, or between multi-dimensional arrays with different but compatible shapes. Consider the addition X+v where X is a matrix (an array of rank 2) and v is a vector (an array of rank 1). To perform element-wise addition, XLA needs to \"broadcast\" the vector v to the same rank as the matrix X, by replicating v a certain number of times. The vector's length has to match at least one of the dimensions of the matrix.\n",
    "\n",
    "  Your data comes in many shapes; your tensors should too. Ragged tensors are the TensorFlow equivalent of nested variable-length lists. They make it easy to store and process data with non-uniform shapes, including:\n",
    "\n",
    "  Variable-length features, such as the set of actors in a movie.\n",
    "  Batches of variable-length sequential inputs, such as sentences or video clips.\n",
    "  Hierarchical inputs, such as text documents that are subdivided into sections, paragraphs, sentences, and words.\n",
    "  Individual fields in structured inputs, such as protocol buffers.\n",
    "\n",
    "  What you can do with a ragged tensor\n",
    "\n",
    "  Ragged tensors are supported by more than a hundred TensorFlow operations, including math operations (such as tf.add and tf.reduce_mean), array operations (such as tf.concat and tf.tile), string manipulation ops (such as tf.substr), control flow operations (such as tf.while_loop and tf.map_fn), and many others.\n",
    "\n",
    "  If you need to perform an elementwise transformation to the values of a RaggedTensor, you can use tf.ragged.map_flat_values, which takes a function plus one or more arguments, and applies the function to transform the RaggedTensor's values.\n",
    "\n",
    "  Also Sparse tensors:\n",
    "\n",
    "  Sometimes, your data is sparse, like a very wide embedding space. TensorFlow supports tf.sparse.SparseTensor and related operations to store sparse data efficiently.\n",
    "    \n",
    "  \n",
    "  \"\"\")\n",
    "  #question3\n",
    "  # adding vectors u and v by using reshape on vector v to conduct broadcasting\n",
    "  print(\"\\nQuestion 3\\n\")\n",
    "  v_new = tf.reshape(v, [3, 4])\n",
    "  sum1 = u + v_new\n",
    "  print(\"Addition of u and v after reshaping v:\\n {}\".format(sum1))\n",
    "  \n",
    "  # question4\n",
    "  print(\"\\nQuestion 4\\n\")\n",
    "  print(\"\"\"\n",
    "\n",
    "\n",
    "  from tensorflow.compat.v1 import ConfigProto\n",
    "\n",
    "  from tensorflow.compat.v1 import InteractiveSession\n",
    "\n",
    "  config = ConfigProto()\n",
    "\n",
    "  config.gpu_options.allow_growth = True\n",
    "\n",
    "  session = InteractiveSession(config=config)\n",
    "\n",
    "  Allocating memory as neccesary:\n",
    "\n",
    "  config = tf.ConfigProto()\n",
    "  config.gpu_options.allow_growth = True\n",
    "  sess = tf.Session(config=config)\n",
    "  from tensorflow.compat.v1 import ConfigProto\n",
    "  \"\"\")"
   ]
  },
  {
   "cell_type": "code",
   "execution_count": 62,
   "metadata": {
    "id": "hR82_4ca-Etm"
   },
   "outputs": [],
   "source": [
    "def exercise2():\n",
    "  # question1\n",
    "  # angle between vectors\n",
    "  print(\"\\nQuestion 1\\n\")\n",
    "  x = tf.constant([1.0, 0, -1, 2], dtype=tf.float32)\n",
    "  y = tf.constant([3.0, 1, 0, 1])\n",
    "  angle = tf.acos(tf.tensordot(x, y, axes=1) / (tf.norm(x) * tf.norm(y)))\n",
    "  print(\"Angle: {}\".format(angle.numpy() * 100))\n",
    "\n",
    "  # question2\n",
    "  # finding inverse of A and then comparing using a.all()\n",
    "  print(\"\\nQuestion 2\\n\")\n",
    "  A = np.array(([1, 2], [0, 1]))\n",
    "  A\n",
    "  A_inv = np.linalg.inv(A)\n",
    "  A_inv\n",
    "  B = np.array(([1, -2], [0, 1]))\n",
    "  print(A_inv == B)\n",
    "  if (A_inv == B).all():\n",
    "    print(\"Thus the inverse is as previously thought of\")\n",
    "  else:\n",
    "    print(\"Inverse is different\")\n",
    "\n",
    "  # question3\n",
    "  # finding determinant to determine impact on area after transform\n",
    "  print(\"\\nQuestion 3\\n\")\n",
    "  a = np.array(([2, 3], [1, 2]))\n",
    "  det_a = np.linalg.det(a)\n",
    "  area = 100\n",
    "  new_area = area * det_a\n",
    "  print(\"The new area is: {} m2, the area thus remains unchanged.\".format(new_area))\n",
    "\n",
    "  #question4\n",
    "  print(\"\\nQuestion 4\\n\")\n",
    "\n",
    "  print(\"The vectors are all linearly independent and span a 3d space\")\n",
    "\n",
    "  #question5\n",
    "\n",
    "  print(\"\\nQuestion 5:\\nWe say that two vectors are orthogonal when they are perpendicular to each other. That is the angle between them is 0 degrees which is when their dot product is 0.\")\n",
    "\n"
   ]
  },
  {
   "cell_type": "code",
   "execution_count": 63,
   "metadata": {
    "colab": {
     "base_uri": "https://localhost:8080/"
    },
    "id": "rubl3UkkAxTV",
    "outputId": "1cd5832a-9ccb-44fa-cc7b-296fc0e796ff"
   },
   "outputs": [
    {
     "name": "stdout",
     "output_type": "stream",
     "text": [
      "\n",
      "Question 1\n",
      "\n",
      "Creating a random tensor u: \n",
      "[ 0.2921412   1.6181664  -0.54763347  0.3805595   0.20768791  0.42551503\n",
      "  0.05226576 -0.45329624  0.6320517  -0.3335389  -0.20452854 -0.7801275 ]\n",
      "\n",
      "Reshaping u to 3*4: \n",
      "[[ 0.2921412   1.6181664  -0.54763347  0.3805595 ]\n",
      " [ 0.20768791  0.42551503  0.05226576 -0.45329624]\n",
      " [ 0.6320517  -0.3335389  -0.20452854 -0.7801275 ]]\n",
      "\n",
      "Size of u: 12\n",
      "Type of u: <class 'tensorflow.python.framework.ops.EagerTensor'>\n",
      "Tensor v: [[ 1.  2.  3.  4.  5.  6.  7.  8.  9. 10. 11. 12.]]\n",
      "Sum of elements of tensor u: 1.2892627716064453\n",
      "\n",
      "Question 2\n",
      "\n",
      "\n",
      "  The techinique is called as broadcasting.\n",
      "\n",
      "  What is broadcasting?\n",
      "  Broadcasting is the process of making arrays with different shapes have compatible shapes for arithmetic operations. The terminology is borrowed from Numpy broadcasting.\n",
      "\n",
      "  Broadcasting may be required for operations between multi-dimensional arrays of different ranks, or between multi-dimensional arrays with different but compatible shapes. Consider the addition X+v where X is a matrix (an array of rank 2) and v is a vector (an array of rank 1). To perform element-wise addition, XLA needs to \"broadcast\" the vector v to the same rank as the matrix X, by replicating v a certain number of times. The vector's length has to match at least one of the dimensions of the matrix.\n",
      "\n",
      "  Your data comes in many shapes; your tensors should too. Ragged tensors are the TensorFlow equivalent of nested variable-length lists. They make it easy to store and process data with non-uniform shapes, including:\n",
      "\n",
      "  Variable-length features, such as the set of actors in a movie.\n",
      "  Batches of variable-length sequential inputs, such as sentences or video clips.\n",
      "  Hierarchical inputs, such as text documents that are subdivided into sections, paragraphs, sentences, and words.\n",
      "  Individual fields in structured inputs, such as protocol buffers.\n",
      "\n",
      "  What you can do with a ragged tensor\n",
      "\n",
      "  Ragged tensors are supported by more than a hundred TensorFlow operations, including math operations (such as tf.add and tf.reduce_mean), array operations (such as tf.concat and tf.tile), string manipulation ops (such as tf.substr), control flow operations (such as tf.while_loop and tf.map_fn), and many others.\n",
      "\n",
      "  If you need to perform an elementwise transformation to the values of a RaggedTensor, you can use tf.ragged.map_flat_values, which takes a function plus one or more arguments, and applies the function to transform the RaggedTensor's values.\n",
      "\n",
      "  Also Sparse tensors:\n",
      "\n",
      "  Sometimes, your data is sparse, like a very wide embedding space. TensorFlow supports tf.sparse.SparseTensor and related operations to store sparse data efficiently.\n",
      "    \n",
      "  \n",
      "  \n",
      "\n",
      "Question 3\n",
      "\n",
      "Addition of u and v after reshaping v:\n",
      " [[ 1.2921412  3.6181664  2.4523666  4.3805594]\n",
      " [ 5.207688   6.425515   7.0522656  7.546704 ]\n",
      " [ 9.632051   9.666461  10.795471  11.219872 ]]\n",
      "\n",
      "Question 4\n",
      "\n",
      "\n",
      "\n",
      "\n",
      "  from tensorflow.compat.v1 import ConfigProto\n",
      "\n",
      "  from tensorflow.compat.v1 import InteractiveSession\n",
      "\n",
      "  config = ConfigProto()\n",
      "\n",
      "  config.gpu_options.allow_growth = True\n",
      "\n",
      "  session = InteractiveSession(config=config)\n",
      "\n",
      "  Allocating memory as neccesary:\n",
      "\n",
      "  config = tf.ConfigProto()\n",
      "  config.gpu_options.allow_growth = True\n",
      "  sess = tf.Session(config=config)\n",
      "  from tensorflow.compat.v1 import ConfigProto\n",
      "  \n"
     ]
    }
   ],
   "source": [
    "exercise1()"
   ]
  },
  {
   "cell_type": "code",
   "execution_count": 64,
   "metadata": {
    "colab": {
     "base_uri": "https://localhost:8080/"
    },
    "id": "Da4VAJdv7EZ9",
    "outputId": "46cf58a2-bb3a-4086-fa35-9ce8fe616b46"
   },
   "outputs": [
    {
     "name": "stdout",
     "output_type": "stream",
     "text": [
      "\n",
      "Question 1\n",
      "\n",
      "Angle: 90.78301191329956\n",
      "\n",
      "Question 2\n",
      "\n",
      "[[ True  True]\n",
      " [ True  True]]\n",
      "Thus the inverse is as previously thought of\n",
      "\n",
      "Question 3\n",
      "\n",
      "The new area is: 100.0 m2, the area thus remains unchanged.\n",
      "\n",
      "Question 4\n",
      "\n",
      "The vectors are all linearly independent and span a 3d space\n",
      "\n",
      "Question 5:\n",
      "We say that two vectors are orthogonal when they are perpendicular to each other. That is the angle between them is 0 degrees which is when their dot product is 0.\n"
     ]
    }
   ],
   "source": [
    "exercise2()"
   ]
  },
  {
   "cell_type": "code",
   "execution_count": null,
   "metadata": {
    "id": "hjACC0fA7Fqg"
   },
   "outputs": [],
   "source": []
  }
 ],
 "metadata": {
  "colab": {
   "collapsed_sections": [],
   "name": "CIS_614_Homework_1.ipynb",
   "provenance": []
  },
  "kernelspec": {
   "display_name": "Python 3",
   "language": "python",
   "name": "python3"
  },
  "language_info": {
   "codemirror_mode": {
    "name": "ipython",
    "version": 3
   },
   "file_extension": ".py",
   "mimetype": "text/x-python",
   "name": "python",
   "nbconvert_exporter": "python",
   "pygments_lexer": "ipython3",
   "version": "3.8.6"
  }
 },
 "nbformat": 4,
 "nbformat_minor": 4
}
