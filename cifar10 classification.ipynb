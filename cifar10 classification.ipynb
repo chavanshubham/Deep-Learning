{
 "cells": [
  {
   "cell_type": "markdown",
   "metadata": {
    "id": "v9o0Q-_48Hk6"
   },
   "source": [
    "### Objectives:\n",
    "* Practice and implement feedforward, multi-layer networks and apply them to the CIFAR-10 dataset\n",
    "* Prepare image data for deep learning \n",
    "* Learn to use neural network basics (convex functions, loss functions, Gradient descent, Activation functions, Geometric representation)\n",
    "\n",
    "### Total Points Possible: 50"
   ]
  },
  {
   "cell_type": "markdown",
   "metadata": {
    "id": "fDOr_6nq_bvQ"
   },
   "source": [
    "##Part I: Introduction \n",
    "###1. Import the necessary packages from tensorflow for the following tasks.\n",
    "* Build a Sequential model\n",
    "* Use Dense hidden layers\n",
    "* Use Stochastic Gradient Descent(SDG) optimizer\n",
    "* Uuild classification report\n",
    "* Import **cifar10** dataset\n",
    " * from tensorflow.keras.datasets import cifar10 \n",
    "\n",
    "###2. Explore the details about datasets such as cifat10, cifar100\n",
    "* https://www.tensorflow.org/datasets/catalog/cifar10\n",
    "* https://keras.io/api/datasets/cifar10/\n",
    "\n",
    "###3. Understanding Data\n",
    "* Based on the exploration of datasets in Part I.2, there are 10 types of images in the dataset {\"airplane\", \"automobile\", \"bird\", \"cat\", \"deer\", \"dog\", \"frog\", \"horse\", \"ship\", \"truck\"} identified by the corresponding index numbers.\n",
    "* Load the cifar10 dataset into X_train, Y_train, X_test, and Y_test variables\n",
    "* Explore the shapes and sizes of the images\n",
    "* The images contain rgb components and are 3-dimensional.\n",
    "* Print a sample image data, it's dimenstions\n",
    "* Print the distinct labels of images in the dataset\n",
    "* Display the first 9 images in a neat format (use subplots) and the corresponding labels at the top of each image\n"
   ]
  },
  {
   "cell_type": "markdown",
   "metadata": {
    "id": "pzSoM_LeKdXQ"
   },
   "source": [
    "## Part 2: Preprocessing\n",
    "* Convert the pixel data into binary range (0 to 1)\n",
    "* Now, convert the 3D image to a vector\n",
    "* Also, apply one-hot encoding to convert the labels into vectors of length 10 using **LabelBinarizer** \n",
    "\n",
    "  * Note: https://scikit-learn.org/stable/modules/generated/sklearn.preprocessing.LabelBinarizer.html\n"
   ]
  },
  {
   "cell_type": "markdown",
   "metadata": {
    "id": "7fvDrEx-N71x"
   },
   "source": [
    "## Part 3: Define the model \n",
    "* Reading: \n",
    " * https://machinelearningmastery.com/choose-an-activation-function-for-deep-learning/\n",
    "  * https://machinelearningmastery.com/rectified-linear-activation-function-for-deep-learning-neural-networks/\n",
    "* Write a function ${build\\_model()}$ to define the architecture of the model using Keras using the following information:\n",
    " * The model is sequential.\n",
    " * $Hidden Layer 1$ contains 1024 Dense neurons, the activation function is $'relu'$ \n",
    " * $Hidden Layer 2$ contains 512 Dense neurons with the same activation function as hidden Layer 1\n",
    " * $Output Layer$ is Dense with $'softmax'$ activation function.\n"
   ]
  },
  {
   "cell_type": "markdown",
   "metadata": {
    "id": "G-gK7aEpRGz_"
   },
   "source": [
    "## Part 4:Train the model (compile and fit)\n",
    "* Reading:\n",
    " * https://machinelearningmastery.com/understand-the-dynamics-of-learning-rate-on-deep-learning-neural-networks/\n",
    " * https://machinelearningmastery.com/loss-and-loss-functions-for-training-deep-learning-neural-networks/\n",
    "* Train the model:\n",
    " * We use SGD optimizer to train the network with a learning rate set to 0.01, which is the intial choice, and display accuracy of the model.\n",
    " * Use 200 epoches of batch size = 32\n",
    " * The loss function can be of your choice.\n",
    "* Save your model for future :\n",
    " * Use model.save() to create a SavedModel folder `my_model`. SavedModel is the more comprehensive save format that saves the model architecture, weights, and the traced Tensorflow subgraphs of the call functions. It enables Keras to restore both built-in layers as well as custom objects. "
   ]
  },
  {
   "cell_type": "markdown",
   "metadata": {
    "id": "Mgg_tqDwUG85"
   },
   "source": [
    "## part 5: Evaluate the model\n",
    "* Once the model is trained, let us evaluate it on the testing data and obtain the final classification results including precision, recall, and f-1 score.\n",
    "* Plot the loss and accuracy values of training and testing your model.\n",
    "* Document your findings from the results."
   ]
  },
  {
   "cell_type": "markdown",
   "metadata": {
    "id": "48GKHEFx7Ama"
   },
   "source": [
    "## ** Your Code Follows **.\n",
    "* Include as many function defintions as you can and simply call the functions appropriately. It helps make your program precise.\n",
    "* For each of the five parts that you code, make your code functional and record your observation using appropriate comment lines such as multiline comments (''' Your comment ''').\n",
    "* It is important to comment all parts of your code based on code.\n",
    "Note: A list of useful reads befor you begin documentation:\n",
    " * https://www.python.org/dev/peps/pep-0008/\n",
    " * https://www.zenesys.com/blog/coding-standards-and-best-practices-for-python-code-quality\n",
    "* You can initially write your code im multiple cells and execute them sequentially. \n",
    "* Once the code works, put them all in one cell at the end of all your code and execute it as a single program with appropriate print statements to print all the outputs on one page."
   ]
  },
  {
   "cell_type": "markdown",
   "metadata": {
    "id": "-bW_T7Fu9rcT"
   },
   "source": [
    "### Importing necessary libraries\n"
   ]
  },
  {
   "cell_type": "code",
   "execution_count": 1,
   "metadata": {
    "id": "7zDkiVjc6kEi"
   },
   "outputs": [],
   "source": [
    "# PART I\n",
    "# 1.\n",
    "import tensorflow as tf\n",
    "from tensorflow import keras\n",
    "from tensorflow.python.keras import layers\n",
    "from tensorflow.keras.optimizers import SGD\n",
    "from sklearn.metrics import classification_report\n",
    "from sklearn.preprocessing import LabelBinarizer\n",
    "\n",
    "import seaborn as sns\n",
    "import matplotlib.pyplot as plt"
   ]
  },
  {
   "cell_type": "code",
   "execution_count": 2,
   "metadata": {
    "id": "3fBhy_jT_m7s"
   },
   "outputs": [],
   "source": [
    "from tensorflow.python.keras.models import Sequential, Model, load_model, save_model\n",
    "from tensorflow.python.keras.callbacks import ModelCheckpoint\n",
    "from tensorflow.python.keras.layers import Dense, Activation, Dropout\n",
    "# from tensorflow.keras.layers import GRU, Bidirectional, BatchNormalization, Reshape\n",
    "\n",
    "from tensorflow.python.keras.layers import Reshape, Dropout, Dense,Multiply, Dot, Concatenate,Embedding\n",
    "from tensorflow.python.keras import optimizers\n",
    "from tensorflow.python.keras.callbacks import ModelCheckpoint"
   ]
  },
  {
   "cell_type": "code",
   "execution_count": 3,
   "metadata": {
    "colab": {
     "base_uri": "https://localhost:8080/"
    },
    "id": "sFWFXoyZb8jI",
    "outputId": "25a1b0a2-0c09-4708-b630-fc702ecec42b"
   },
   "outputs": [
    {
     "name": "stdout",
     "output_type": "stream",
     "text": [
      "2.8.0\n"
     ]
    }
   ],
   "source": [
    "import tensorflow as tf\n",
    "import seaborn as sns\n",
    "import numpy as np\n",
    "import pandas as pd\n",
    "import matplotlib.pyplot as plt\n",
    "import matplotlib.image as mpimg\n",
    "import itertools\n",
    "\n",
    "print(tf.__version__)"
   ]
  },
  {
   "cell_type": "markdown",
   "metadata": {
    "id": "vnHsl_Dt96sB"
   },
   "source": [
    "### Importing the cifar10 dataset"
   ]
  },
  {
   "cell_type": "code",
   "execution_count": 4,
   "metadata": {
    "id": "fPPU2X-56jsC"
   },
   "outputs": [],
   "source": [
    "# Importing the cifar10 dataset\n",
    "\n",
    "from tensorflow.keras.datasets import cifar10"
   ]
  },
  {
   "cell_type": "code",
   "execution_count": 5,
   "metadata": {
    "colab": {
     "base_uri": "https://localhost:8080/"
    },
    "id": "7vNLGfCs_mHE",
    "outputId": "2ad69dd3-6872-484c-9397-af1faae08e81"
   },
   "outputs": [
    {
     "data": {
      "text/plain": [
       "<module 'keras.api._v2.keras.datasets.cifar10' from '/usr/local/lib/python3.7/dist-packages/keras/api/_v2/keras/datasets/cifar10/__init__.py'>"
      ]
     },
     "execution_count": 5,
     "metadata": {},
     "output_type": "execute_result"
    }
   ],
   "source": [
    "cifar10"
   ]
  },
  {
   "cell_type": "code",
   "execution_count": 6,
   "metadata": {
    "colab": {
     "base_uri": "https://localhost:8080/"
    },
    "id": "entOsGWt_mCe",
    "outputId": "e9de4e8b-e6bb-4041-e7a9-68299a0a372a"
   },
   "outputs": [
    {
     "name": "stdout",
     "output_type": "stream",
     "text": [
      "Downloading data from https://www.cs.toronto.edu/~kriz/cifar-10-python.tar.gz\n",
      "170500096/170498071 [==============================] - 3s 0us/step\n",
      "170508288/170498071 [==============================] - 3s 0us/step\n"
     ]
    }
   ],
   "source": [
    "(x_train, y_train), (x_test, y_test) = cifar10.load_data()"
   ]
  },
  {
   "cell_type": "code",
   "execution_count": 7,
   "metadata": {
    "colab": {
     "base_uri": "https://localhost:8080/"
    },
    "id": "NXdGRbs19j84",
    "outputId": "c3d45aa6-c9f3-4ac1-e7c9-be9839999dbe"
   },
   "outputs": [
    {
     "name": "stdout",
     "output_type": "stream",
     "text": [
      "Data shape: \n",
      "x_train: (50000, 32, 32, 3)\n",
      "y_train: (50000, 1)\n",
      "x_test: (10000, 32, 32, 3)\n",
      "y_test: (10000, 1)\n"
     ]
    }
   ],
   "source": [
    "# PART 1.2\n",
    "# Data shape\n",
    "\n",
    "print(\"Data shape: \\nx_train: {}\\ny_train: {}\\nx_test: {}\\ny_test: {}\"\n",
    "        .format(x_train.shape, y_train.shape, x_test.shape, y_test.shape))"
   ]
  },
  {
   "cell_type": "code",
   "execution_count": 8,
   "metadata": {
    "id": "ANa2QTPLjmVd"
   },
   "outputs": [],
   "source": [
    "y_train = y_train.flatten()\n",
    "y_test = y_test.flatten()"
   ]
  },
  {
   "cell_type": "code",
   "execution_count": 9,
   "metadata": {
    "colab": {
     "base_uri": "https://localhost:8080/"
    },
    "id": "e6ij1PnAjpFl",
    "outputId": "083af6db-53f6-4995-919c-48f7f287b866"
   },
   "outputs": [
    {
     "name": "stdout",
     "output_type": "stream",
     "text": [
      "Data shape: \n",
      "x_train: (50000, 32, 32, 3)\n",
      "y_train: (50000,)\n",
      "x_test: (10000, 32, 32, 3)\n",
      "y_test: (10000,)\n"
     ]
    }
   ],
   "source": [
    "print(\"Data shape: \\nx_train: {}\\ny_train: {}\\nx_test: {}\\ny_test: {}\"\n",
    "        .format(x_train.shape, y_train.shape, x_test.shape, y_test.shape))"
   ]
  },
  {
   "cell_type": "code",
   "execution_count": 10,
   "metadata": {
    "colab": {
     "base_uri": "https://localhost:8080/"
    },
    "id": "TG5Lo9Zu9j5f",
    "outputId": "1672d973-7a87-484b-9a90-d039dcc2e062"
   },
   "outputs": [
    {
     "name": "stdout",
     "output_type": "stream",
     "text": [
      "50000 train samples\n",
      "10000 test samples\n"
     ]
    }
   ],
   "source": [
    "print(x_train.shape[0], 'train samples')\n",
    "print(x_test.shape[0], 'test samples')"
   ]
  },
  {
   "cell_type": "markdown",
   "metadata": {
    "id": "XrR6aoVs-946"
   },
   "source": [
    "### Visualization"
   ]
  },
  {
   "cell_type": "code",
   "execution_count": 11,
   "metadata": {
    "colab": {
     "base_uri": "https://localhost:8080/",
     "height": 656
    },
    "id": "au5EVFJr9jwm",
    "outputId": "008268d4-bbb7-448f-9cea-d17221f3b1e5"
   },
   "outputs": [
    {
     "name": "stderr",
     "output_type": "stream",
     "text": [
      "/usr/local/lib/python3.7/dist-packages/seaborn/_decorators.py:43: FutureWarning: Pass the following variable as a keyword arg: x. From version 0.12, the only valid positional argument will be `data`, and passing other arguments without an explicit keyword will result in an error or misinterpretation.\n",
      "  FutureWarning\n"
     ]
    },
    {
     "data": {
      "text/plain": [
       "[[Text(0, 0, 'airplane'),\n",
       "  Text(0, 0, 'automobile'),\n",
       "  Text(0, 0, 'bird'),\n",
       "  Text(0, 0, 'cat'),\n",
       "  Text(0, 0, 'deer'),\n",
       "  Text(0, 0, 'dog'),\n",
       "  Text(0, 0, 'frog'),\n",
       "  Text(0, 0, 'horse'),\n",
       "  Text(0, 0, 'ship'),\n",
       "  Text(0, 0, 'truck')]]"
      ]
     },
     "execution_count": 11,
     "metadata": {},
     "output_type": "execute_result"
    },
    {
     "data": {
      "image/png": "[encoded data removed]",
      "text/plain": [
       "<Figure size 720x504 with 1 Axes>"
      ]
     },
     "metadata": {
      "needs_background": "light"
     },
     "output_type": "display_data"
    }
   ],
   "source": [
    "classes = ['airplane', 'automobile', 'bird', 'cat', 'deer', 'dog', 'frog', 'horse', 'ship', 'truck']\n",
    "\n",
    "plt.figure(figsize=(10,7))\n",
    "p = sns.countplot(y_train)\n",
    "p.set(xticklabels=classes)"
   ]
  },
  {
   "cell_type": "code",
   "execution_count": 12,
   "metadata": {
    "colab": {
     "base_uri": "https://localhost:8080/"
    },
    "id": "j8xzi1hlfyQ9",
    "outputId": "d6e1d62e-15af-412a-b70b-b97a33dbed2a"
   },
   "outputs": [
    {
     "data": {
      "text/plain": [
       "False"
      ]
     },
     "execution_count": 12,
     "metadata": {},
     "output_type": "execute_result"
    }
   ],
   "source": [
    "# Finding null values if present\n",
    "\n",
    "np.isnan(x_train).any()"
   ]
  },
  {
   "cell_type": "code",
   "execution_count": 13,
   "metadata": {
    "colab": {
     "base_uri": "https://localhost:8080/"
    },
    "id": "V9N5mmqLf1QV",
    "outputId": "86c2aee3-0e20-406a-8d98-647a43d5ebeb"
   },
   "outputs": [
    {
     "data": {
      "text/plain": [
       "False"
      ]
     },
     "execution_count": 13,
     "metadata": {},
     "output_type": "execute_result"
    }
   ],
   "source": [
    "np.isnan(x_test).any()"
   ]
  },
  {
   "cell_type": "code",
   "execution_count": 14,
   "metadata": {
    "id": "FglGi7kI9js_"
   },
   "outputs": [],
   "source": [
    "img = x_train[0]\n",
    "label = y_train[0]"
   ]
  },
  {
   "cell_type": "code",
   "execution_count": 15,
   "metadata": {
    "colab": {
     "base_uri": "https://localhost:8080/"
    },
    "id": "L1SaI7nU9jo4",
    "outputId": "d7bc93a0-3462-4c5c-c6f4-b0691d8cd644"
   },
   "outputs": [
    {
     "data": {
      "text/plain": [
       "array([[[ 59,  62,  63],\n",
       "        [ 43,  46,  45],\n",
       "        [ 50,  48,  43],\n",
       "        ...,\n",
       "        [158, 132, 108],\n",
       "        [152, 125, 102],\n",
       "        [148, 124, 103]],\n",
       "\n",
       "       [[ 16,  20,  20],\n",
       "        [  0,   0,   0],\n",
       "        [ 18,   8,   0],\n",
       "        ...,\n",
       "        [123,  88,  55],\n",
       "        [119,  83,  50],\n",
       "        [122,  87,  57]],\n",
       "\n",
       "       [[ 25,  24,  21],\n",
       "        [ 16,   7,   0],\n",
       "        [ 49,  27,   8],\n",
       "        ...,\n",
       "        [118,  84,  50],\n",
       "        [120,  84,  50],\n",
       "        [109,  73,  42]],\n",
       "\n",
       "       ...,\n",
       "\n",
       "       [[208, 170,  96],\n",
       "        [201, 153,  34],\n",
       "        [198, 161,  26],\n",
       "        ...,\n",
       "        [160, 133,  70],\n",
       "        [ 56,  31,   7],\n",
       "        [ 53,  34,  20]],\n",
       "\n",
       "       [[180, 139,  96],\n",
       "        [173, 123,  42],\n",
       "        [186, 144,  30],\n",
       "        ...,\n",
       "        [184, 148,  94],\n",
       "        [ 97,  62,  34],\n",
       "        [ 83,  53,  34]],\n",
       "\n",
       "       [[177, 144, 116],\n",
       "        [168, 129,  94],\n",
       "        [179, 142,  87],\n",
       "        ...,\n",
       "        [216, 184, 140],\n",
       "        [151, 118,  84],\n",
       "        [123,  92,  72]]], dtype=uint8)"
      ]
     },
     "execution_count": 15,
     "metadata": {},
     "output_type": "execute_result"
    }
   ],
   "source": [
    "img"
   ]
  },
  {
   "cell_type": "code",
   "execution_count": 16,
   "metadata": {
    "colab": {
     "base_uri": "https://localhost:8080/"
    },
    "id": "pOOUhIjf9jlj",
    "outputId": "d654f776-eadf-4b8a-9f17-78086c023804"
   },
   "outputs": [
    {
     "data": {
      "text/plain": [
       "6"
      ]
     },
     "execution_count": 16,
     "metadata": {},
     "output_type": "execute_result"
    }
   ],
   "source": [
    "label"
   ]
  },
  {
   "cell_type": "code",
   "execution_count": 17,
   "metadata": {
    "colab": {
     "base_uri": "https://localhost:8080/"
    },
    "id": "1sQKEv7a9jiR",
    "outputId": "ae18913f-1b70-408f-ad14-edff8ac35e97"
   },
   "outputs": [
    {
     "data": {
      "text/plain": [
       "array([0, 1, 2, 3, 4, 5, 6, 7, 8, 9], dtype=uint8)"
      ]
     },
     "execution_count": 17,
     "metadata": {},
     "output_type": "execute_result"
    }
   ],
   "source": [
    "import numpy as np\n",
    "np.unique(y_train)"
   ]
  },
  {
   "cell_type": "code",
   "execution_count": 18,
   "metadata": {
    "colab": {
     "base_uri": "https://localhost:8080/",
     "height": 266
    },
    "id": "4_S9eGKa9je3",
    "outputId": "b2b664f0-4ce4-4889-a19a-0ef41cc56376"
   },
   "outputs": [
    {
     "data": {
      "image/png": "[encoded data removed]",
      "text/plain": [
       "<Figure size 432x288 with 2 Axes>"
      ]
     },
     "metadata": {
      "needs_background": "light"
     },
     "output_type": "display_data"
    }
   ],
   "source": [
    "plt.figure()\n",
    "plt.imshow(x_train[2])\n",
    "plt.colorbar()\n",
    "plt.grid(False)\n",
    "\n",
    "plt.show()"
   ]
  },
  {
   "cell_type": "markdown",
   "metadata": {
    "id": "B-8fcCs2_JYH"
   },
   "source": [
    "### Sample images from dataset"
   ]
  },
  {
   "cell_type": "code",
   "execution_count": 19,
   "metadata": {
    "colab": {
     "base_uri": "https://localhost:8080/",
     "height": 281
    },
    "id": "zlubmnvX9jbk",
    "outputId": "05b200d4-5c71-433d-c9de-2c731d5b1b34"
   },
   "outputs": [
    {
     "data": {
      "image/png": "[encoded data removed]",
      "text/plain": [
       "<Figure size 432x288 with 9 Axes>"
      ]
     },
     "metadata": {
      "needs_background": "light"
     },
     "output_type": "display_data"
    }
   ],
   "source": [
    "for i in range(9):\n",
    "  # define subplot\n",
    "  plt.subplot(330 + 1 + i)\n",
    "  # plot raw pixel data\n",
    "  plt.imshow(x_train[i])\n",
    "  plt.title(y_train[i])\n",
    "plt.show()"
   ]
  },
  {
   "cell_type": "markdown",
   "metadata": {
    "id": "iFGZmNp0_Ml2"
   },
   "source": [
    "### Reshape and Normalization"
   ]
  },
  {
   "cell_type": "code",
   "execution_count": 20,
   "metadata": {
    "id": "DgUuRTQ49jQ0"
   },
   "outputs": [],
   "source": [
    "# Normalization\n",
    "\n",
    "input_shape = (32, 32, 3)\n",
    "\n",
    "x_train=x_train.reshape(x_train.shape[0], x_train.shape[1], x_train.shape[2], 3)\n",
    "x_train=x_train / 255.0\n",
    "x_test = x_test.reshape(x_test.shape[0], x_test.shape[1], x_test.shape[2], 3)\n",
    "x_test=x_test / 255.0"
   ]
  },
  {
   "cell_type": "code",
   "execution_count": 21,
   "metadata": {
    "colab": {
     "base_uri": "https://localhost:8080/"
    },
    "id": "hjCyS8-DhlDY",
    "outputId": "4e58d6c9-6525-4fc4-a48f-74f8f11e77a0"
   },
   "outputs": [
    {
     "data": {
      "text/plain": [
       "array([6, 9, 9, ..., 9, 1, 1], dtype=uint8)"
      ]
     },
     "execution_count": 21,
     "metadata": {},
     "output_type": "execute_result"
    }
   ],
   "source": [
    "y_train"
   ]
  },
  {
   "cell_type": "code",
   "execution_count": 22,
   "metadata": {
    "colab": {
     "base_uri": "https://localhost:8080/"
    },
    "id": "JRtVkWDuhnvN",
    "outputId": "b7ec03f2-71ab-4989-c1df-422a57560590"
   },
   "outputs": [
    {
     "data": {
      "text/plain": [
       "array([3, 8, 8, ..., 5, 1, 7], dtype=uint8)"
      ]
     },
     "execution_count": 22,
     "metadata": {},
     "output_type": "execute_result"
    }
   ],
   "source": [
    "y_test"
   ]
  },
  {
   "cell_type": "markdown",
   "metadata": {
    "id": "8tQhQ4-B_PeG"
   },
   "source": [
    "### Converting to tensors"
   ]
  },
  {
   "cell_type": "code",
   "execution_count": 23,
   "metadata": {
    "id": "psguQKwrt1J9"
   },
   "outputs": [],
   "source": [
    "x_train = tf.convert_to_tensor(x_train, dtype=tf.float32)\n",
    "x_test = tf.convert_to_tensor(x_test, dtype=tf.float32)\n",
    "y_train = tf.convert_to_tensor(y_train, dtype=tf.int32)\n",
    "y_test = tf.convert_to_tensor(y_test, dtype=tf.int32)"
   ]
  },
  {
   "cell_type": "markdown",
   "metadata": {
    "id": "-g-TSAAV_VK4"
   },
   "source": [
    "### One hot encoding using LabelBinarizer"
   ]
  },
  {
   "cell_type": "code",
   "execution_count": 24,
   "metadata": {
    "id": "wJAWTV4rt1Go"
   },
   "outputs": [],
   "source": [
    "lb = LabelBinarizer()\n",
    "y_train = lb.fit_transform(y_train)\n",
    "y_test = lb.transform(y_test)"
   ]
  },
  {
   "cell_type": "code",
   "execution_count": 25,
   "metadata": {
    "colab": {
     "base_uri": "https://localhost:8080/"
    },
    "id": "fQUnwQzkhsPy",
    "outputId": "9633a861-f0c1-477f-83b0-37ac2ebeeeed"
   },
   "outputs": [
    {
     "data": {
      "text/plain": [
       "(50000, 10)"
      ]
     },
     "execution_count": 25,
     "metadata": {},
     "output_type": "execute_result"
    }
   ],
   "source": [
    "y_train.shape"
   ]
  },
  {
   "cell_type": "code",
   "execution_count": 26,
   "metadata": {
    "colab": {
     "base_uri": "https://localhost:8080/"
    },
    "id": "wh1fi6FctCjn",
    "outputId": "40c4e4a1-1292-4827-f759-23f42dcc182d"
   },
   "outputs": [
    {
     "data": {
      "text/plain": [
       "(10000, 10)"
      ]
     },
     "execution_count": 26,
     "metadata": {},
     "output_type": "execute_result"
    }
   ],
   "source": [
    "y_test.shape"
   ]
  },
  {
   "cell_type": "code",
   "execution_count": 27,
   "metadata": {
    "colab": {
     "base_uri": "https://localhost:8080/"
    },
    "id": "0ZPAbZQStE6Q",
    "outputId": "de575ce6-357a-44b9-9693-d7f7150ac0d9"
   },
   "outputs": [
    {
     "data": {
      "text/plain": [
       "TensorShape([50000, 32, 32, 3])"
      ]
     },
     "execution_count": 27,
     "metadata": {},
     "output_type": "execute_result"
    }
   ],
   "source": [
    "x_train.shape"
   ]
  },
  {
   "cell_type": "code",
   "execution_count": 28,
   "metadata": {
    "colab": {
     "base_uri": "https://localhost:8080/"
    },
    "id": "Rxha9MFYtI7f",
    "outputId": "4ee3fc88-f438-422d-88ab-31be09e6a1ee"
   },
   "outputs": [
    {
     "data": {
      "text/plain": [
       "TensorShape([10000, 32, 32, 3])"
      ]
     },
     "execution_count": 28,
     "metadata": {},
     "output_type": "execute_result"
    }
   ],
   "source": [
    "x_test.shape"
   ]
  },
  {
   "cell_type": "code",
   "execution_count": 29,
   "metadata": {
    "colab": {
     "base_uri": "https://localhost:8080/"
    },
    "id": "aR98-SrghyV_",
    "outputId": "c244f39f-31a0-4e0b-d28b-a5a29c6dcbc3"
   },
   "outputs": [
    {
     "data": {
      "text/plain": [
       "array([[0, 0, 0, ..., 0, 0, 0],\n",
       "       [0, 0, 0, ..., 0, 1, 0],\n",
       "       [0, 0, 0, ..., 0, 1, 0],\n",
       "       ...,\n",
       "       [0, 0, 0, ..., 0, 0, 0],\n",
       "       [0, 1, 0, ..., 0, 0, 0],\n",
       "       [0, 0, 0, ..., 1, 0, 0]])"
      ]
     },
     "execution_count": 29,
     "metadata": {},
     "output_type": "execute_result"
    }
   ],
   "source": [
    "y_test"
   ]
  },
  {
   "cell_type": "code",
   "execution_count": 30,
   "metadata": {
    "colab": {
     "base_uri": "https://localhost:8080/"
    },
    "id": "_Bp1zbePiSNP",
    "outputId": "61da419a-4ae2-4a1b-8c0a-48b3921b7356"
   },
   "outputs": [
    {
     "data": {
      "text/plain": [
       "array([0, 0, 0, 0, 0, 0, 1, 0, 0, 0])"
      ]
     },
     "execution_count": 30,
     "metadata": {},
     "output_type": "execute_result"
    }
   ],
   "source": [
    "y_train[0]"
   ]
  },
  {
   "cell_type": "code",
   "execution_count": 31,
   "metadata": {
    "colab": {
     "base_uri": "https://localhost:8080/",
     "height": 283
    },
    "id": "Y9tRbrT_ihNg",
    "outputId": "be37e125-3542-4123-9182-a62ed59b3b2a"
   },
   "outputs": [
    {
     "name": "stdout",
     "output_type": "stream",
     "text": [
      "[0 0 0 0 1 0 0 0 0 0]\n"
     ]
    },
    {
     "data": {
      "image/png": "[encoded data removed]",
      "text/plain": [
       "<Figure size 432x288 with 1 Axes>"
      ]
     },
     "metadata": {
      "needs_background": "light"
     },
     "output_type": "display_data"
    }
   ],
   "source": [
    "plt.imshow(x_train[20])\n",
    "print(y_train[20])"
   ]
  },
  {
   "cell_type": "code",
   "execution_count": 32,
   "metadata": {
    "colab": {
     "base_uri": "https://localhost:8080/"
    },
    "id": "IcazODoGxRnG",
    "outputId": "b6e8a383-6792-4912-91e5-b34d99c7e7a3"
   },
   "outputs": [
    {
     "name": "stdout",
     "output_type": "stream",
     "text": [
      "Data shape: \n",
      "x_train: (50000, 32, 32, 3)\n",
      "y_train: (50000, 10)\n",
      "x_test: (10000, 32, 32, 3)\n",
      "y_test: (10000, 10)\n"
     ]
    }
   ],
   "source": [
    "print(\"Data shape: \\nx_train: {}\\ny_train: {}\\nx_test: {}\\ny_test: {}\"\n",
    "        .format(x_train.shape, y_train.shape, x_test.shape, y_test.shape))"
   ]
  },
  {
   "cell_type": "code",
   "execution_count": 33,
   "metadata": {
    "colab": {
     "base_uri": "https://localhost:8080/"
    },
    "id": "8WmBTGoqzj6G",
    "outputId": "667b1f89-6f0e-470d-bd7a-3d0cb9435573"
   },
   "outputs": [
    {
     "data": {
      "text/plain": [
       "<tf.Tensor: shape=(32, 32, 3), dtype=float32, numpy=\n",
       "array([[[0.23137255, 0.24313726, 0.24705882],\n",
       "        [0.16862746, 0.18039216, 0.1764706 ],\n",
       "        [0.19607843, 0.1882353 , 0.16862746],\n",
       "        ...,\n",
       "        [0.61960787, 0.5176471 , 0.42352942],\n",
       "        [0.59607846, 0.49019608, 0.4       ],\n",
       "        [0.5803922 , 0.4862745 , 0.40392157]],\n",
       "\n",
       "       [[0.0627451 , 0.07843138, 0.07843138],\n",
       "        [0.        , 0.        , 0.        ],\n",
       "        [0.07058824, 0.03137255, 0.        ],\n",
       "        ...,\n",
       "        [0.48235294, 0.34509805, 0.21568628],\n",
       "        [0.46666667, 0.3254902 , 0.19607843],\n",
       "        [0.47843137, 0.34117648, 0.22352941]],\n",
       "\n",
       "       [[0.09803922, 0.09411765, 0.08235294],\n",
       "        [0.0627451 , 0.02745098, 0.        ],\n",
       "        [0.19215687, 0.10588235, 0.03137255],\n",
       "        ...,\n",
       "        [0.4627451 , 0.32941177, 0.19607843],\n",
       "        [0.47058824, 0.32941177, 0.19607843],\n",
       "        [0.42745098, 0.28627452, 0.16470589]],\n",
       "\n",
       "       ...,\n",
       "\n",
       "       [[0.8156863 , 0.6666667 , 0.3764706 ],\n",
       "        [0.7882353 , 0.6       , 0.13333334],\n",
       "        [0.7764706 , 0.6313726 , 0.10196079],\n",
       "        ...,\n",
       "        [0.627451  , 0.52156866, 0.27450982],\n",
       "        [0.21960784, 0.12156863, 0.02745098],\n",
       "        [0.20784314, 0.13333334, 0.07843138]],\n",
       "\n",
       "       [[0.7058824 , 0.54509807, 0.3764706 ],\n",
       "        [0.6784314 , 0.48235294, 0.16470589],\n",
       "        [0.7294118 , 0.5647059 , 0.11764706],\n",
       "        ...,\n",
       "        [0.72156864, 0.5803922 , 0.36862746],\n",
       "        [0.38039216, 0.24313726, 0.13333334],\n",
       "        [0.3254902 , 0.20784314, 0.13333334]],\n",
       "\n",
       "       [[0.69411767, 0.5647059 , 0.45490196],\n",
       "        [0.65882355, 0.5058824 , 0.36862746],\n",
       "        [0.7019608 , 0.5568628 , 0.34117648],\n",
       "        ...,\n",
       "        [0.84705883, 0.72156864, 0.54901963],\n",
       "        [0.5921569 , 0.4627451 , 0.32941177],\n",
       "        [0.48235294, 0.36078432, 0.28235295]]], dtype=float32)>"
      ]
     },
     "execution_count": 33,
     "metadata": {},
     "output_type": "execute_result"
    }
   ],
   "source": [
    "x_train[0]"
   ]
  },
  {
   "cell_type": "code",
   "execution_count": 44,
   "metadata": {
    "id": "INJ3W9Azt1DQ"
   },
   "outputs": [],
   "source": [
    "batch_size = 32\n",
    "num_classes = 10\n",
    "epochs = 10\n",
    "\n",
    "# def build_model():\n",
    "\n",
    "#   model = keras.Sequential([\n",
    "#       layers.Dense(1024, activation=\"relu\", name = \"HiddenLayer1\"),\n",
    "#       layers.Dense(512, activation=\"relu\", name = \"HiddenLayer2\"),\n",
    "#       layers.Dense(10, activation=\"softmax\", name = \"OutputLayer\")\n",
    "#   ])\n",
    "\n",
    "#   return model"
   ]
  },
  {
   "cell_type": "markdown",
   "metadata": {
    "id": "SiwjZLyd_bef"
   },
   "source": [
    "### Creating model using keras\n",
    "\n",
    "Epochs - 10 for time purposes. For some reason my laptop was crashing after 14-15 epochs despite using Google Colab. Stochastic Gradient Descent optimizer."
   ]
  },
  {
   "cell_type": "code",
   "execution_count": 45,
   "metadata": {
    "id": "VniDi8jut1AM"
   },
   "outputs": [],
   "source": [
    "# model = build_model()\n",
    "\n",
    "model = tf.keras.models.Sequential([\n",
    "    tf.keras.layers.Conv2D(32, 3, padding='same', input_shape=x_train.shape[1:], activation='relu'),\n",
    "    tf.keras.layers.Conv2D(32, 3, activation='relu'),\n",
    "    tf.keras.layers.MaxPooling2D(),\n",
    "    tf.keras.layers.Dropout(0.25),\n",
    "\n",
    "    tf.keras.layers.Conv2D(64, 3, padding='same', activation='relu'),\n",
    "    tf.keras.layers.Conv2D(64, 3, activation='relu'),\n",
    "    tf.keras.layers.MaxPooling2D(),\n",
    "    tf.keras.layers.Dropout(0.25),\n",
    "\n",
    "    tf.keras.layers.Flatten(),\n",
    "    tf.keras.layers.Dense(1024, activation=\"relu\", name = \"HiddenLayer1\"),\n",
    "    tf.keras.layers.Dense(512, activation=\"relu\", name = \"HiddenLayer2\"),\n",
    "    tf.keras.layers.Dropout(0.5),\n",
    "    tf.keras.layers.Dense(num_classes, activation='softmax'),\n",
    "])\n",
    "\n",
    "# model = tf.keras.models.Sequential([\n",
    "#       tf.keras.layers.Dense(1024, activation=\"relu\", name = \"HiddenLayer1\"),\n",
    "#       tf.keras.layers.Dense(512, activation=\"relu\", name = \"HiddenLayer2\"),\n",
    "#       tf.keras.layers.Dense(10, activation=\"softmax\", name = \"OutputLayer\")\n",
    "#   ])\n",
    "\n",
    "model.compile(optimizer=tf.keras.optimizers.RMSprop(learning_rate=0.0001, decay=1e-06),\n",
    "            loss='categorical_crossentropy', metrics=['acc'])"
   ]
  },
  {
   "cell_type": "code",
   "execution_count": 46,
   "metadata": {
    "colab": {
     "base_uri": "https://localhost:8080/"
    },
    "id": "7q-4pjSqt09I",
    "outputId": "de8ea2f0-73fb-4c02-8a72-82a497011c4b"
   },
   "outputs": [
    {
     "data": {
      "text/plain": [
       "<keras.engine.sequential.Sequential at 0x7f5df2407c90>"
      ]
     },
     "execution_count": 46,
     "metadata": {},
     "output_type": "execute_result"
    }
   ],
   "source": [
    "model"
   ]
  },
  {
   "cell_type": "code",
   "execution_count": 47,
   "metadata": {
    "colab": {
     "base_uri": "https://localhost:8080/"
    },
    "id": "NaBBhSX9t042",
    "outputId": "47efb554-e852-4f4e-dec4-3a72bad739e1"
   },
   "outputs": [
    {
     "name": "stderr",
     "output_type": "stream",
     "text": [
      "/usr/local/lib/python3.7/dist-packages/keras/optimizer_v2/gradient_descent.py:102: UserWarning: The `lr` argument is deprecated, use `learning_rate` instead.\n",
      "  super(SGD, self).__init__(name, **kwargs)\n"
     ]
    }
   ],
   "source": [
    "opt = SGD(lr = 0.01)\n",
    "model.compile(optimizer=opt, loss='categorical_crossentropy', metrics=['accuracy'])"
   ]
  },
  {
   "cell_type": "markdown",
   "metadata": {
    "id": "Lcv0ZLTo_fcY"
   },
   "source": [
    "### Fitting model to data"
   ]
  },
  {
   "cell_type": "code",
   "execution_count": 48,
   "metadata": {
    "colab": {
     "base_uri": "https://localhost:8080/"
    },
    "id": "n0yqAEtEwhjp",
    "outputId": "c3f4dfa6-d181-4c56-fab9-335dbb610476"
   },
   "outputs": [
    {
     "name": "stdout",
     "output_type": "stream",
     "text": [
      "Epoch 1/10\n",
      "1563/1563 [==============================] - 334s 214ms/step - loss: 2.0776 - accuracy: 0.2260\n",
      "Epoch 2/10\n",
      "1563/1563 [==============================] - 277s 177ms/step - loss: 1.7240 - accuracy: 0.3686\n",
      "Epoch 3/10\n",
      "1563/1563 [==============================] - 280s 179ms/step - loss: 1.5372 - accuracy: 0.4393\n",
      "Epoch 4/10\n",
      "1563/1563 [==============================] - 281s 180ms/step - loss: 1.4093 - accuracy: 0.4901\n",
      "Epoch 5/10\n",
      "1563/1563 [==============================] - 277s 177ms/step - loss: 1.3217 - accuracy: 0.5271\n",
      "Epoch 6/10\n",
      "1563/1563 [==============================] - 275s 176ms/step - loss: 1.2492 - accuracy: 0.5539\n",
      "Epoch 7/10\n",
      "1563/1563 [==============================] - 276s 177ms/step - loss: 1.1861 - accuracy: 0.5790\n",
      "Epoch 8/10\n",
      "1563/1563 [==============================] - 277s 177ms/step - loss: 1.1192 - accuracy: 0.6049\n",
      "Epoch 9/10\n",
      "1563/1563 [==============================] - 275s 176ms/step - loss: 1.0685 - accuracy: 0.6205\n",
      "Epoch 10/10\n",
      "1563/1563 [==============================] - 275s 176ms/step - loss: 1.0198 - accuracy: 0.6374\n"
     ]
    }
   ],
   "source": [
    "history = model.fit(x_train, y_train, epochs=epochs, batch_size=batch_size)"
   ]
  },
  {
   "cell_type": "markdown",
   "metadata": {
    "id": "XdiQjEnj_mde"
   },
   "source": [
    "### Plotting loss and accuracy"
   ]
  },
  {
   "cell_type": "code",
   "execution_count": 50,
   "metadata": {
    "colab": {
     "base_uri": "https://localhost:8080/",
     "height": 265
    },
    "id": "M9bG3TQwwhfZ",
    "outputId": "e96f7c93-02dc-4bfe-b3ef-12d1fd49a651"
   },
   "outputs": [
    {
     "data": {
      "image/png": "[encoded data removed]",
      "text/plain": [
       "<Figure size 432x288 with 2 Axes>"
      ]
     },
     "metadata": {
      "needs_background": "light"
     },
     "output_type": "display_data"
    }
   ],
   "source": [
    "fig, ax = plt.subplots(2,1)\n",
    "ax[0].plot(history.history['loss'], color='b', label=\"Training Loss\")\n",
    "legend = ax[0].legend(loc='best', shadow=True)\n",
    "\n",
    "ax[1].plot(history.history['accuracy'], color='b', label=\"Training Accuracy\")\n",
    "legend = ax[1].legend(loc='best', shadow=True)"
   ]
  },
  {
   "cell_type": "code",
   "execution_count": 51,
   "metadata": {
    "colab": {
     "base_uri": "https://localhost:8080/"
    },
    "id": "edPWH8kRwhcG",
    "outputId": "1e161f40-72d4-409b-d49c-76838f37e4ec"
   },
   "outputs": [
    {
     "name": "stdout",
     "output_type": "stream",
     "text": [
      "313/313 [==============================] - 14s 45ms/step - loss: 0.9440 - accuracy: 0.6632\n"
     ]
    }
   ],
   "source": [
    "test_loss, test_acc = model.evaluate(x_test, y_test)"
   ]
  },
  {
   "cell_type": "markdown",
   "metadata": {
    "id": "wC-Ig3JB_tld"
   },
   "source": [
    "### Confusion matrix"
   ]
  },
  {
   "cell_type": "code",
   "execution_count": 52,
   "metadata": {
    "id": "b7Lx6IwfwhYc"
   },
   "outputs": [],
   "source": [
    "# Predict the values from the validation dataset\n",
    "y_pred = model.predict(x_test)\n",
    "# Convert predictions classes to one hot vectors \n",
    "y_pred_classes = np.argmax(y_pred,axis = 1) \n",
    "# Convert validation observations to one hot vectors\n",
    "y_true = np.argmax(y_test,axis = 1)\n",
    "# compute the confusion matrix\n",
    "confusion_mtx = tf.math.confusion_matrix(y_true, y_pred_classes)"
   ]
  },
  {
   "cell_type": "code",
   "execution_count": 53,
   "metadata": {
    "colab": {
     "base_uri": "https://localhost:8080/",
     "height": 884
    },
    "id": "1Mb3vgP1whOV",
    "outputId": "8215a693-8940-421a-c908-a4517eadf366"
   },
   "outputs": [
    {
     "data": {
      "text/plain": [
       "[[Text(0, 0.5, 'airplane'),\n",
       "  Text(0, 1.5, 'automobile'),\n",
       "  Text(0, 2.5, 'bird'),\n",
       "  Text(0, 3.5, 'cat'),\n",
       "  Text(0, 4.5, 'deer'),\n",
       "  Text(0, 5.5, 'dog'),\n",
       "  Text(0, 6.5, 'frog'),\n",
       "  Text(0, 7.5, 'horse'),\n",
       "  Text(0, 8.5, 'ship'),\n",
       "  Text(0, 9.5, 'truck')],\n",
       " [Text(0.5, 0, 'airplane'),\n",
       "  Text(1.5, 0, 'automobile'),\n",
       "  Text(2.5, 0, 'bird'),\n",
       "  Text(3.5, 0, 'cat'),\n",
       "  Text(4.5, 0, 'deer'),\n",
       "  Text(5.5, 0, 'dog'),\n",
       "  Text(6.5, 0, 'frog'),\n",
       "  Text(7.5, 0, 'horse'),\n",
       "  Text(8.5, 0, 'ship'),\n",
       "  Text(9.5, 0, 'truck')]]"
      ]
     },
     "execution_count": 53,
     "metadata": {},
     "output_type": "execute_result"
    },
    {
     "data": {
      "image/png": "[encoded data removed]",
      "text/plain": [
       "<Figure size 864x648 with 2 Axes>"
      ]
     },
     "metadata": {
      "needs_background": "light"
     },
     "output_type": "display_data"
    }
   ],
   "source": [
    "plt.figure(figsize=(12, 9))\n",
    "c = sns.heatmap(confusion_mtx, annot=True, fmt='g')\n",
    "c.set(xticklabels=classes, yticklabels=classes)"
   ]
  },
  {
   "cell_type": "code",
   "execution_count": null,
   "metadata": {
    "id": "kgrtcC0HwhC9"
   },
   "outputs": [],
   "source": []
  },
  {
   "cell_type": "markdown",
   "metadata": {
    "id": "S-2j-VSn6fWa"
   },
   "source": [
    "##END"
   ]
  }
 ],
 "metadata": {
  "colab": {
   "name": "Chavan_Shubham_CIS_614_Homework_2.ipynb",
   "provenance": []
  },
  "kernelspec": {
   "display_name": "Python 3",
   "language": "python",
   "name": "python3"
  },
  "language_info": {
   "codemirror_mode": {
    "name": "ipython",
    "version": 3
   },
   "file_extension": ".py",
   "mimetype": "text/x-python",
   "name": "python",
   "nbconvert_exporter": "python",
   "pygments_lexer": "ipython3",
   "version": "3.8.6"
  }
 },
 "nbformat": 4,
 "nbformat_minor": 4
}
