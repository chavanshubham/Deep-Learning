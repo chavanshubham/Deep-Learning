{
 "cells": [
  {
   "cell_type": "markdown",
   "metadata": {
    "graffitiCellId": "id_qq1t7ap",
    "id": "vcQXnov5eURb"
   },
   "source": [
    "## Dijkstra's Shortest Path Algorithm\n",
    "Suppose there is graph having nodes, where each node represents a city. A few pair of nodes are connected to each other, with their distance mentioned on the conneting edge, as shown in the figure below:\n",
    "<img style=\"float: center;height:250px;\" src=\"graph1.png\"><br>\n",
    "\n",
    "To find the shortest path from a given source to destination node in the example above, a Greedy approach would be - *At each current node, keep track of the nearest neighbour. We can determine the path in the reverse order once we have a table of nearest neighbours (optimal previous nodes).* For example, C is the optimal previous node for E. This way, the shortest path from `A` to `E` would be `A --> D --> C --> E`, as shown below:\n",
    "<img style=\"float: center;height:250px;\" src=\"graph2.png\"><br>\n",
    "\n",
    "And, if we wish to print the distance of each node from `A`, then it would look like:\n",
    "<img style=\"float: center;height:250px;\" src=\"graph3.png\"><br>\n",
    "\n",
    "Here, the **Previous Optimal Node** is the \"best\" node which could lead us to the current node. \n",
    "\n",
    "## The Problem\n",
    "Using Dijkstra's algorithm, find the shortest path to all the nodes starting from a given single source node.  You need to print the distance of each node from the given source node. For the example quoted above, the distance of each node from `A` would be printed as:<br>\n",
    "```\n",
    "{'A': 0, 'D': 2, 'B': 5, 'E': 4, 'C': 3, 'F': 6}\n",
    "```"
   ]
  },
  {
   "cell_type": "markdown",
   "metadata": {
    "graffitiCellId": "id_75htzek",
    "id": "l-GC-BqSeURg"
   },
   "source": [
    "## The Algorithm\n",
    "1. Create a `result` dictionary. At the end of the program, `result` will have the shortest distance (value) for all nodes (key) in the graph. For our example, it will become as `{'A': 0, 'B': 5, 'C': 3, 'D': 2, 'F': 6, 'E': 4}`<br><br>\n",
    "1. Start with the source node. Distance from source to source itself is 0.  <br><br>\n",
    "1. The distance to all other nodes from the source is unknown initially, therefore set the initial distance to infinity.  <br><br>\n",
    "1. Create a set `unvisited` containing nodes that have not been visited. Initially, it will have all nodes of the graph.<br><br>\n",
    "1. Create a `path` dictionary that keeps track of the previous node (value) that can lead to the current node (key). At the end of the program, for our example, it will become as `{'B': 'A', 'C': 'D', 'D': 'A', 'F': 'C', 'E': 'C'}`. <br><br>\n",
    "1. As long as `unvisited` is non-empty, repeat the following:\n",
    " - Find the unvisited node having smallest known distance from the source node.  <br><br>\n",
    " - For the current node, find all the **unvisited neighbours**. For this, you have calculate the distance of each unvisited neighbour.  <br><br>\n",
    " - If the calculated distance of the **unvisited neighbour** is less than the already known distance in `result` dictionary, update the shortest distance in the `result` dictionary. <br><br>\n",
    " - If there is an update in the `result` dictionary, you need to update the `path` dictionary as well for the same key. <br><br>\n",
    " - Remove the current node from the `unvisited` set."
   ]
  },
  {
   "cell_type": "code",
   "execution_count": 6,
   "metadata": {
    "graffitiCellId": "id_kowh9ph",
    "id": "s4VlHtbmeURh"
   },
   "outputs": [],
   "source": [
    "# Helper Code\n",
    "from collections import defaultdict\n",
    "class Graph:\n",
    "    def __init__(self):\n",
    "        self.nodes = set()                   # A set cannot contain duplicate nodes\n",
    "        self.neighbours = defaultdict(list)  # Defaultdict is a child class of Dictionary that provides a default value for a key that does not exists.\n",
    "        self.distances = {}                  # Dictionary. An example record as ('A', 'B'): 6 shows the distance between 'A' to 'B' is 6 units\n",
    "\n",
    "    def add_node(self, value):\n",
    "        self.nodes.add(value)\n",
    "\n",
    "    def add_edge(self, from_node, to_node, distance):\n",
    "        self.neighbours[from_node].append(to_node)\n",
    "        self.neighbours[to_node].append(from_node)\n",
    "        self.distances[(from_node, to_node)] = distance\n",
    "        self.distances[(to_node, from_node)] = distance    # lets make the graph undirected / bidirectional \n",
    "        \n",
    "    def print_graph(self):\n",
    "        print(\"Set of Nodes are: \", self.nodes)\n",
    "        print(\"Neighbours are: \", self.neighbours)\n",
    "        print(\"Distances are: \", self.distances)"
   ]
  },
  {
   "cell_type": "markdown",
   "metadata": {
    "graffitiCellId": "id_cgrnklc",
    "id": "Q1vR3BaseURj"
   },
   "source": [
    "###  Write the function definition here\n"
   ]
  },
  {
   "cell_type": "code",
   "execution_count": 7,
   "metadata": {
    "graffitiCellId": "id_lo3by3j",
    "id": "qe_kkNZ0eURj"
   },
   "outputs": [],
   "source": [
    "''' TO DO: Find the shortest path from the source node to every other node in the given graph \n",
    "def dijkstra(graph, source):\n",
    "    # Declare and initialize result, unvisited, and path\n",
    "\n",
    "    # As long as unvisited is non-empty\n",
    "    while unvisited: \n",
    "        \n",
    "        # 1. Find the unvisited node having smallest known distance from the source node.\n",
    "        \n",
    "        # 2. For the current node, find all the unvisited neighbours. For this, you have calculate the distance of each unvisited neighbour.\n",
    "        \n",
    "        # 3. If the calculated distance of the unvisited neighbour is less than the already known distance in result dictionary, update the shortest distance in the result dictionary.        \n",
    "\n",
    "        # 4. If there is an update in the result dictionary, you need to update the path dictionary as well for the same key.\n",
    "                    \n",
    "        # 5. Remove the current node from the unvisited set.\n",
    "\n",
    "    return result'''\n",
    "#works\n",
    "from collections import defaultdict\n",
    "import math\n",
    "class Graph:\n",
    "  def __init__(self):\n",
    "    self.nodes = set()\n",
    "    self.edges = defaultdict(list)\n",
    "    self.distances = {}\n",
    "\n",
    "  def add_node(self, value):\n",
    "    self.nodes.add(value)\n",
    "\n",
    "  def add_edge(self, from_node, to_node, distance):\n",
    "    self.edges[from_node].append(to_node)\n",
    "    self.edges[to_node].append(from_node)\n",
    "    self.distances[(from_node, to_node)] = distance\n",
    "\n",
    "\n",
    "def dijsktra(graph, initial):\n",
    "  visited = {initial: 0}\n",
    "  path = {}\n",
    "\n",
    "  nodes = set(graph.nodes)\n",
    "\n",
    "  while nodes: \n",
    "    min_node = None\n",
    "    for node in nodes:\n",
    "      if node in visited:\n",
    "        if min_node is None:\n",
    "          min_node = node\n",
    "        elif visited[node] < visited[min_node]:\n",
    "          min_node = node\n",
    "\n",
    "    if min_node is None:\n",
    "      break\n",
    "\n",
    "    nodes.remove(min_node)\n",
    "    current_weight = visited[min_node]\n",
    "\n",
    "    for edge in graph.edges[min_node]:\n",
    "      #weight = current_weight + graph.distance[(min_node, edge)]\n",
    "      try:\n",
    "        weight = current_weight + graph.distances[(min_node, edge)]\n",
    "      except:\n",
    "        weight = current_weight + math.inf\n",
    "      if edge not in visited or weight < visited[edge]:\n",
    "        visited[edge] = weight\n",
    "        path[edge] = min_node\n",
    "\n",
    "  return visited, path"
   ]
  },
  {
   "cell_type": "markdown",
   "metadata": {
    "graffitiCellId": "id_hae4wv9",
    "id": "5jEnTTYueURk"
   },
   "source": [
    "### Test - Let's test your function"
   ]
  },
  {
   "cell_type": "code",
   "execution_count": 8,
   "metadata": {
    "colab": {
     "base_uri": "https://localhost:8080/"
    },
    "graffitiCellId": "id_gh91otb",
    "id": "yLJWmjCGeURk",
    "outputId": "c019e39f-1602-4224-b3dc-bc668bb7b4d1"
   },
   "outputs": [
    {
     "name": "stdout",
     "output_type": "stream",
     "text": [
      "({'A': 0, 'B': 3, 'D': 2, 'E': 6, 'C': 4}, {'B': 'A', 'D': 'A', 'E': 'B', 'C': 'B'})\n"
     ]
    }
   ],
   "source": [
    "# Test 1\n",
    "testGraph = Graph()\n",
    "for node in ['A', 'B', 'C', 'D', 'E']:\n",
    "   testGraph.add_node(node)\n",
    "\n",
    "testGraph.add_edge('A','B',3)\n",
    "testGraph.add_edge('A','D',2)\n",
    "testGraph.add_edge('B','D',4)\n",
    "testGraph.add_edge('B','E',3)\n",
    "testGraph.add_edge('B','C',1)\n",
    "testGraph.add_edge('C','E',2)\n",
    "testGraph.add_edge('E','D',1)\n",
    "\n",
    "print(dijsktra(testGraph, 'A'))     # {'A': 0, 'D': 2, 'B': 3, 'E': 3, 'C': 4}"
   ]
  },
  {
   "cell_type": "code",
   "execution_count": 9,
   "metadata": {
    "colab": {
     "base_uri": "https://localhost:8080/"
    },
    "graffitiCellId": "id_i5pengy",
    "id": "hLqJKgBBeURl",
    "outputId": "6b5902bf-528a-43f5-a08a-6e12276912e9"
   },
   "outputs": [
    {
     "name": "stdout",
     "output_type": "stream",
     "text": [
      "({'A': 0, 'B': 5, 'C': 10}, {'B': 'A', 'C': 'A'})\n"
     ]
    }
   ],
   "source": [
    "# Test 2\n",
    "graph = Graph()\n",
    "for node in ['A', 'B', 'C']:\n",
    "    graph.add_node(node)\n",
    "    \n",
    "graph.add_edge('A', 'B', 5)\n",
    "graph.add_edge('B', 'C', 5)\n",
    "graph.add_edge('A', 'C', 10)\n",
    "\n",
    "print(dijsktra(graph, 'A'))        # {'A': 0, 'C': 10, 'B': 5}"
   ]
  },
  {
   "cell_type": "code",
   "execution_count": 10,
   "metadata": {
    "colab": {
     "base_uri": "https://localhost:8080/"
    },
    "graffitiCellId": "id_mna3duu",
    "id": "qezf2kjteURm",
    "outputId": "280bdc3f-621d-4c2d-ffc6-9db13a872642"
   },
   "outputs": [
    {
     "name": "stdout",
     "output_type": "stream",
     "text": [
      "({'A': 0, 'B': 5, 'C': 3, 'D': 2, 'F': 6, 'E': 4}, {'B': 'A', 'C': 'D', 'D': 'A', 'F': 'C', 'E': 'C'})\n"
     ]
    }
   ],
   "source": [
    "# Test 3\n",
    "graph = Graph()\n",
    "for node in ['A', 'B', 'C', 'D', 'E', 'F']:\n",
    "    graph.add_node(node)\n",
    "    \n",
    "graph.add_edge('A', 'B', 5)\n",
    "graph.add_edge('A', 'C', 4)\n",
    "graph.add_edge('D', 'C', 1)\n",
    "graph.add_edge('B', 'C', 2)\n",
    "graph.add_edge('A', 'D', 2)\n",
    "graph.add_edge('B', 'F', 2)\n",
    "graph.add_edge('C', 'F', 3)\n",
    "graph.add_edge('E', 'F', 2)\n",
    "graph.add_edge('C', 'E', 1)\n",
    "\n",
    "print(dijsktra(graph, 'A'))       # {'A': 0, 'C': 3, 'B': 5, 'E': 4, 'D': 2, 'F': 6}"
   ]
  },
  {
   "cell_type": "code",
   "execution_count": 10,
   "metadata": {
    "graffitiCellId": "id_xa1hrwg",
    "id": "nkcM6dvGeURm"
   },
   "outputs": [],
   "source": []
  }
 ],
 "metadata": {
  "colab": {
   "collapsed_sections": [],
   "name": "ShubhamChavan_Dijkstras_Shortest_Path_Algorithm.ipynb",
   "provenance": []
  },
  "graffiti": {
   "firstAuthorId": "af9e0b36-2ad2-11ea-83c4-a78dc7ef519f",
   "id": "id_muf5xfw",
   "language": "EN"
  },
  "kernelspec": {
   "display_name": "Python 3",
   "language": "python",
   "name": "python3"
  },
  "language_info": {
   "codemirror_mode": {
    "name": "ipython",
    "version": 3
   },
   "file_extension": ".py",
   "mimetype": "text/x-python",
   "name": "python",
   "nbconvert_exporter": "python",
   "pygments_lexer": "ipython3",
   "version": "3.8.6"
  }
 },
 "nbformat": 4,
 "nbformat_minor": 4
}
